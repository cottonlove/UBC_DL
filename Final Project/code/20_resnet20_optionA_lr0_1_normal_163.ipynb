{
  "nbformat": 4,
  "nbformat_minor": 0,
  "metadata": {
    "colab": {
      "provenance": []
    },
    "kernelspec": {
      "name": "python3",
      "display_name": "Python 3"
    },
    "language_info": {
      "name": "python"
    },
    "gpuClass": "standard",
    "accelerator": "GPU"
  },
  "cells": [
    {
      "cell_type": "code",
      "source": [
        "#javascript for console of Colab\n",
        "# function ClickConnect(){\n",
        "# \tconsole.log(\"Working\"); \n",
        "# \tdocument.querySelector(\"colab-toolbar-button\").click() \n",
        "# } setInterval(ClickConnect, 1800000)"
      ],
      "metadata": {
        "id": "02uV3LMunuEO"
      },
      "execution_count": null,
      "outputs": []
    },
    {
      "cell_type": "markdown",
      "source": [
        "# import Library"
      ],
      "metadata": {
        "id": "avUxKbWdlkrs"
      }
    },
    {
      "cell_type": "code",
      "execution_count": 1,
      "metadata": {
        "id": "ClYDMiZAkaJl"
      },
      "outputs": [],
      "source": [
        "import torch\n",
        "from torch import nn\n",
        "import torch.nn.functional as F\n",
        "from torch.utils.data import Dataset\n",
        "import torch.optim as optim\n",
        "import torchvision\n",
        "import torchvision.transforms as transforms\n",
        "from torch.utils.tensorboard import SummaryWriter\n",
        "\n",
        "from PIL import Image\n",
        "from collections import OrderedDict #for multiGPU\n",
        "from tqdm import tqdm\n",
        "\n",
        "import os\n",
        "import random\n",
        "import time"
      ]
    },
    {
      "cell_type": "markdown",
      "source": [
        "# GPU"
      ],
      "metadata": {
        "id": "7DWLUuBrmIGr"
      }
    },
    {
      "cell_type": "code",
      "source": [
        "# device = torch.device(\"mps\") if torch.backends.mps.is_available() else \"cpu\"\n",
        "#for colab\n",
        "device = 'cuda' if torch.cuda.is_available() else 'cpu'\n",
        "print(\"device is \", device)"
      ],
      "metadata": {
        "colab": {
          "base_uri": "https://localhost:8080/"
        },
        "id": "DUmOYDYrlvHr",
        "outputId": "3ac76e09-39e5-41f6-9e4d-ce3e42ba787b"
      },
      "execution_count": 2,
      "outputs": [
        {
          "output_type": "stream",
          "name": "stdout",
          "text": [
            "device is  cuda\n"
          ]
        }
      ]
    },
    {
      "cell_type": "markdown",
      "source": [
        "# Load Data"
      ],
      "metadata": {
        "id": "gtDha14hlyLk"
      }
    },
    {
      "cell_type": "code",
      "source": [
        "print(\"loading dataset\")\n",
        "\n",
        "data_transforms = {\n",
        "    'train' : transforms.Compose([ #horizontal flip, random crop, normalization           \n",
        "            #transforms.ToPILImage(),\n",
        "            # transforms.Resize((256,256)),\n",
        "            transforms.RandomCrop(32, padding = 4), #augmentation, input for ResNet\n",
        "            transforms.RandomHorizontalFlip(), #augmentation\n",
        "            transforms.ToTensor(),\n",
        "            transforms.Normalize((0.485, 0.456, 0.406), (0.229, 0.224, 0.225)), #with the per-pixel mean subtracted\n",
        "            #normalize = transforms.Normalize(mean=[0.485, 0.456, 0.406],\n",
        "                                     #std=[0.229, 0.224, 0.225])\n",
        "\n",
        "        ]) , \n",
        "        'test': transforms.Compose([\n",
        "            transforms.ToTensor(), #single view of the original 32x32 image\n",
        "            transforms.Normalize((0.485, 0.456, 0.406), (0.229, 0.224, 0.225)),\n",
        "        ])\n",
        "    }\n",
        "#access data_transforms['train']\n",
        "\n",
        "#dataloader (batch)\n",
        "train_set = torchvision.datasets.CIFAR10(\n",
        "    root='./data', train=True, download=True, transform = data_transforms['train']\n",
        ")\n",
        "trainloader = torch.utils.data.DataLoader(\n",
        "    train_set, batch_size = 128, shuffle = True, num_workers=2\n",
        ")\n",
        "\n",
        "test_set = torchvision.datasets.CIFAR10(\n",
        "    root='./data', train=False, download=True, transform=data_transforms['test'])\n",
        "testloader = torch.utils.data.DataLoader(\n",
        "    test_set, batch_size=100, shuffle=False, num_workers=2)\n",
        "\n",
        "#classes\n",
        "classes = ('plane', 'car', 'bird', 'cat', 'deer','dog', 'frog', 'horse', 'ship', 'truck')\n"
      ],
      "metadata": {
        "colab": {
          "base_uri": "https://localhost:8080/"
        },
        "id": "T9JCtIrElxK6",
        "outputId": "f9a29ea9-d9e1-4297-aebc-19efee53cac6"
      },
      "execution_count": 3,
      "outputs": [
        {
          "output_type": "stream",
          "name": "stdout",
          "text": [
            "loading dataset\n",
            "Downloading https://www.cs.toronto.edu/~kriz/cifar-10-python.tar.gz to ./data/cifar-10-python.tar.gz\n"
          ]
        },
        {
          "output_type": "stream",
          "name": "stderr",
          "text": [
            "100%|██████████| 170498071/170498071 [00:02<00:00, 70260544.12it/s]\n"
          ]
        },
        {
          "output_type": "stream",
          "name": "stdout",
          "text": [
            "Extracting ./data/cifar-10-python.tar.gz to ./data\n",
            "Files already downloaded and verified\n"
          ]
        }
      ]
    },
    {
      "cell_type": "code",
      "source": [
        "print(len(train_set))\n",
        "print(len(test_set))"
      ],
      "metadata": {
        "colab": {
          "base_uri": "https://localhost:8080/"
        },
        "id": "ik4GP6N0d2mc",
        "outputId": "b79a339c-ca1c-4472-ef8d-3fabcdb572b4"
      },
      "execution_count": null,
      "outputs": [
        {
          "output_type": "stream",
          "name": "stdout",
          "text": [
            "50000\n",
            "10000\n"
          ]
        }
      ]
    },
    {
      "cell_type": "markdown",
      "source": [
        "# epochs, iterations"
      ],
      "metadata": {
        "id": "Ew3WsdqcmHSY"
      }
    },
    {
      "cell_type": "code",
      "source": [
        "Iterations = 48000\n",
        "total_epochs = int(Iterations/len(trainloader))\n",
        "\n",
        "print(total_epochs)"
      ],
      "metadata": {
        "colab": {
          "base_uri": "https://localhost:8080/"
        },
        "id": "rg5ifDoZmJCB",
        "outputId": "25b527ef-dccc-4bfe-983e-5d6ba7d6f402"
      },
      "execution_count": null,
      "outputs": [
        {
          "output_type": "stream",
          "name": "stdout",
          "text": [
            "122\n"
          ]
        }
      ]
    },
    {
      "cell_type": "markdown",
      "source": [
        "# Model Architecture"
      ],
      "metadata": {
        "id": "MLL8kGiPlznr"
      }
    },
    {
      "cell_type": "code",
      "source": [
        "# x = torch.zeros(1,16,32,32)\n",
        "# k = nn.Conv2d(16, 16, kernel_size = 3, stride = 1, padding = 1, bias = False)\n",
        "# y = k(x)\n",
        "# print(y.shape)"
      ],
      "metadata": {
        "colab": {
          "base_uri": "https://localhost:8080/"
        },
        "id": "VTuo_vFHFJrH",
        "outputId": "e87b7f6a-24bb-4c97-dd25-0ecec5e1ca41"
      },
      "execution_count": null,
      "outputs": [
        {
          "output_type": "stream",
          "name": "stdout",
          "text": [
            "torch.Size([1, 16, 32, 32])\n"
          ]
        }
      ]
    },
    {
      "cell_type": "code",
      "source": [
        "# x = torch.zeros(1,16,32,32)\n",
        "# k = nn.Conv2d(16, 32, kernel_size = 3, stride = 2, padding = 1, bias = False)\n",
        "# y = k(x)\n",
        "# print(y.shape)"
      ],
      "metadata": {
        "colab": {
          "base_uri": "https://localhost:8080/"
        },
        "id": "QWJZpEa7G5AB",
        "outputId": "d44afba8-7fde-4a0f-a4a0-282579cee3be"
      },
      "execution_count": null,
      "outputs": [
        {
          "output_type": "stream",
          "name": "stdout",
          "text": [
            "torch.Size([1, 32, 16, 16])\n"
          ]
        }
      ]
    },
    {
      "cell_type": "code",
      "source": [
        "class optionA(nn.Module):\n",
        "  def __init__(self, func):\n",
        "    super(optionA, self).__init__()\n",
        "    self.func = func\n",
        "  \n",
        "  def forward(self, x):\n",
        "    return self.func(x)"
      ],
      "metadata": {
        "id": "QJVXz5NoY7nv"
      },
      "execution_count": 4,
      "outputs": []
    },
    {
      "cell_type": "code",
      "source": [
        "class Fx2_16(nn.Module):\n",
        "  def __init__(self):\n",
        "    super().__init__()\n",
        "    self.conv1 = nn.Sequential(\n",
        "        nn.Conv2d(16, 16, kernel_size = 3, stride = 1, padding = 1, bias = False),\n",
        "        nn.BatchNorm2d(16)\n",
        "    )\n",
        "    self.conv2 = nn.Sequential(\n",
        "        nn.Conv2d(16, 16, kernel_size = 3, stride = 1, padding = 1, bias = False),\n",
        "        nn.BatchNorm2d(16)\n",
        "    )\n",
        "    self.residual = nn.Sequential()\n",
        "  def forward(self, x):\n",
        "    out = F.relu(self.conv1(x))\n",
        "    out = self.conv2(out)\n",
        "    out +=self.residual(x)\n",
        "    out = F.relu(out)\n",
        "\n",
        "    return out"
      ],
      "metadata": {
        "id": "KdQI2L_xCo0y"
      },
      "execution_count": 5,
      "outputs": []
    },
    {
      "cell_type": "code",
      "source": [
        "class Fx2_32(nn.Module):\n",
        "  def __init__(self):\n",
        "    super().__init__()\n",
        "    self.conv1 = nn.Sequential(\n",
        "        nn.Conv2d(32, 32, kernel_size = 3, stride = 1, padding = 1, bias = False),\n",
        "        nn.BatchNorm2d(32)\n",
        "    )\n",
        "    self.conv2 = nn.Sequential(\n",
        "        nn.Conv2d(32, 32, kernel_size = 3, stride = 1, padding = 1, bias = False),\n",
        "        nn.BatchNorm2d(32),\n",
        "    )\n",
        "    self.residual = nn.Sequential()\n",
        "  \n",
        "  def forward(self, x):\n",
        "    out = F.relu(self.conv1(x))\n",
        "    out = self.conv2(out)\n",
        "    out += self.residual(x)\n",
        "    out = F.relu(out)\n",
        "    return out\n"
      ],
      "metadata": {
        "id": "U8Vt9JPGCpfo"
      },
      "execution_count": 6,
      "outputs": []
    },
    {
      "cell_type": "code",
      "source": [
        "class Fx2_64(nn.Module):\n",
        "  def __init__(self):\n",
        "    super().__init__()\n",
        "\n",
        "    self.conv1 = nn.Sequential(\n",
        "         nn.Conv2d(64, 64, kernel_size = 3, stride = 1, padding = 1, bias = False),\n",
        "        nn.BatchNorm2d(64)\n",
        "    )\n",
        "    self.conv2 = nn.Sequential(\n",
        "        nn.Conv2d(64, 64, kernel_size = 3, stride = 1, padding = 1, bias = False),\n",
        "        nn.BatchNorm2d(64)\n",
        "    )\n",
        "    self.residual = nn.Sequential()\n",
        "\n",
        "  def forward(self, x):\n",
        "    out = F.relu(self.conv1(x))\n",
        "    out = self.conv2(out)\n",
        "    out += self.residual(x)\n",
        "    out = F.relu(out)\n",
        "    return out"
      ],
      "metadata": {
        "id": "s6rYGB2eCq3O"
      },
      "execution_count": 7,
      "outputs": []
    },
    {
      "cell_type": "code",
      "source": [
        "#classes for Resnet20 Model\n",
        "class conv16 (nn.Module): #Blue\n",
        "  def __init__(self):\n",
        "    super().__init__()\n",
        "    self.Fx1 = Fx2_16()\n",
        "    self.Fx2 = Fx2_16()\n",
        "    self.Fx3 = Fx2_16()\n",
        "    \n",
        "  def forward(self,x):\n",
        "    x1 = self.Fx1(x) \n",
        "    x2 = self.Fx2(x1)\n",
        "    x3 = self.Fx3(x2) \n",
        " \n",
        "    return x3\n",
        "\n",
        "#classes for Resnet20 Model\n",
        "class conv32 (nn.Module): #Purple\n",
        "  def __init__(self):\n",
        "    super().__init__()\n",
        "    self.Fx1_1 = nn.Sequential(\n",
        "        #torch.nn.Conv2d(in_channels, out_channels, kernel_size, stride=1, padding=0, dilation=1, groups=1, bias=True, padding_mode='zeros', device=None, dtype=None)\n",
        "        nn.Conv2d(16, 32, kernel_size = 3, stride = 2, padding = 1, bias = False),\n",
        "        nn.BatchNorm2d(32))\n",
        "    self.Fx1_2 = nn.Sequential(\n",
        "        nn.Conv2d(32, 32, kernel_size = 3, stride = 1, padding = 1, bias = False),\n",
        "        nn.BatchNorm2d(32)\n",
        "    )\n",
        "    ##OptionB\n",
        "    # self.residual_mapping = nn.Sequential(\n",
        "    #     nn.Conv2d(16,32,kernel_size =1, stride = 2, bias= False),\n",
        "    #     nn.BatchNorm2d(32)\n",
        "    # )\n",
        "\n",
        "    ## OptionA\n",
        "    self.residual_mapping = optionA(lambda x: F.pad(x[:, :, ::2, ::2], (0, 0, 0, 0, 32//4, 32//4), \"constant\", 0))\n",
        "\n",
        "    self.Fx2 = Fx2_32()\n",
        "    self.Fx3 = Fx2_32()\n",
        "    \n",
        "  def forward(self,x):\n",
        "    out = F.relu(self.Fx1_1(x))\n",
        "    out = self.Fx1_2(out) \n",
        "    out += self.residual_mapping(x)\n",
        "    x1 = F.relu(out)\n",
        "\n",
        "    x2 = self.Fx2(x1) \n",
        "    x3 = self.Fx3(x2) \n",
        "\n",
        "    return x3\n",
        "\n",
        "#classes for Resnet20 Model\n",
        "class conv64 (nn.Module): #Green\n",
        "  def __init__(self):\n",
        "    super().__init__()\n",
        "    self.Fx1_1 = nn.Sequential(\n",
        "        #torch.nn.Conv2d(in_channels, out_channels, kernel_size, stride=1, padding=0, dilation=1, groups=1, bias=True, padding_mode='zeros', device=None, dtype=None)\n",
        "        nn.Conv2d(32, 64, kernel_size = 3, stride = 2, padding = 1, bias = False),\n",
        "        nn.BatchNorm2d(64)\n",
        "    )\n",
        "    self.Fx1_2 = nn.Sequential(\n",
        "        nn.Conv2d(64, 64, kernel_size = 3, stride = 1, padding = 1, bias = False),\n",
        "        nn.BatchNorm2d(64)\n",
        "    )\n",
        "    ##OptionB\n",
        "    # self.residual_mapping = nn.Sequential(\n",
        "    #     nn.Conv2d(32,64,kernel_size =1, stride = 2, bias= False),\n",
        "    #     nn.BatchNorm2d(64)\n",
        "    # )\n",
        "\n",
        "    ## OptionA\n",
        "    self.residual_mapping = optionA(lambda x: F.pad(x[:, :, ::2, ::2], (0, 0, 0, 0, 64//4, 64//4), \"constant\", 0))\n",
        "  \n",
        "    self.Fx2 = Fx2_64()\n",
        "    self.Fx3 = Fx2_64()\n",
        "    \n",
        "  def forward(self,x):\n",
        "    out = F.relu(self.Fx1_1(x))\n",
        "    out = self.Fx1_2(out)\n",
        "    out += self.residual_mapping(x)\n",
        "    x1 = F.relu(out)\n",
        "\n",
        "    x2 = self.Fx2(x1) \n",
        "    x3 = self.Fx3(x2) \n",
        "\n",
        "    return x3\n"
      ],
      "metadata": {
        "id": "IYBgJCTpl1jH"
      },
      "execution_count": 8,
      "outputs": []
    },
    {
      "cell_type": "code",
      "source": [
        "# x = torch.zeros(1,16,32,32)\n",
        "# k = conv16()\n",
        "# y = k(x)\n",
        "# print(y.shape)"
      ],
      "metadata": {
        "colab": {
          "base_uri": "https://localhost:8080/"
        },
        "id": "-F7aYRILI8Dr",
        "outputId": "f19263bd-e9d9-4ade-9524-ff1bc958d011"
      },
      "execution_count": null,
      "outputs": [
        {
          "output_type": "stream",
          "name": "stdout",
          "text": [
            "torch.Size([1, 16, 32, 32])\n"
          ]
        }
      ]
    },
    {
      "cell_type": "code",
      "source": [
        "# x = torch.zeros(1,16,32,32)\n",
        "# k = conv32()\n",
        "# y = k(x)\n",
        "# print(y.shape)"
      ],
      "metadata": {
        "colab": {
          "base_uri": "https://localhost:8080/"
        },
        "id": "_fd7433gJFnm",
        "outputId": "55f0198b-6967-4dc0-adcb-03984ceb3e9d"
      },
      "execution_count": null,
      "outputs": [
        {
          "output_type": "stream",
          "name": "stdout",
          "text": [
            "torch.Size([1, 16, 32, 32])\n",
            "torch.Size([1, 32, 16, 16])\n",
            "torch.Size([1, 32, 16, 16])\n",
            "torch.Size([1, 32, 16, 16])\n"
          ]
        }
      ]
    },
    {
      "cell_type": "code",
      "source": [
        "class MyModel(nn.Module): #ResNet20 architecture implementation\n",
        "    def __init__(self, conv2 = conv16, conv3 = conv32,\n",
        "            conv4 = conv64, num_classes = 10, init_weights = True): #num_classes\n",
        "        super().__init__()\n",
        "        self.conv1 = nn.Sequential(\n",
        "            nn.Conv2d(3, 16, kernel_size = 3, stride = 1, padding=1, bias = False),\n",
        "            nn.BatchNorm2d(16),\n",
        "            nn.ReLU(),\n",
        "        )\n",
        "        self.conv2 = conv2()\n",
        "        self.conv3 = conv3()\n",
        "        self.conv4 = conv4()\n",
        "        #self.avg_pool = nn.AdaptiveAvgPool2d((1,1))\n",
        "        self.fclayer = nn.Linear(64, num_classes)\n",
        "\n",
        "        if init_weights:\n",
        "            self.initialize_weights()\n",
        "    \n",
        "    # define weight initialization function\n",
        "    def initialize_weights(self):\n",
        "        for m in self.modules():\n",
        "            if isinstance(m, nn.Conv2d):\n",
        "                nn.init.kaiming_normal_(m.weight, mode='fan_out', nonlinearity='relu')\n",
        "                if m.bias is not None:\n",
        "                    nn.init.constant_(m.bias, 0)\n",
        "            elif isinstance(m, nn.BatchNorm2d):\n",
        "                nn.init.constant_(m.weight, 1)\n",
        "                nn.init.constant_(m.bias, 0)\n",
        "            elif isinstance(m, nn.Linear):\n",
        "                nn.init.normal_(m.weight, 0, 0.01)\n",
        "                nn.init.constant_(m.bias, 0) \n",
        "        \n",
        "    def forward(self, x):\n",
        "        x1 = self.conv1(x)\n",
        "        x2 = self.conv2(x1)\n",
        "        x3 = self.conv3(x2)\n",
        "        x4 = self.conv4(x3)\n",
        "        x = F.avg_pool2d(x4, x4.size()[3])\n",
        "        #x = self.avg_pool(x4)\n",
        "        x = x.view(x.size(0), -1)\n",
        "        output = self.fclayer(x)\n",
        "        return output"
      ],
      "metadata": {
        "id": "RQepHUbpDi29"
      },
      "execution_count": 9,
      "outputs": []
    },
    {
      "cell_type": "code",
      "source": [
        "from torchsummary import summary\n",
        "resnet20 = MyModel()\n",
        "summary(resnet20, (3,32,32))"
      ],
      "metadata": {
        "id": "Dl-SPgcqDjTE",
        "colab": {
          "base_uri": "https://localhost:8080/"
        },
        "outputId": "3332f8b7-f3d5-4ed2-add5-18e089acff52"
      },
      "execution_count": null,
      "outputs": [
        {
          "output_type": "stream",
          "name": "stdout",
          "text": [
            "----------------------------------------------------------------\n",
            "        Layer (type)               Output Shape         Param #\n",
            "================================================================\n",
            "            Conv2d-1           [-1, 16, 32, 32]             432\n",
            "       BatchNorm2d-2           [-1, 16, 32, 32]              32\n",
            "              ReLU-3           [-1, 16, 32, 32]               0\n",
            "            Conv2d-4           [-1, 16, 32, 32]           2,304\n",
            "       BatchNorm2d-5           [-1, 16, 32, 32]              32\n",
            "            Conv2d-6           [-1, 16, 32, 32]           2,304\n",
            "       BatchNorm2d-7           [-1, 16, 32, 32]              32\n",
            "            Fx2_16-8           [-1, 16, 32, 32]               0\n",
            "            Conv2d-9           [-1, 16, 32, 32]           2,304\n",
            "      BatchNorm2d-10           [-1, 16, 32, 32]              32\n",
            "           Conv2d-11           [-1, 16, 32, 32]           2,304\n",
            "      BatchNorm2d-12           [-1, 16, 32, 32]              32\n",
            "           Fx2_16-13           [-1, 16, 32, 32]               0\n",
            "           Conv2d-14           [-1, 16, 32, 32]           2,304\n",
            "      BatchNorm2d-15           [-1, 16, 32, 32]              32\n",
            "           Conv2d-16           [-1, 16, 32, 32]           2,304\n",
            "      BatchNorm2d-17           [-1, 16, 32, 32]              32\n",
            "           Fx2_16-18           [-1, 16, 32, 32]               0\n",
            "           conv16-19           [-1, 16, 32, 32]               0\n",
            "           Conv2d-20           [-1, 32, 16, 16]           4,608\n",
            "      BatchNorm2d-21           [-1, 32, 16, 16]              64\n",
            "           Conv2d-22           [-1, 32, 16, 16]           9,216\n",
            "      BatchNorm2d-23           [-1, 32, 16, 16]              64\n",
            "          optionA-24           [-1, 32, 16, 16]               0\n",
            "           Conv2d-25           [-1, 32, 16, 16]           9,216\n",
            "      BatchNorm2d-26           [-1, 32, 16, 16]              64\n",
            "           Conv2d-27           [-1, 32, 16, 16]           9,216\n",
            "      BatchNorm2d-28           [-1, 32, 16, 16]              64\n",
            "           Fx2_32-29           [-1, 32, 16, 16]               0\n",
            "           Conv2d-30           [-1, 32, 16, 16]           9,216\n",
            "      BatchNorm2d-31           [-1, 32, 16, 16]              64\n",
            "           Conv2d-32           [-1, 32, 16, 16]           9,216\n",
            "      BatchNorm2d-33           [-1, 32, 16, 16]              64\n",
            "           Fx2_32-34           [-1, 32, 16, 16]               0\n",
            "           conv32-35           [-1, 32, 16, 16]               0\n",
            "           Conv2d-36             [-1, 64, 8, 8]          18,432\n",
            "      BatchNorm2d-37             [-1, 64, 8, 8]             128\n",
            "           Conv2d-38             [-1, 64, 8, 8]          36,864\n",
            "      BatchNorm2d-39             [-1, 64, 8, 8]             128\n",
            "          optionA-40             [-1, 64, 8, 8]               0\n",
            "           Conv2d-41             [-1, 64, 8, 8]          36,864\n",
            "      BatchNorm2d-42             [-1, 64, 8, 8]             128\n",
            "           Conv2d-43             [-1, 64, 8, 8]          36,864\n",
            "      BatchNorm2d-44             [-1, 64, 8, 8]             128\n",
            "           Fx2_64-45             [-1, 64, 8, 8]               0\n",
            "           Conv2d-46             [-1, 64, 8, 8]          36,864\n",
            "      BatchNorm2d-47             [-1, 64, 8, 8]             128\n",
            "           Conv2d-48             [-1, 64, 8, 8]          36,864\n",
            "      BatchNorm2d-49             [-1, 64, 8, 8]             128\n",
            "           Fx2_64-50             [-1, 64, 8, 8]               0\n",
            "           conv64-51             [-1, 64, 8, 8]               0\n",
            "           Linear-52                   [-1, 10]             650\n",
            "================================================================\n",
            "Total params: 269,722\n",
            "Trainable params: 269,722\n",
            "Non-trainable params: 0\n",
            "----------------------------------------------------------------\n",
            "Input size (MB): 0.01\n",
            "Forward/backward pass size (MB): 3.88\n",
            "Params size (MB): 1.03\n",
            "Estimated Total Size (MB): 4.92\n",
            "----------------------------------------------------------------\n"
          ]
        }
      ]
    },
    {
      "cell_type": "code",
      "source": [
        "resnet20"
      ],
      "metadata": {
        "colab": {
          "base_uri": "https://localhost:8080/"
        },
        "id": "92MmbronDfVg",
        "outputId": "900a2eb7-7561-40bb-88ad-6cfd20e877aa"
      },
      "execution_count": null,
      "outputs": [
        {
          "output_type": "execute_result",
          "data": {
            "text/plain": [
              "MyModel(\n",
              "  (conv1): Sequential(\n",
              "    (0): Conv2d(3, 16, kernel_size=(3, 3), stride=(1, 1), padding=(1, 1), bias=False)\n",
              "    (1): BatchNorm2d(16, eps=1e-05, momentum=0.1, affine=True, track_running_stats=True)\n",
              "    (2): ReLU()\n",
              "  )\n",
              "  (conv2): conv16(\n",
              "    (Fx1): Fx2_16(\n",
              "      (conv1): Sequential(\n",
              "        (0): Conv2d(16, 16, kernel_size=(3, 3), stride=(1, 1), padding=(1, 1), bias=False)\n",
              "        (1): BatchNorm2d(16, eps=1e-05, momentum=0.1, affine=True, track_running_stats=True)\n",
              "      )\n",
              "      (conv2): Sequential(\n",
              "        (0): Conv2d(16, 16, kernel_size=(3, 3), stride=(1, 1), padding=(1, 1), bias=False)\n",
              "        (1): BatchNorm2d(16, eps=1e-05, momentum=0.1, affine=True, track_running_stats=True)\n",
              "      )\n",
              "      (residual): Sequential()\n",
              "    )\n",
              "    (Fx2): Fx2_16(\n",
              "      (conv1): Sequential(\n",
              "        (0): Conv2d(16, 16, kernel_size=(3, 3), stride=(1, 1), padding=(1, 1), bias=False)\n",
              "        (1): BatchNorm2d(16, eps=1e-05, momentum=0.1, affine=True, track_running_stats=True)\n",
              "      )\n",
              "      (conv2): Sequential(\n",
              "        (0): Conv2d(16, 16, kernel_size=(3, 3), stride=(1, 1), padding=(1, 1), bias=False)\n",
              "        (1): BatchNorm2d(16, eps=1e-05, momentum=0.1, affine=True, track_running_stats=True)\n",
              "      )\n",
              "      (residual): Sequential()\n",
              "    )\n",
              "    (Fx3): Fx2_16(\n",
              "      (conv1): Sequential(\n",
              "        (0): Conv2d(16, 16, kernel_size=(3, 3), stride=(1, 1), padding=(1, 1), bias=False)\n",
              "        (1): BatchNorm2d(16, eps=1e-05, momentum=0.1, affine=True, track_running_stats=True)\n",
              "      )\n",
              "      (conv2): Sequential(\n",
              "        (0): Conv2d(16, 16, kernel_size=(3, 3), stride=(1, 1), padding=(1, 1), bias=False)\n",
              "        (1): BatchNorm2d(16, eps=1e-05, momentum=0.1, affine=True, track_running_stats=True)\n",
              "      )\n",
              "      (residual): Sequential()\n",
              "    )\n",
              "  )\n",
              "  (conv3): conv32(\n",
              "    (Fx1_1): Sequential(\n",
              "      (0): Conv2d(16, 32, kernel_size=(3, 3), stride=(2, 2), padding=(1, 1), bias=False)\n",
              "      (1): BatchNorm2d(32, eps=1e-05, momentum=0.1, affine=True, track_running_stats=True)\n",
              "    )\n",
              "    (Fx1_2): Sequential(\n",
              "      (0): Conv2d(32, 32, kernel_size=(3, 3), stride=(1, 1), padding=(1, 1), bias=False)\n",
              "      (1): BatchNorm2d(32, eps=1e-05, momentum=0.1, affine=True, track_running_stats=True)\n",
              "    )\n",
              "    (residual_mapping): optionA()\n",
              "    (Fx2): Fx2_32(\n",
              "      (conv1): Sequential(\n",
              "        (0): Conv2d(32, 32, kernel_size=(3, 3), stride=(1, 1), padding=(1, 1), bias=False)\n",
              "        (1): BatchNorm2d(32, eps=1e-05, momentum=0.1, affine=True, track_running_stats=True)\n",
              "      )\n",
              "      (conv2): Sequential(\n",
              "        (0): Conv2d(32, 32, kernel_size=(3, 3), stride=(1, 1), padding=(1, 1), bias=False)\n",
              "        (1): BatchNorm2d(32, eps=1e-05, momentum=0.1, affine=True, track_running_stats=True)\n",
              "      )\n",
              "      (residual): Sequential()\n",
              "    )\n",
              "    (Fx3): Fx2_32(\n",
              "      (conv1): Sequential(\n",
              "        (0): Conv2d(32, 32, kernel_size=(3, 3), stride=(1, 1), padding=(1, 1), bias=False)\n",
              "        (1): BatchNorm2d(32, eps=1e-05, momentum=0.1, affine=True, track_running_stats=True)\n",
              "      )\n",
              "      (conv2): Sequential(\n",
              "        (0): Conv2d(32, 32, kernel_size=(3, 3), stride=(1, 1), padding=(1, 1), bias=False)\n",
              "        (1): BatchNorm2d(32, eps=1e-05, momentum=0.1, affine=True, track_running_stats=True)\n",
              "      )\n",
              "      (residual): Sequential()\n",
              "    )\n",
              "  )\n",
              "  (conv4): conv64(\n",
              "    (Fx1_1): Sequential(\n",
              "      (0): Conv2d(32, 64, kernel_size=(3, 3), stride=(2, 2), padding=(1, 1), bias=False)\n",
              "      (1): BatchNorm2d(64, eps=1e-05, momentum=0.1, affine=True, track_running_stats=True)\n",
              "    )\n",
              "    (Fx1_2): Sequential(\n",
              "      (0): Conv2d(64, 64, kernel_size=(3, 3), stride=(1, 1), padding=(1, 1), bias=False)\n",
              "      (1): BatchNorm2d(64, eps=1e-05, momentum=0.1, affine=True, track_running_stats=True)\n",
              "    )\n",
              "    (residual_mapping): optionA()\n",
              "    (Fx2): Fx2_64(\n",
              "      (conv1): Sequential(\n",
              "        (0): Conv2d(64, 64, kernel_size=(3, 3), stride=(1, 1), padding=(1, 1), bias=False)\n",
              "        (1): BatchNorm2d(64, eps=1e-05, momentum=0.1, affine=True, track_running_stats=True)\n",
              "      )\n",
              "      (conv2): Sequential(\n",
              "        (0): Conv2d(64, 64, kernel_size=(3, 3), stride=(1, 1), padding=(1, 1), bias=False)\n",
              "        (1): BatchNorm2d(64, eps=1e-05, momentum=0.1, affine=True, track_running_stats=True)\n",
              "      )\n",
              "      (residual): Sequential()\n",
              "    )\n",
              "    (Fx3): Fx2_64(\n",
              "      (conv1): Sequential(\n",
              "        (0): Conv2d(64, 64, kernel_size=(3, 3), stride=(1, 1), padding=(1, 1), bias=False)\n",
              "        (1): BatchNorm2d(64, eps=1e-05, momentum=0.1, affine=True, track_running_stats=True)\n",
              "      )\n",
              "      (conv2): Sequential(\n",
              "        (0): Conv2d(64, 64, kernel_size=(3, 3), stride=(1, 1), padding=(1, 1), bias=False)\n",
              "        (1): BatchNorm2d(64, eps=1e-05, momentum=0.1, affine=True, track_running_stats=True)\n",
              "      )\n",
              "      (residual): Sequential()\n",
              "    )\n",
              "  )\n",
              "  (fclayer): Linear(in_features=64, out_features=10, bias=True)\n",
              ")"
            ]
          },
          "metadata": {},
          "execution_count": 10
        }
      ]
    },
    {
      "cell_type": "markdown",
      "source": [
        "# Train"
      ],
      "metadata": {
        "id": "QNwA7M9Gl1zt"
      }
    },
    {
      "cell_type": "code",
      "source": [],
      "metadata": {
        "id": "DOo1a4dvKBCA"
      },
      "execution_count": null,
      "outputs": []
    },
    {
      "cell_type": "code",
      "source": [
        "# print(\"building model\")\n",
        "# net = MyModel()\n",
        "# net = net.to(device)"
      ],
      "metadata": {
        "colab": {
          "base_uri": "https://localhost:8080/"
        },
        "id": "LNgndP45gOK4",
        "outputId": "6a703a76-b2d9-4b57-bdde-cb8a05a754d5"
      },
      "execution_count": null,
      "outputs": [
        {
          "output_type": "stream",
          "name": "stdout",
          "text": [
            "building model\n"
          ]
        }
      ]
    },
    {
      "cell_type": "code",
      "source": [
        "# #get_model when loading model parameters trained w/ multi-gpu\n",
        "def get_model(model_name, checkpoint_path):\n",
        "    print(\"start loading model parameter\")\n",
        "    model = model_name()\n",
        "    state_dict = torch.load(checkpoint_path)\n",
        "\n",
        "    new_state_dict = OrderedDict()\n",
        "\n",
        "    for k, v in state_dict.items():\n",
        "        name = k.replace('module.', '')\n",
        "        new_state_dict[name] = v\n",
        "    model.load_state_dict(new_state_dict)\n",
        "    print(\"model parameter loaded\")\n",
        "    return model"
      ],
      "metadata": {
        "id": "gBOzAGhyev-H"
      },
      "execution_count": 10,
      "outputs": []
    },
    {
      "cell_type": "code",
      "source": [
        "\n",
        "def train(n_epochs, train_loader) :\n",
        " \n",
        "    epochs = n_epochs\n",
        "    train_dataloader = train_loader\n",
        "    #get current time -> folder name\n",
        "    train_date = time.strftime(\"%y%m%d_%H%M\", time.localtime(time.time()))\n",
        "    # print(train_date)\n",
        "\n",
        "    #log path for tensorboard\n",
        "    log_path = os.path.join(os.getcwd(),\"logs\",train_date)\n",
        "    print(\"log_path is {}\".format(log_path))\n",
        "\n",
        "    #model path to save '.pth'file\n",
        "    model_path = os.path.join(os.getcwd(),\"models\",train_date)\n",
        "    print(\"model_path is {}\".format(model_path))\n",
        "    if os.path.isdir(model_path) == False:\n",
        "            os.makedirs(model_path)\n",
        "\n",
        "    #writer for tensorboard\n",
        "    writer = SummaryWriter(log_path)\n",
        " \n",
        "    # whether available GPU\n",
        "    # device = torch.device(\"cuda:0\" if torch.cuda.is_available() else \"cpu\")\n",
        "    device = torch.device('cuda' if torch.cuda.is_available() else 'cpu')\n",
        "    #device = torch.device(\"mps\") if torch.backends.mps.is_available() else \"cpu\"\n",
        "    \n",
        "    #define model (처음부터 학습시)\n",
        "    print(\"처음부터 학습\")\n",
        "    model = MyModel()\n",
        "    if torch.cuda.device_count() > 1:\n",
        "        model = nn.DataParallel(model)\n",
        "    model.to(device)\n",
        "\n",
        "    ####### 이전 학습한거에 추가적으로 학습시\n",
        "    # print(\"이전에 하던거 부터 학습\")\n",
        "    # model_name = MyModel\n",
        "    # # /content/models/230412_2145/0.pth\n",
        "    # checkpoint_path = './12.pth'  #수정 필요\n",
        "    # model = get_model(model_name,checkpoint_path)\n",
        "    # model.to(device)\n",
        "\n",
        "    #######\n",
        "\n",
        "    #define loss funcion, optimizer, (scheduler)\n",
        "    criterion = nn.CrossEntropyLoss()\n",
        "    optimizer = optim.SGD(model.parameters(),lr=0.1, momentum=0.9,weight_decay=0.0001)\n",
        "    #lr = 0.025, momentum = 0.9, weight_decay = 0.0005(original)\n",
        "    scheduler = torch.optim.lr_scheduler.MultiStepLR(optimizer, milestones = [81,122], gamma = 0.1)\n",
        "    # 0.1 -> 0.01 (32K iterations = 81 epochs) -> 0.001 (48K iterations = 122 epochs)\n",
        "\n",
        "    print(\"start training\")\n",
        "    #Train\n",
        "    for epoch in range(epochs):\n",
        "        \n",
        "        model.train(True)\n",
        "        len_trainbatch = len(train_dataloader)\n",
        "\n",
        "        i = 0\n",
        "        for inputs, targets in tqdm(train_dataloader):\n",
        "            i = i+1\n",
        "            inputs, targets = inputs.to(device), targets.to(device)\n",
        "            outputs = model(inputs)\n",
        "            loss = criterion(outputs, targets)\n",
        "            optimizer.zero_grad()\n",
        "            loss.backward()\n",
        "            optimizer.step()\n",
        "            \n",
        "\n",
        "            writer.add_scalar('train/loss', loss.item(), epoch*len_trainbatch+i) #iterations\n",
        "\n",
        "        scheduler.step()    \n",
        "        print(\"train loss of {}th epoch is {}\".format(epoch,loss.item())) ## 수정 필요\n",
        " \n",
        "        # Save every N(30) epoch\n",
        "        save_epoch = 30\n",
        "        if save_epoch > 0 and epoch % save_epoch == save_epoch-1:\n",
        "            state_dict = model.state_dict()\n",
        "            torch.save(state_dict, os.path.join(model_path, str(epoch+1)+'.pth')) #epoch+1로 바꾸기\n",
        "        \n",
        "    print('Finished Training')\n",
        "\n",
        "    #save model after training\n",
        "    torch.save(model.state_dict(), './model.pth') \n",
        "\n",
        "   "
      ],
      "metadata": {
        "id": "rMh_qadHl2kG"
      },
      "execution_count": 11,
      "outputs": []
    },
    {
      "cell_type": "markdown",
      "source": [
        "# Main"
      ],
      "metadata": {
        "id": "q7yYrmj-l2_b"
      }
    },
    {
      "cell_type": "code",
      "source": [
        "\n",
        "def main() :\n",
        "\n",
        "    random.seed(53)\n",
        "    train(163, trainloader) #64k iterations = 163 epochs\n",
        "\n",
        "   \n",
        "\n",
        "if __name__ == '__main__':\n",
        "    main()"
      ],
      "metadata": {
        "colab": {
          "base_uri": "https://localhost:8080/"
        },
        "id": "Lh_SPNxYl5vm",
        "outputId": "edf88d68-3c54-4099-d4fb-a3f31e2310d8"
      },
      "execution_count": 12,
      "outputs": [
        {
          "metadata": {
            "tags": null
          },
          "name": "stdout",
          "output_type": "stream",
          "text": [
            "log_path is /content/logs/230417_0009\n",
            "model_path is /content/models/230417_0009\n",
            "처음부터 학습\n",
            "start training\n"
          ]
        },
        {
          "metadata": {
            "tags": null
          },
          "name": "stderr",
          "output_type": "stream",
          "text": [
            "100%|██████████| 391/391 [00:36<00:00, 10.73it/s]\n"
          ]
        },
        {
          "metadata": {
            "tags": null
          },
          "name": "stdout",
          "output_type": "stream",
          "text": [
            "train loss of 0th epoch is 1.0763870477676392\n"
          ]
        },
        {
          "metadata": {
            "tags": null
          },
          "name": "stderr",
          "output_type": "stream",
          "text": [
            "100%|██████████| 391/391 [00:27<00:00, 14.32it/s]\n"
          ]
        },
        {
          "metadata": {
            "tags": null
          },
          "name": "stdout",
          "output_type": "stream",
          "text": [
            "train loss of 1th epoch is 0.9113261103630066\n"
          ]
        },
        {
          "metadata": {
            "tags": null
          },
          "name": "stderr",
          "output_type": "stream",
          "text": [
            "100%|██████████| 391/391 [00:27<00:00, 14.42it/s]\n"
          ]
        },
        {
          "metadata": {
            "tags": null
          },
          "name": "stdout",
          "output_type": "stream",
          "text": [
            "train loss of 2th epoch is 0.7935523986816406\n"
          ]
        },
        {
          "metadata": {
            "tags": null
          },
          "name": "stderr",
          "output_type": "stream",
          "text": [
            "100%|██████████| 391/391 [00:27<00:00, 14.17it/s]\n"
          ]
        },
        {
          "metadata": {
            "tags": null
          },
          "name": "stdout",
          "output_type": "stream",
          "text": [
            "train loss of 3th epoch is 0.6975749135017395\n"
          ]
        },
        {
          "metadata": {
            "tags": null
          },
          "name": "stderr",
          "output_type": "stream",
          "text": [
            "100%|██████████| 391/391 [00:27<00:00, 14.23it/s]\n"
          ]
        },
        {
          "metadata": {
            "tags": null
          },
          "name": "stdout",
          "output_type": "stream",
          "text": [
            "train loss of 4th epoch is 0.7071053385734558\n"
          ]
        },
        {
          "metadata": {
            "tags": null
          },
          "name": "stderr",
          "output_type": "stream",
          "text": [
            "100%|██████████| 391/391 [00:27<00:00, 14.28it/s]\n"
          ]
        },
        {
          "metadata": {
            "tags": null
          },
          "name": "stdout",
          "output_type": "stream",
          "text": [
            "train loss of 5th epoch is 0.550421416759491\n"
          ]
        },
        {
          "metadata": {
            "tags": null
          },
          "name": "stderr",
          "output_type": "stream",
          "text": [
            "100%|██████████| 391/391 [00:27<00:00, 14.27it/s]\n"
          ]
        },
        {
          "metadata": {
            "tags": null
          },
          "name": "stdout",
          "output_type": "stream",
          "text": [
            "train loss of 6th epoch is 0.5025944709777832\n"
          ]
        },
        {
          "metadata": {
            "tags": null
          },
          "name": "stderr",
          "output_type": "stream",
          "text": [
            "100%|██████████| 391/391 [00:27<00:00, 14.18it/s]\n"
          ]
        },
        {
          "metadata": {
            "tags": null
          },
          "name": "stdout",
          "output_type": "stream",
          "text": [
            "train loss of 7th epoch is 0.3679409921169281\n"
          ]
        },
        {
          "metadata": {
            "tags": null
          },
          "name": "stderr",
          "output_type": "stream",
          "text": [
            "100%|██████████| 391/391 [00:27<00:00, 14.20it/s]\n"
          ]
        },
        {
          "metadata": {
            "tags": null
          },
          "name": "stdout",
          "output_type": "stream",
          "text": [
            "train loss of 8th epoch is 0.5335637927055359\n"
          ]
        },
        {
          "metadata": {
            "tags": null
          },
          "name": "stderr",
          "output_type": "stream",
          "text": [
            "100%|██████████| 391/391 [00:27<00:00, 14.15it/s]\n"
          ]
        },
        {
          "metadata": {
            "tags": null
          },
          "name": "stdout",
          "output_type": "stream",
          "text": [
            "train loss of 9th epoch is 0.40994420647621155\n"
          ]
        },
        {
          "metadata": {
            "tags": null
          },
          "name": "stderr",
          "output_type": "stream",
          "text": [
            "100%|██████████| 391/391 [00:27<00:00, 14.42it/s]\n"
          ]
        },
        {
          "metadata": {
            "tags": null
          },
          "name": "stdout",
          "output_type": "stream",
          "text": [
            "train loss of 10th epoch is 0.3918271064758301\n"
          ]
        },
        {
          "metadata": {
            "tags": null
          },
          "name": "stderr",
          "output_type": "stream",
          "text": [
            "100%|██████████| 391/391 [00:27<00:00, 14.27it/s]\n"
          ]
        },
        {
          "metadata": {
            "tags": null
          },
          "name": "stdout",
          "output_type": "stream",
          "text": [
            "train loss of 11th epoch is 0.4418517053127289\n"
          ]
        },
        {
          "metadata": {
            "tags": null
          },
          "name": "stderr",
          "output_type": "stream",
          "text": [
            "100%|██████████| 391/391 [00:27<00:00, 14.32it/s]\n"
          ]
        },
        {
          "metadata": {
            "tags": null
          },
          "name": "stdout",
          "output_type": "stream",
          "text": [
            "train loss of 12th epoch is 0.5215147137641907\n"
          ]
        },
        {
          "metadata": {
            "tags": null
          },
          "name": "stderr",
          "output_type": "stream",
          "text": [
            "100%|██████████| 391/391 [00:27<00:00, 14.44it/s]\n"
          ]
        },
        {
          "metadata": {
            "tags": null
          },
          "name": "stdout",
          "output_type": "stream",
          "text": [
            "train loss of 13th epoch is 0.38103044033050537\n"
          ]
        },
        {
          "metadata": {
            "tags": null
          },
          "name": "stderr",
          "output_type": "stream",
          "text": [
            "100%|██████████| 391/391 [00:26<00:00, 14.51it/s]\n"
          ]
        },
        {
          "metadata": {
            "tags": null
          },
          "name": "stdout",
          "output_type": "stream",
          "text": [
            "train loss of 14th epoch is 0.24819283187389374\n"
          ]
        },
        {
          "metadata": {
            "tags": null
          },
          "name": "stderr",
          "output_type": "stream",
          "text": [
            "100%|██████████| 391/391 [00:27<00:00, 14.39it/s]\n"
          ]
        },
        {
          "metadata": {
            "tags": null
          },
          "name": "stdout",
          "output_type": "stream",
          "text": [
            "train loss of 15th epoch is 0.45941418409347534\n"
          ]
        },
        {
          "metadata": {
            "tags": null
          },
          "name": "stderr",
          "output_type": "stream",
          "text": [
            "100%|██████████| 391/391 [00:27<00:00, 14.40it/s]\n"
          ]
        },
        {
          "metadata": {
            "tags": null
          },
          "name": "stdout",
          "output_type": "stream",
          "text": [
            "train loss of 16th epoch is 0.33980268239974976\n"
          ]
        },
        {
          "metadata": {
            "tags": null
          },
          "name": "stderr",
          "output_type": "stream",
          "text": [
            "100%|██████████| 391/391 [00:26<00:00, 14.49it/s]\n"
          ]
        },
        {
          "metadata": {
            "tags": null
          },
          "name": "stdout",
          "output_type": "stream",
          "text": [
            "train loss of 17th epoch is 0.5791303515434265\n"
          ]
        },
        {
          "metadata": {
            "tags": null
          },
          "name": "stderr",
          "output_type": "stream",
          "text": [
            "100%|██████████| 391/391 [00:26<00:00, 14.48it/s]\n"
          ]
        },
        {
          "metadata": {
            "tags": null
          },
          "name": "stdout",
          "output_type": "stream",
          "text": [
            "train loss of 18th epoch is 0.3840877413749695\n"
          ]
        },
        {
          "metadata": {
            "tags": null
          },
          "name": "stderr",
          "output_type": "stream",
          "text": [
            "100%|██████████| 391/391 [00:27<00:00, 14.46it/s]\n"
          ]
        },
        {
          "metadata": {
            "tags": null
          },
          "name": "stdout",
          "output_type": "stream",
          "text": [
            "train loss of 19th epoch is 0.3586638569831848\n"
          ]
        },
        {
          "metadata": {
            "tags": null
          },
          "name": "stderr",
          "output_type": "stream",
          "text": [
            "100%|██████████| 391/391 [00:27<00:00, 14.36it/s]\n"
          ]
        },
        {
          "metadata": {
            "tags": null
          },
          "name": "stdout",
          "output_type": "stream",
          "text": [
            "train loss of 20th epoch is 0.37702131271362305\n"
          ]
        },
        {
          "metadata": {
            "tags": null
          },
          "name": "stderr",
          "output_type": "stream",
          "text": [
            "100%|██████████| 391/391 [00:27<00:00, 14.31it/s]\n"
          ]
        },
        {
          "metadata": {
            "tags": null
          },
          "name": "stdout",
          "output_type": "stream",
          "text": [
            "train loss of 21th epoch is 0.2637298107147217\n"
          ]
        },
        {
          "metadata": {
            "tags": null
          },
          "name": "stderr",
          "output_type": "stream",
          "text": [
            "100%|██████████| 391/391 [00:27<00:00, 14.37it/s]\n"
          ]
        },
        {
          "metadata": {
            "tags": null
          },
          "name": "stdout",
          "output_type": "stream",
          "text": [
            "train loss of 22th epoch is 0.22816577553749084\n"
          ]
        },
        {
          "metadata": {
            "tags": null
          },
          "name": "stderr",
          "output_type": "stream",
          "text": [
            "100%|██████████| 391/391 [00:27<00:00, 14.33it/s]\n"
          ]
        },
        {
          "metadata": {
            "tags": null
          },
          "name": "stdout",
          "output_type": "stream",
          "text": [
            "train loss of 23th epoch is 0.22753708064556122\n"
          ]
        },
        {
          "metadata": {
            "tags": null
          },
          "name": "stderr",
          "output_type": "stream",
          "text": [
            "100%|██████████| 391/391 [00:27<00:00, 14.40it/s]\n"
          ]
        },
        {
          "metadata": {
            "tags": null
          },
          "name": "stdout",
          "output_type": "stream",
          "text": [
            "train loss of 24th epoch is 0.2480258196592331\n"
          ]
        },
        {
          "metadata": {
            "tags": null
          },
          "name": "stderr",
          "output_type": "stream",
          "text": [
            "100%|██████████| 391/391 [00:27<00:00, 14.33it/s]\n"
          ]
        },
        {
          "metadata": {
            "tags": null
          },
          "name": "stdout",
          "output_type": "stream",
          "text": [
            "train loss of 25th epoch is 0.3981630504131317\n"
          ]
        },
        {
          "metadata": {
            "tags": null
          },
          "name": "stderr",
          "output_type": "stream",
          "text": [
            "100%|██████████| 391/391 [00:27<00:00, 14.45it/s]\n"
          ]
        },
        {
          "metadata": {
            "tags": null
          },
          "name": "stdout",
          "output_type": "stream",
          "text": [
            "train loss of 26th epoch is 0.5129622220993042\n"
          ]
        },
        {
          "metadata": {
            "tags": null
          },
          "name": "stderr",
          "output_type": "stream",
          "text": [
            "100%|██████████| 391/391 [00:27<00:00, 14.36it/s]\n"
          ]
        },
        {
          "metadata": {
            "tags": null
          },
          "name": "stdout",
          "output_type": "stream",
          "text": [
            "train loss of 27th epoch is 0.21013765037059784\n"
          ]
        },
        {
          "metadata": {
            "tags": null
          },
          "name": "stderr",
          "output_type": "stream",
          "text": [
            "100%|██████████| 391/391 [00:27<00:00, 14.29it/s]\n"
          ]
        },
        {
          "metadata": {
            "tags": null
          },
          "name": "stdout",
          "output_type": "stream",
          "text": [
            "train loss of 28th epoch is 0.3162614107131958\n"
          ]
        },
        {
          "metadata": {
            "tags": null
          },
          "name": "stderr",
          "output_type": "stream",
          "text": [
            "100%|██████████| 391/391 [00:27<00:00, 14.28it/s]\n"
          ]
        },
        {
          "metadata": {
            "tags": null
          },
          "name": "stdout",
          "output_type": "stream",
          "text": [
            "train loss of 29th epoch is 0.3651740849018097\n"
          ]
        },
        {
          "metadata": {
            "tags": null
          },
          "name": "stderr",
          "output_type": "stream",
          "text": [
            "100%|██████████| 391/391 [00:27<00:00, 14.34it/s]\n"
          ]
        },
        {
          "metadata": {
            "tags": null
          },
          "name": "stdout",
          "output_type": "stream",
          "text": [
            "train loss of 30th epoch is 0.19125953316688538\n"
          ]
        },
        {
          "metadata": {
            "tags": null
          },
          "name": "stderr",
          "output_type": "stream",
          "text": [
            "100%|██████████| 391/391 [00:27<00:00, 14.17it/s]\n"
          ]
        },
        {
          "metadata": {
            "tags": null
          },
          "name": "stdout",
          "output_type": "stream",
          "text": [
            "train loss of 31th epoch is 0.3599313199520111\n"
          ]
        },
        {
          "metadata": {
            "tags": null
          },
          "name": "stderr",
          "output_type": "stream",
          "text": [
            "100%|██████████| 391/391 [00:27<00:00, 14.33it/s]\n"
          ]
        },
        {
          "metadata": {
            "tags": null
          },
          "name": "stdout",
          "output_type": "stream",
          "text": [
            "train loss of 32th epoch is 0.22059869766235352\n"
          ]
        },
        {
          "metadata": {
            "tags": null
          },
          "name": "stderr",
          "output_type": "stream",
          "text": [
            "100%|██████████| 391/391 [00:26<00:00, 14.50it/s]\n"
          ]
        },
        {
          "metadata": {
            "tags": null
          },
          "name": "stdout",
          "output_type": "stream",
          "text": [
            "train loss of 33th epoch is 0.47624802589416504\n"
          ]
        },
        {
          "metadata": {
            "tags": null
          },
          "name": "stderr",
          "output_type": "stream",
          "text": [
            "100%|██████████| 391/391 [00:27<00:00, 14.43it/s]\n"
          ]
        },
        {
          "metadata": {
            "tags": null
          },
          "name": "stdout",
          "output_type": "stream",
          "text": [
            "train loss of 34th epoch is 0.21259406208992004\n"
          ]
        },
        {
          "metadata": {
            "tags": null
          },
          "name": "stderr",
          "output_type": "stream",
          "text": [
            "100%|██████████| 391/391 [00:27<00:00, 14.45it/s]\n"
          ]
        },
        {
          "metadata": {
            "tags": null
          },
          "name": "stdout",
          "output_type": "stream",
          "text": [
            "train loss of 35th epoch is 0.22828619182109833\n"
          ]
        },
        {
          "metadata": {
            "tags": null
          },
          "name": "stderr",
          "output_type": "stream",
          "text": [
            "100%|██████████| 391/391 [00:27<00:00, 14.25it/s]\n"
          ]
        },
        {
          "metadata": {
            "tags": null
          },
          "name": "stdout",
          "output_type": "stream",
          "text": [
            "train loss of 36th epoch is 0.29365068674087524\n"
          ]
        },
        {
          "metadata": {
            "tags": null
          },
          "name": "stderr",
          "output_type": "stream",
          "text": [
            "100%|██████████| 391/391 [00:27<00:00, 14.31it/s]\n"
          ]
        },
        {
          "metadata": {
            "tags": null
          },
          "name": "stdout",
          "output_type": "stream",
          "text": [
            "train loss of 37th epoch is 0.37277698516845703\n"
          ]
        },
        {
          "metadata": {
            "tags": null
          },
          "name": "stderr",
          "output_type": "stream",
          "text": [
            "100%|██████████| 391/391 [00:27<00:00, 14.31it/s]\n"
          ]
        },
        {
          "metadata": {
            "tags": null
          },
          "name": "stdout",
          "output_type": "stream",
          "text": [
            "train loss of 38th epoch is 0.26651519536972046\n"
          ]
        },
        {
          "metadata": {
            "tags": null
          },
          "name": "stderr",
          "output_type": "stream",
          "text": [
            "100%|██████████| 391/391 [00:27<00:00, 14.16it/s]\n"
          ]
        },
        {
          "metadata": {
            "tags": null
          },
          "name": "stdout",
          "output_type": "stream",
          "text": [
            "train loss of 39th epoch is 0.17823240160942078\n"
          ]
        },
        {
          "metadata": {
            "tags": null
          },
          "name": "stderr",
          "output_type": "stream",
          "text": [
            "100%|██████████| 391/391 [00:28<00:00, 13.88it/s]\n"
          ]
        },
        {
          "metadata": {
            "tags": null
          },
          "name": "stdout",
          "output_type": "stream",
          "text": [
            "train loss of 40th epoch is 0.12389031797647476\n"
          ]
        },
        {
          "metadata": {
            "tags": null
          },
          "name": "stderr",
          "output_type": "stream",
          "text": [
            "100%|██████████| 391/391 [00:27<00:00, 14.23it/s]\n"
          ]
        },
        {
          "metadata": {
            "tags": null
          },
          "name": "stdout",
          "output_type": "stream",
          "text": [
            "train loss of 41th epoch is 0.353776752948761\n"
          ]
        },
        {
          "metadata": {
            "tags": null
          },
          "name": "stderr",
          "output_type": "stream",
          "text": [
            "100%|██████████| 391/391 [00:27<00:00, 14.39it/s]\n"
          ]
        },
        {
          "metadata": {
            "tags": null
          },
          "name": "stdout",
          "output_type": "stream",
          "text": [
            "train loss of 42th epoch is 0.28888192772865295\n"
          ]
        },
        {
          "metadata": {
            "tags": null
          },
          "name": "stderr",
          "output_type": "stream",
          "text": [
            "100%|██████████| 391/391 [00:27<00:00, 14.39it/s]\n"
          ]
        },
        {
          "metadata": {
            "tags": null
          },
          "name": "stdout",
          "output_type": "stream",
          "text": [
            "train loss of 43th epoch is 0.4029621481895447\n"
          ]
        },
        {
          "metadata": {
            "tags": null
          },
          "name": "stderr",
          "output_type": "stream",
          "text": [
            "100%|██████████| 391/391 [00:27<00:00, 14.41it/s]\n"
          ]
        },
        {
          "metadata": {
            "tags": null
          },
          "name": "stdout",
          "output_type": "stream",
          "text": [
            "train loss of 44th epoch is 0.29007840156555176\n"
          ]
        },
        {
          "metadata": {
            "tags": null
          },
          "name": "stderr",
          "output_type": "stream",
          "text": [
            "100%|██████████| 391/391 [00:27<00:00, 14.39it/s]\n"
          ]
        },
        {
          "metadata": {
            "tags": null
          },
          "name": "stdout",
          "output_type": "stream",
          "text": [
            "train loss of 45th epoch is 0.1798766404390335\n"
          ]
        },
        {
          "metadata": {
            "tags": null
          },
          "name": "stderr",
          "output_type": "stream",
          "text": [
            "100%|██████████| 391/391 [00:26<00:00, 14.48it/s]\n"
          ]
        },
        {
          "metadata": {
            "tags": null
          },
          "name": "stdout",
          "output_type": "stream",
          "text": [
            "train loss of 46th epoch is 0.1956147998571396\n"
          ]
        },
        {
          "metadata": {
            "tags": null
          },
          "name": "stderr",
          "output_type": "stream",
          "text": [
            "100%|██████████| 391/391 [00:27<00:00, 14.37it/s]\n"
          ]
        },
        {
          "metadata": {
            "tags": null
          },
          "name": "stdout",
          "output_type": "stream",
          "text": [
            "train loss of 47th epoch is 0.2774374186992645\n"
          ]
        },
        {
          "metadata": {
            "tags": null
          },
          "name": "stderr",
          "output_type": "stream",
          "text": [
            "100%|██████████| 391/391 [00:27<00:00, 14.23it/s]\n"
          ]
        },
        {
          "metadata": {
            "tags": null
          },
          "name": "stdout",
          "output_type": "stream",
          "text": [
            "train loss of 48th epoch is 0.38805148005485535\n"
          ]
        },
        {
          "metadata": {
            "tags": null
          },
          "name": "stderr",
          "output_type": "stream",
          "text": [
            "100%|██████████| 391/391 [00:27<00:00, 14.44it/s]\n"
          ]
        },
        {
          "metadata": {
            "tags": null
          },
          "name": "stdout",
          "output_type": "stream",
          "text": [
            "train loss of 49th epoch is 0.35837075114250183\n"
          ]
        },
        {
          "metadata": {
            "tags": null
          },
          "name": "stderr",
          "output_type": "stream",
          "text": [
            "100%|██████████| 391/391 [00:27<00:00, 14.28it/s]\n"
          ]
        },
        {
          "metadata": {
            "tags": null
          },
          "name": "stdout",
          "output_type": "stream",
          "text": [
            "train loss of 50th epoch is 0.21387335658073425\n"
          ]
        },
        {
          "metadata": {
            "tags": null
          },
          "name": "stderr",
          "output_type": "stream",
          "text": [
            "100%|██████████| 391/391 [00:27<00:00, 14.46it/s]\n"
          ]
        },
        {
          "metadata": {
            "tags": null
          },
          "name": "stdout",
          "output_type": "stream",
          "text": [
            "train loss of 51th epoch is 0.19600890576839447\n"
          ]
        },
        {
          "metadata": {
            "tags": null
          },
          "name": "stderr",
          "output_type": "stream",
          "text": [
            "100%|██████████| 391/391 [00:26<00:00, 14.52it/s]\n"
          ]
        },
        {
          "metadata": {
            "tags": null
          },
          "name": "stdout",
          "output_type": "stream",
          "text": [
            "train loss of 52th epoch is 0.43613117933273315\n"
          ]
        },
        {
          "metadata": {
            "tags": null
          },
          "name": "stderr",
          "output_type": "stream",
          "text": [
            "100%|██████████| 391/391 [00:26<00:00, 14.49it/s]\n"
          ]
        },
        {
          "metadata": {
            "tags": null
          },
          "name": "stdout",
          "output_type": "stream",
          "text": [
            "train loss of 53th epoch is 0.27982157468795776\n"
          ]
        },
        {
          "metadata": {
            "tags": null
          },
          "name": "stderr",
          "output_type": "stream",
          "text": [
            "100%|██████████| 391/391 [00:27<00:00, 14.46it/s]\n"
          ]
        },
        {
          "metadata": {
            "tags": null
          },
          "name": "stdout",
          "output_type": "stream",
          "text": [
            "train loss of 54th epoch is 0.3019636571407318\n"
          ]
        },
        {
          "metadata": {
            "tags": null
          },
          "name": "stderr",
          "output_type": "stream",
          "text": [
            "100%|██████████| 391/391 [00:26<00:00, 14.50it/s]\n"
          ]
        },
        {
          "metadata": {
            "tags": null
          },
          "name": "stdout",
          "output_type": "stream",
          "text": [
            "train loss of 55th epoch is 0.2859998047351837\n"
          ]
        },
        {
          "metadata": {
            "tags": null
          },
          "name": "stderr",
          "output_type": "stream",
          "text": [
            "100%|██████████| 391/391 [00:27<00:00, 14.44it/s]\n"
          ]
        },
        {
          "metadata": {
            "tags": null
          },
          "name": "stdout",
          "output_type": "stream",
          "text": [
            "train loss of 56th epoch is 0.21031005680561066\n"
          ]
        },
        {
          "metadata": {
            "tags": null
          },
          "name": "stderr",
          "output_type": "stream",
          "text": [
            "100%|██████████| 391/391 [00:27<00:00, 14.26it/s]\n"
          ]
        },
        {
          "metadata": {
            "tags": null
          },
          "name": "stdout",
          "output_type": "stream",
          "text": [
            "train loss of 57th epoch is 0.2518811821937561\n"
          ]
        },
        {
          "metadata": {
            "tags": null
          },
          "name": "stderr",
          "output_type": "stream",
          "text": [
            "100%|██████████| 391/391 [00:27<00:00, 14.31it/s]\n"
          ]
        },
        {
          "metadata": {
            "tags": null
          },
          "name": "stdout",
          "output_type": "stream",
          "text": [
            "train loss of 58th epoch is 0.14825479686260223\n"
          ]
        },
        {
          "metadata": {
            "tags": null
          },
          "name": "stderr",
          "output_type": "stream",
          "text": [
            "100%|██████████| 391/391 [00:27<00:00, 14.41it/s]\n"
          ]
        },
        {
          "metadata": {
            "tags": null
          },
          "name": "stdout",
          "output_type": "stream",
          "text": [
            "train loss of 59th epoch is 0.3019539713859558\n"
          ]
        },
        {
          "metadata": {
            "tags": null
          },
          "name": "stderr",
          "output_type": "stream",
          "text": [
            "100%|██████████| 391/391 [00:27<00:00, 14.39it/s]\n"
          ]
        },
        {
          "metadata": {
            "tags": null
          },
          "name": "stdout",
          "output_type": "stream",
          "text": [
            "train loss of 60th epoch is 0.38178354501724243\n"
          ]
        },
        {
          "metadata": {
            "tags": null
          },
          "name": "stderr",
          "output_type": "stream",
          "text": [
            "100%|██████████| 391/391 [00:27<00:00, 14.40it/s]\n"
          ]
        },
        {
          "metadata": {
            "tags": null
          },
          "name": "stdout",
          "output_type": "stream",
          "text": [
            "train loss of 61th epoch is 0.22477968037128448\n"
          ]
        },
        {
          "metadata": {
            "tags": null
          },
          "name": "stderr",
          "output_type": "stream",
          "text": [
            "100%|██████████| 391/391 [00:27<00:00, 14.45it/s]\n"
          ]
        },
        {
          "metadata": {
            "tags": null
          },
          "name": "stdout",
          "output_type": "stream",
          "text": [
            "train loss of 62th epoch is 0.2615518271923065\n"
          ]
        },
        {
          "metadata": {
            "tags": null
          },
          "name": "stderr",
          "output_type": "stream",
          "text": [
            "100%|██████████| 391/391 [00:27<00:00, 14.38it/s]\n"
          ]
        },
        {
          "metadata": {
            "tags": null
          },
          "name": "stdout",
          "output_type": "stream",
          "text": [
            "train loss of 63th epoch is 0.2708331346511841\n"
          ]
        },
        {
          "metadata": {
            "tags": null
          },
          "name": "stderr",
          "output_type": "stream",
          "text": [
            "100%|██████████| 391/391 [00:26<00:00, 14.58it/s]\n"
          ]
        },
        {
          "metadata": {
            "tags": null
          },
          "name": "stdout",
          "output_type": "stream",
          "text": [
            "train loss of 64th epoch is 0.20933017134666443\n"
          ]
        },
        {
          "metadata": {
            "tags": null
          },
          "name": "stderr",
          "output_type": "stream",
          "text": [
            "100%|██████████| 391/391 [00:26<00:00, 14.54it/s]\n"
          ]
        },
        {
          "metadata": {
            "tags": null
          },
          "name": "stdout",
          "output_type": "stream",
          "text": [
            "train loss of 65th epoch is 0.17214587330818176\n"
          ]
        },
        {
          "metadata": {
            "tags": null
          },
          "name": "stderr",
          "output_type": "stream",
          "text": [
            "100%|██████████| 391/391 [00:27<00:00, 14.21it/s]\n"
          ]
        },
        {
          "metadata": {
            "tags": null
          },
          "name": "stdout",
          "output_type": "stream",
          "text": [
            "train loss of 66th epoch is 0.25782617926597595\n"
          ]
        },
        {
          "metadata": {
            "tags": null
          },
          "name": "stderr",
          "output_type": "stream",
          "text": [
            "100%|██████████| 391/391 [00:26<00:00, 14.61it/s]\n"
          ]
        },
        {
          "metadata": {
            "tags": null
          },
          "name": "stdout",
          "output_type": "stream",
          "text": [
            "train loss of 67th epoch is 0.31490081548690796\n"
          ]
        },
        {
          "metadata": {
            "tags": null
          },
          "name": "stderr",
          "output_type": "stream",
          "text": [
            "100%|██████████| 391/391 [00:26<00:00, 14.50it/s]\n"
          ]
        },
        {
          "metadata": {
            "tags": null
          },
          "name": "stdout",
          "output_type": "stream",
          "text": [
            "train loss of 68th epoch is 0.384280800819397\n"
          ]
        },
        {
          "metadata": {
            "tags": null
          },
          "name": "stderr",
          "output_type": "stream",
          "text": [
            "100%|██████████| 391/391 [00:26<00:00, 14.61it/s]\n"
          ]
        },
        {
          "metadata": {
            "tags": null
          },
          "name": "stdout",
          "output_type": "stream",
          "text": [
            "train loss of 69th epoch is 0.16593846678733826\n"
          ]
        },
        {
          "metadata": {
            "tags": null
          },
          "name": "stderr",
          "output_type": "stream",
          "text": [
            "100%|██████████| 391/391 [00:26<00:00, 14.65it/s]\n"
          ]
        },
        {
          "metadata": {
            "tags": null
          },
          "name": "stdout",
          "output_type": "stream",
          "text": [
            "train loss of 70th epoch is 0.26213976740837097\n"
          ]
        },
        {
          "metadata": {
            "tags": null
          },
          "name": "stderr",
          "output_type": "stream",
          "text": [
            "100%|██████████| 391/391 [00:26<00:00, 14.58it/s]\n"
          ]
        },
        {
          "metadata": {
            "tags": null
          },
          "name": "stdout",
          "output_type": "stream",
          "text": [
            "train loss of 71th epoch is 0.192374125123024\n"
          ]
        },
        {
          "metadata": {
            "tags": null
          },
          "name": "stderr",
          "output_type": "stream",
          "text": [
            "100%|██████████| 391/391 [00:26<00:00, 14.63it/s]\n"
          ]
        },
        {
          "metadata": {
            "tags": null
          },
          "name": "stdout",
          "output_type": "stream",
          "text": [
            "train loss of 72th epoch is 0.24890784919261932\n"
          ]
        },
        {
          "metadata": {
            "tags": null
          },
          "name": "stderr",
          "output_type": "stream",
          "text": [
            "100%|██████████| 391/391 [00:26<00:00, 14.59it/s]\n"
          ]
        },
        {
          "metadata": {
            "tags": null
          },
          "name": "stdout",
          "output_type": "stream",
          "text": [
            "train loss of 73th epoch is 0.3041225075721741\n"
          ]
        },
        {
          "metadata": {
            "tags": null
          },
          "name": "stderr",
          "output_type": "stream",
          "text": [
            "100%|██████████| 391/391 [00:26<00:00, 14.61it/s]\n"
          ]
        },
        {
          "metadata": {
            "tags": null
          },
          "name": "stdout",
          "output_type": "stream",
          "text": [
            "train loss of 74th epoch is 0.31478771567344666\n"
          ]
        },
        {
          "metadata": {
            "tags": null
          },
          "name": "stderr",
          "output_type": "stream",
          "text": [
            "100%|██████████| 391/391 [00:26<00:00, 14.62it/s]\n"
          ]
        },
        {
          "metadata": {
            "tags": null
          },
          "name": "stdout",
          "output_type": "stream",
          "text": [
            "train loss of 75th epoch is 0.3192918300628662\n"
          ]
        },
        {
          "metadata": {
            "tags": null
          },
          "name": "stderr",
          "output_type": "stream",
          "text": [
            "100%|██████████| 391/391 [00:26<00:00, 14.58it/s]\n"
          ]
        },
        {
          "metadata": {
            "tags": null
          },
          "name": "stdout",
          "output_type": "stream",
          "text": [
            "train loss of 76th epoch is 0.3871925175189972\n"
          ]
        },
        {
          "metadata": {
            "tags": null
          },
          "name": "stderr",
          "output_type": "stream",
          "text": [
            "100%|██████████| 391/391 [00:26<00:00, 14.64it/s]\n"
          ]
        },
        {
          "metadata": {
            "tags": null
          },
          "name": "stdout",
          "output_type": "stream",
          "text": [
            "train loss of 77th epoch is 0.27443885803222656\n"
          ]
        },
        {
          "metadata": {
            "tags": null
          },
          "name": "stderr",
          "output_type": "stream",
          "text": [
            "100%|██████████| 391/391 [00:26<00:00, 14.60it/s]\n"
          ]
        },
        {
          "metadata": {
            "tags": null
          },
          "name": "stdout",
          "output_type": "stream",
          "text": [
            "train loss of 78th epoch is 0.20707833766937256\n"
          ]
        },
        {
          "metadata": {
            "tags": null
          },
          "name": "stderr",
          "output_type": "stream",
          "text": [
            "100%|██████████| 391/391 [00:26<00:00, 14.67it/s]\n"
          ]
        },
        {
          "metadata": {
            "tags": null
          },
          "name": "stdout",
          "output_type": "stream",
          "text": [
            "train loss of 79th epoch is 0.2929301857948303\n"
          ]
        },
        {
          "metadata": {
            "tags": null
          },
          "name": "stderr",
          "output_type": "stream",
          "text": [
            "100%|██████████| 391/391 [00:26<00:00, 14.64it/s]\n"
          ]
        },
        {
          "metadata": {
            "tags": null
          },
          "name": "stdout",
          "output_type": "stream",
          "text": [
            "train loss of 80th epoch is 0.20139849185943604\n"
          ]
        },
        {
          "metadata": {
            "tags": null
          },
          "name": "stderr",
          "output_type": "stream",
          "text": [
            "100%|██████████| 391/391 [00:26<00:00, 14.71it/s]\n"
          ]
        },
        {
          "metadata": {
            "tags": null
          },
          "name": "stdout",
          "output_type": "stream",
          "text": [
            "train loss of 81th epoch is 0.1713748574256897\n"
          ]
        },
        {
          "metadata": {
            "tags": null
          },
          "name": "stderr",
          "output_type": "stream",
          "text": [
            "100%|██████████| 391/391 [00:26<00:00, 14.69it/s]\n"
          ]
        },
        {
          "metadata": {
            "tags": null
          },
          "name": "stdout",
          "output_type": "stream",
          "text": [
            "train loss of 82th epoch is 0.07828971743583679\n"
          ]
        },
        {
          "metadata": {
            "tags": null
          },
          "name": "stderr",
          "output_type": "stream",
          "text": [
            "100%|██████████| 391/391 [00:26<00:00, 14.75it/s]\n"
          ]
        },
        {
          "metadata": {
            "tags": null
          },
          "name": "stdout",
          "output_type": "stream",
          "text": [
            "train loss of 83th epoch is 0.06522605568170547\n"
          ]
        },
        {
          "metadata": {
            "tags": null
          },
          "name": "stderr",
          "output_type": "stream",
          "text": [
            "100%|██████████| 391/391 [00:26<00:00, 14.72it/s]\n"
          ]
        },
        {
          "metadata": {
            "tags": null
          },
          "name": "stdout",
          "output_type": "stream",
          "text": [
            "train loss of 84th epoch is 0.14986944198608398\n"
          ]
        },
        {
          "metadata": {
            "tags": null
          },
          "name": "stderr",
          "output_type": "stream",
          "text": [
            "100%|██████████| 391/391 [00:26<00:00, 14.55it/s]\n"
          ]
        },
        {
          "metadata": {
            "tags": null
          },
          "name": "stdout",
          "output_type": "stream",
          "text": [
            "train loss of 85th epoch is 0.17571017146110535\n"
          ]
        },
        {
          "metadata": {
            "tags": null
          },
          "name": "stderr",
          "output_type": "stream",
          "text": [
            "100%|██████████| 391/391 [00:26<00:00, 14.70it/s]\n"
          ]
        },
        {
          "metadata": {
            "tags": null
          },
          "name": "stdout",
          "output_type": "stream",
          "text": [
            "train loss of 86th epoch is 0.05661093443632126\n"
          ]
        },
        {
          "metadata": {
            "tags": null
          },
          "name": "stderr",
          "output_type": "stream",
          "text": [
            "100%|██████████| 391/391 [00:26<00:00, 14.79it/s]\n"
          ]
        },
        {
          "metadata": {
            "tags": null
          },
          "name": "stdout",
          "output_type": "stream",
          "text": [
            "train loss of 87th epoch is 0.10613907873630524\n"
          ]
        },
        {
          "metadata": {
            "tags": null
          },
          "name": "stderr",
          "output_type": "stream",
          "text": [
            "100%|██████████| 391/391 [00:26<00:00, 14.68it/s]\n"
          ]
        },
        {
          "metadata": {
            "tags": null
          },
          "name": "stdout",
          "output_type": "stream",
          "text": [
            "train loss of 88th epoch is 0.033553335815668106\n"
          ]
        },
        {
          "metadata": {
            "tags": null
          },
          "name": "stderr",
          "output_type": "stream",
          "text": [
            "100%|██████████| 391/391 [00:26<00:00, 14.75it/s]\n"
          ]
        },
        {
          "metadata": {
            "tags": null
          },
          "name": "stdout",
          "output_type": "stream",
          "text": [
            "train loss of 89th epoch is 0.028850603848695755\n"
          ]
        },
        {
          "metadata": {
            "tags": null
          },
          "name": "stderr",
          "output_type": "stream",
          "text": [
            "100%|██████████| 391/391 [00:26<00:00, 14.58it/s]\n"
          ]
        },
        {
          "metadata": {
            "tags": null
          },
          "name": "stdout",
          "output_type": "stream",
          "text": [
            "train loss of 90th epoch is 0.12916778028011322\n"
          ]
        },
        {
          "metadata": {
            "tags": null
          },
          "name": "stderr",
          "output_type": "stream",
          "text": [
            "100%|██████████| 391/391 [00:26<00:00, 14.68it/s]\n"
          ]
        },
        {
          "metadata": {
            "tags": null
          },
          "name": "stdout",
          "output_type": "stream",
          "text": [
            "train loss of 91th epoch is 0.053967636078596115\n"
          ]
        },
        {
          "metadata": {
            "tags": null
          },
          "name": "stderr",
          "output_type": "stream",
          "text": [
            "100%|██████████| 391/391 [00:26<00:00, 14.78it/s]\n"
          ]
        },
        {
          "metadata": {
            "tags": null
          },
          "name": "stdout",
          "output_type": "stream",
          "text": [
            "train loss of 92th epoch is 0.0817098319530487\n"
          ]
        },
        {
          "metadata": {
            "tags": null
          },
          "name": "stderr",
          "output_type": "stream",
          "text": [
            "100%|██████████| 391/391 [00:26<00:00, 14.70it/s]\n"
          ]
        },
        {
          "metadata": {
            "tags": null
          },
          "name": "stdout",
          "output_type": "stream",
          "text": [
            "train loss of 93th epoch is 0.02702506259083748\n"
          ]
        },
        {
          "metadata": {
            "tags": null
          },
          "name": "stderr",
          "output_type": "stream",
          "text": [
            "100%|██████████| 391/391 [00:26<00:00, 14.94it/s]\n"
          ]
        },
        {
          "metadata": {
            "tags": null
          },
          "name": "stdout",
          "output_type": "stream",
          "text": [
            "train loss of 94th epoch is 0.04711759090423584\n"
          ]
        },
        {
          "metadata": {
            "tags": null
          },
          "name": "stderr",
          "output_type": "stream",
          "text": [
            "100%|██████████| 391/391 [00:27<00:00, 14.34it/s]\n"
          ]
        },
        {
          "metadata": {
            "tags": null
          },
          "name": "stdout",
          "output_type": "stream",
          "text": [
            "train loss of 95th epoch is 0.09532084316015244\n"
          ]
        },
        {
          "metadata": {
            "tags": null
          },
          "name": "stderr",
          "output_type": "stream",
          "text": [
            "100%|██████████| 391/391 [00:26<00:00, 14.58it/s]\n"
          ]
        },
        {
          "metadata": {
            "tags": null
          },
          "name": "stdout",
          "output_type": "stream",
          "text": [
            "train loss of 96th epoch is 0.07855679094791412\n"
          ]
        },
        {
          "metadata": {
            "tags": null
          },
          "name": "stderr",
          "output_type": "stream",
          "text": [
            "100%|██████████| 391/391 [00:26<00:00, 14.82it/s]\n"
          ]
        },
        {
          "metadata": {
            "tags": null
          },
          "name": "stdout",
          "output_type": "stream",
          "text": [
            "train loss of 97th epoch is 0.02111576497554779\n"
          ]
        },
        {
          "metadata": {
            "tags": null
          },
          "name": "stderr",
          "output_type": "stream",
          "text": [
            "100%|██████████| 391/391 [00:26<00:00, 14.81it/s]\n"
          ]
        },
        {
          "metadata": {
            "tags": null
          },
          "name": "stdout",
          "output_type": "stream",
          "text": [
            "train loss of 98th epoch is 0.06760906428098679\n"
          ]
        },
        {
          "metadata": {
            "tags": null
          },
          "name": "stderr",
          "output_type": "stream",
          "text": [
            "100%|██████████| 391/391 [00:26<00:00, 14.55it/s]\n"
          ]
        },
        {
          "metadata": {
            "tags": null
          },
          "name": "stdout",
          "output_type": "stream",
          "text": [
            "train loss of 99th epoch is 0.08011358231306076\n"
          ]
        },
        {
          "metadata": {
            "tags": null
          },
          "name": "stderr",
          "output_type": "stream",
          "text": [
            "100%|██████████| 391/391 [00:26<00:00, 14.70it/s]\n"
          ]
        },
        {
          "metadata": {
            "tags": null
          },
          "name": "stdout",
          "output_type": "stream",
          "text": [
            "train loss of 100th epoch is 0.0456092394888401\n"
          ]
        },
        {
          "metadata": {
            "tags": null
          },
          "name": "stderr",
          "output_type": "stream",
          "text": [
            "100%|██████████| 391/391 [00:26<00:00, 14.62it/s]\n"
          ]
        },
        {
          "metadata": {
            "tags": null
          },
          "name": "stdout",
          "output_type": "stream",
          "text": [
            "train loss of 101th epoch is 0.06793829053640366\n"
          ]
        },
        {
          "metadata": {
            "tags": null
          },
          "name": "stderr",
          "output_type": "stream",
          "text": [
            "100%|██████████| 391/391 [00:26<00:00, 14.80it/s]\n"
          ]
        },
        {
          "metadata": {
            "tags": null
          },
          "name": "stdout",
          "output_type": "stream",
          "text": [
            "train loss of 102th epoch is 0.042468491941690445\n"
          ]
        },
        {
          "metadata": {
            "tags": null
          },
          "name": "stderr",
          "output_type": "stream",
          "text": [
            "100%|██████████| 391/391 [00:26<00:00, 14.83it/s]\n"
          ]
        },
        {
          "metadata": {
            "tags": null
          },
          "name": "stdout",
          "output_type": "stream",
          "text": [
            "train loss of 103th epoch is 0.05282144993543625\n"
          ]
        },
        {
          "metadata": {
            "tags": null
          },
          "name": "stderr",
          "output_type": "stream",
          "text": [
            "100%|██████████| 391/391 [00:26<00:00, 14.64it/s]\n"
          ]
        },
        {
          "metadata": {
            "tags": null
          },
          "name": "stdout",
          "output_type": "stream",
          "text": [
            "train loss of 104th epoch is 0.02620803378522396\n"
          ]
        },
        {
          "metadata": {
            "tags": null
          },
          "name": "stderr",
          "output_type": "stream",
          "text": [
            "100%|██████████| 391/391 [00:26<00:00, 14.75it/s]\n"
          ]
        },
        {
          "metadata": {
            "tags": null
          },
          "name": "stdout",
          "output_type": "stream",
          "text": [
            "train loss of 105th epoch is 0.1355040967464447\n"
          ]
        },
        {
          "metadata": {
            "tags": null
          },
          "name": "stderr",
          "output_type": "stream",
          "text": [
            "100%|██████████| 391/391 [00:26<00:00, 14.93it/s]\n"
          ]
        },
        {
          "metadata": {
            "tags": null
          },
          "name": "stdout",
          "output_type": "stream",
          "text": [
            "train loss of 106th epoch is 0.07132580876350403\n"
          ]
        },
        {
          "metadata": {
            "tags": null
          },
          "name": "stderr",
          "output_type": "stream",
          "text": [
            "100%|██████████| 391/391 [00:26<00:00, 14.53it/s]\n"
          ]
        },
        {
          "metadata": {
            "tags": null
          },
          "name": "stdout",
          "output_type": "stream",
          "text": [
            "train loss of 107th epoch is 0.054990749806165695\n"
          ]
        },
        {
          "metadata": {
            "tags": null
          },
          "name": "stderr",
          "output_type": "stream",
          "text": [
            "100%|██████████| 391/391 [00:26<00:00, 14.67it/s]\n"
          ]
        },
        {
          "metadata": {
            "tags": null
          },
          "name": "stdout",
          "output_type": "stream",
          "text": [
            "train loss of 108th epoch is 0.0720004290342331\n"
          ]
        },
        {
          "metadata": {
            "tags": null
          },
          "name": "stderr",
          "output_type": "stream",
          "text": [
            "100%|██████████| 391/391 [00:26<00:00, 14.65it/s]\n"
          ]
        },
        {
          "metadata": {
            "tags": null
          },
          "name": "stdout",
          "output_type": "stream",
          "text": [
            "train loss of 109th epoch is 0.06327695399522781\n"
          ]
        },
        {
          "metadata": {
            "tags": null
          },
          "name": "stderr",
          "output_type": "stream",
          "text": [
            "100%|██████████| 391/391 [00:26<00:00, 14.67it/s]\n"
          ]
        },
        {
          "metadata": {
            "tags": null
          },
          "name": "stdout",
          "output_type": "stream",
          "text": [
            "train loss of 110th epoch is 0.05284396559000015\n"
          ]
        },
        {
          "metadata": {
            "tags": null
          },
          "name": "stderr",
          "output_type": "stream",
          "text": [
            "100%|██████████| 391/391 [00:26<00:00, 14.74it/s]\n"
          ]
        },
        {
          "metadata": {
            "tags": null
          },
          "name": "stdout",
          "output_type": "stream",
          "text": [
            "train loss of 111th epoch is 0.0853373110294342\n"
          ]
        },
        {
          "metadata": {
            "tags": null
          },
          "name": "stderr",
          "output_type": "stream",
          "text": [
            "100%|██████████| 391/391 [00:26<00:00, 14.71it/s]\n"
          ]
        },
        {
          "metadata": {
            "tags": null
          },
          "name": "stdout",
          "output_type": "stream",
          "text": [
            "train loss of 112th epoch is 0.0561394989490509\n"
          ]
        },
        {
          "metadata": {
            "tags": null
          },
          "name": "stderr",
          "output_type": "stream",
          "text": [
            "100%|██████████| 391/391 [00:26<00:00, 14.68it/s]\n"
          ]
        },
        {
          "metadata": {
            "tags": null
          },
          "name": "stdout",
          "output_type": "stream",
          "text": [
            "train loss of 113th epoch is 0.05283202975988388\n"
          ]
        },
        {
          "metadata": {
            "tags": null
          },
          "name": "stderr",
          "output_type": "stream",
          "text": [
            "100%|██████████| 391/391 [00:26<00:00, 14.66it/s]\n"
          ]
        },
        {
          "metadata": {
            "tags": null
          },
          "name": "stdout",
          "output_type": "stream",
          "text": [
            "train loss of 114th epoch is 0.054164402186870575\n"
          ]
        },
        {
          "metadata": {
            "tags": null
          },
          "name": "stderr",
          "output_type": "stream",
          "text": [
            "100%|██████████| 391/391 [00:26<00:00, 14.63it/s]\n"
          ]
        },
        {
          "metadata": {
            "tags": null
          },
          "name": "stdout",
          "output_type": "stream",
          "text": [
            "train loss of 115th epoch is 0.021254464983940125\n"
          ]
        },
        {
          "output_type": "stream",
          "name": "stderr",
          "text": [
            "100%|██████████| 391/391 [00:25<00:00, 15.06it/s]\n"
          ]
        },
        {
          "output_type": "stream",
          "name": "stdout",
          "text": [
            "train loss of 116th epoch is 0.06397504359483719\n"
          ]
        },
        {
          "output_type": "stream",
          "name": "stderr",
          "text": [
            "100%|██████████| 391/391 [00:26<00:00, 14.94it/s]\n"
          ]
        },
        {
          "output_type": "stream",
          "name": "stdout",
          "text": [
            "train loss of 117th epoch is 0.028058189898729324\n"
          ]
        },
        {
          "output_type": "stream",
          "name": "stderr",
          "text": [
            "100%|██████████| 391/391 [00:26<00:00, 15.00it/s]\n"
          ]
        },
        {
          "output_type": "stream",
          "name": "stdout",
          "text": [
            "train loss of 118th epoch is 0.02337826043367386\n"
          ]
        },
        {
          "output_type": "stream",
          "name": "stderr",
          "text": [
            "100%|██████████| 391/391 [00:25<00:00, 15.04it/s]\n"
          ]
        },
        {
          "output_type": "stream",
          "name": "stdout",
          "text": [
            "train loss of 119th epoch is 0.044148195534944534\n"
          ]
        },
        {
          "output_type": "stream",
          "name": "stderr",
          "text": [
            "100%|██████████| 391/391 [00:25<00:00, 15.04it/s]\n"
          ]
        },
        {
          "output_type": "stream",
          "name": "stdout",
          "text": [
            "train loss of 120th epoch is 0.04635099321603775\n"
          ]
        },
        {
          "output_type": "stream",
          "name": "stderr",
          "text": [
            "100%|██████████| 391/391 [00:26<00:00, 14.92it/s]\n"
          ]
        },
        {
          "output_type": "stream",
          "name": "stdout",
          "text": [
            "train loss of 121th epoch is 0.03703003749251366\n"
          ]
        },
        {
          "output_type": "stream",
          "name": "stderr",
          "text": [
            "100%|██████████| 391/391 [00:25<00:00, 15.09it/s]\n"
          ]
        },
        {
          "output_type": "stream",
          "name": "stdout",
          "text": [
            "train loss of 122th epoch is 0.047396015375852585\n"
          ]
        },
        {
          "output_type": "stream",
          "name": "stderr",
          "text": [
            "100%|██████████| 391/391 [00:25<00:00, 15.08it/s]\n"
          ]
        },
        {
          "output_type": "stream",
          "name": "stdout",
          "text": [
            "train loss of 123th epoch is 0.0649748370051384\n"
          ]
        },
        {
          "output_type": "stream",
          "name": "stderr",
          "text": [
            "100%|██████████| 391/391 [00:26<00:00, 14.59it/s]\n"
          ]
        },
        {
          "output_type": "stream",
          "name": "stdout",
          "text": [
            "train loss of 124th epoch is 0.014022232964634895\n"
          ]
        },
        {
          "output_type": "stream",
          "name": "stderr",
          "text": [
            "100%|██████████| 391/391 [00:25<00:00, 15.05it/s]\n"
          ]
        },
        {
          "output_type": "stream",
          "name": "stdout",
          "text": [
            "train loss of 125th epoch is 0.07020173966884613\n"
          ]
        },
        {
          "output_type": "stream",
          "name": "stderr",
          "text": [
            "100%|██████████| 391/391 [00:25<00:00, 15.06it/s]\n"
          ]
        },
        {
          "output_type": "stream",
          "name": "stdout",
          "text": [
            "train loss of 126th epoch is 0.007904413156211376\n"
          ]
        },
        {
          "output_type": "stream",
          "name": "stderr",
          "text": [
            "100%|██████████| 391/391 [00:26<00:00, 14.93it/s]\n"
          ]
        },
        {
          "output_type": "stream",
          "name": "stdout",
          "text": [
            "train loss of 127th epoch is 0.02732989192008972\n"
          ]
        },
        {
          "output_type": "stream",
          "name": "stderr",
          "text": [
            "100%|██████████| 391/391 [00:25<00:00, 15.11it/s]\n"
          ]
        },
        {
          "output_type": "stream",
          "name": "stdout",
          "text": [
            "train loss of 128th epoch is 0.034730926156044006\n"
          ]
        },
        {
          "output_type": "stream",
          "name": "stderr",
          "text": [
            "100%|██████████| 391/391 [00:25<00:00, 15.09it/s]\n"
          ]
        },
        {
          "output_type": "stream",
          "name": "stdout",
          "text": [
            "train loss of 129th epoch is 0.009757854044437408\n"
          ]
        },
        {
          "output_type": "stream",
          "name": "stderr",
          "text": [
            "100%|██████████| 391/391 [00:26<00:00, 15.01it/s]\n"
          ]
        },
        {
          "output_type": "stream",
          "name": "stdout",
          "text": [
            "train loss of 130th epoch is 0.010307298973202705\n"
          ]
        },
        {
          "output_type": "stream",
          "name": "stderr",
          "text": [
            "100%|██████████| 391/391 [00:26<00:00, 15.01it/s]\n"
          ]
        },
        {
          "output_type": "stream",
          "name": "stdout",
          "text": [
            "train loss of 131th epoch is 0.03910099342465401\n"
          ]
        },
        {
          "output_type": "stream",
          "name": "stderr",
          "text": [
            "100%|██████████| 391/391 [00:26<00:00, 15.00it/s]\n"
          ]
        },
        {
          "output_type": "stream",
          "name": "stdout",
          "text": [
            "train loss of 132th epoch is 0.00895288959145546\n"
          ]
        },
        {
          "output_type": "stream",
          "name": "stderr",
          "text": [
            "100%|██████████| 391/391 [00:26<00:00, 14.74it/s]\n"
          ]
        },
        {
          "output_type": "stream",
          "name": "stdout",
          "text": [
            "train loss of 133th epoch is 0.008872587233781815\n"
          ]
        },
        {
          "output_type": "stream",
          "name": "stderr",
          "text": [
            "100%|██████████| 391/391 [00:26<00:00, 14.76it/s]\n"
          ]
        },
        {
          "output_type": "stream",
          "name": "stdout",
          "text": [
            "train loss of 134th epoch is 0.009057307615876198\n"
          ]
        },
        {
          "output_type": "stream",
          "name": "stderr",
          "text": [
            "100%|██████████| 391/391 [00:26<00:00, 14.89it/s]\n"
          ]
        },
        {
          "output_type": "stream",
          "name": "stdout",
          "text": [
            "train loss of 135th epoch is 0.02063699997961521\n"
          ]
        },
        {
          "output_type": "stream",
          "name": "stderr",
          "text": [
            "100%|██████████| 391/391 [00:26<00:00, 14.96it/s]\n"
          ]
        },
        {
          "output_type": "stream",
          "name": "stdout",
          "text": [
            "train loss of 136th epoch is 0.0031861893367022276\n"
          ]
        },
        {
          "output_type": "stream",
          "name": "stderr",
          "text": [
            "100%|██████████| 391/391 [00:25<00:00, 15.09it/s]\n"
          ]
        },
        {
          "output_type": "stream",
          "name": "stdout",
          "text": [
            "train loss of 137th epoch is 0.010832625441253185\n"
          ]
        },
        {
          "output_type": "stream",
          "name": "stderr",
          "text": [
            "100%|██████████| 391/391 [00:26<00:00, 15.00it/s]\n"
          ]
        },
        {
          "output_type": "stream",
          "name": "stdout",
          "text": [
            "train loss of 138th epoch is 0.007335912436246872\n"
          ]
        },
        {
          "output_type": "stream",
          "name": "stderr",
          "text": [
            "100%|██████████| 391/391 [00:26<00:00, 14.87it/s]\n"
          ]
        },
        {
          "output_type": "stream",
          "name": "stdout",
          "text": [
            "train loss of 139th epoch is 0.023749321699142456\n"
          ]
        },
        {
          "output_type": "stream",
          "name": "stderr",
          "text": [
            "100%|██████████| 391/391 [00:26<00:00, 15.01it/s]\n"
          ]
        },
        {
          "output_type": "stream",
          "name": "stdout",
          "text": [
            "train loss of 140th epoch is 0.014112032949924469\n"
          ]
        },
        {
          "output_type": "stream",
          "name": "stderr",
          "text": [
            "100%|██████████| 391/391 [00:25<00:00, 15.06it/s]\n"
          ]
        },
        {
          "output_type": "stream",
          "name": "stdout",
          "text": [
            "train loss of 141th epoch is 0.07767067104578018\n"
          ]
        },
        {
          "output_type": "stream",
          "name": "stderr",
          "text": [
            "100%|██████████| 391/391 [00:26<00:00, 14.91it/s]\n"
          ]
        },
        {
          "output_type": "stream",
          "name": "stdout",
          "text": [
            "train loss of 142th epoch is 0.004917144309729338\n"
          ]
        },
        {
          "output_type": "stream",
          "name": "stderr",
          "text": [
            "100%|██████████| 391/391 [00:26<00:00, 14.73it/s]\n"
          ]
        },
        {
          "output_type": "stream",
          "name": "stdout",
          "text": [
            "train loss of 143th epoch is 0.03595484420657158\n"
          ]
        },
        {
          "output_type": "stream",
          "name": "stderr",
          "text": [
            "100%|██████████| 391/391 [00:26<00:00, 14.85it/s]\n"
          ]
        },
        {
          "output_type": "stream",
          "name": "stdout",
          "text": [
            "train loss of 144th epoch is 0.015748323872685432\n"
          ]
        },
        {
          "output_type": "stream",
          "name": "stderr",
          "text": [
            "100%|██████████| 391/391 [00:26<00:00, 15.03it/s]\n"
          ]
        },
        {
          "output_type": "stream",
          "name": "stdout",
          "text": [
            "train loss of 145th epoch is 0.007093379739671946\n"
          ]
        },
        {
          "output_type": "stream",
          "name": "stderr",
          "text": [
            "100%|██████████| 391/391 [00:26<00:00, 14.97it/s]\n"
          ]
        },
        {
          "output_type": "stream",
          "name": "stdout",
          "text": [
            "train loss of 146th epoch is 0.022776693105697632\n"
          ]
        },
        {
          "output_type": "stream",
          "name": "stderr",
          "text": [
            "100%|██████████| 391/391 [00:25<00:00, 15.10it/s]\n"
          ]
        },
        {
          "output_type": "stream",
          "name": "stdout",
          "text": [
            "train loss of 147th epoch is 0.02105460688471794\n"
          ]
        },
        {
          "output_type": "stream",
          "name": "stderr",
          "text": [
            "100%|██████████| 391/391 [00:26<00:00, 14.96it/s]\n"
          ]
        },
        {
          "output_type": "stream",
          "name": "stdout",
          "text": [
            "train loss of 148th epoch is 0.04173686355352402\n"
          ]
        },
        {
          "output_type": "stream",
          "name": "stderr",
          "text": [
            "100%|██████████| 391/391 [00:26<00:00, 14.97it/s]\n"
          ]
        },
        {
          "output_type": "stream",
          "name": "stdout",
          "text": [
            "train loss of 149th epoch is 0.04062512889504433\n"
          ]
        },
        {
          "output_type": "stream",
          "name": "stderr",
          "text": [
            "100%|██████████| 391/391 [00:25<00:00, 15.11it/s]\n"
          ]
        },
        {
          "output_type": "stream",
          "name": "stdout",
          "text": [
            "train loss of 150th epoch is 0.01838531717658043\n"
          ]
        },
        {
          "output_type": "stream",
          "name": "stderr",
          "text": [
            "100%|██████████| 391/391 [00:26<00:00, 15.01it/s]\n"
          ]
        },
        {
          "output_type": "stream",
          "name": "stdout",
          "text": [
            "train loss of 151th epoch is 0.010985726490616798\n"
          ]
        },
        {
          "output_type": "stream",
          "name": "stderr",
          "text": [
            "100%|██████████| 391/391 [00:26<00:00, 14.95it/s]\n"
          ]
        },
        {
          "output_type": "stream",
          "name": "stdout",
          "text": [
            "train loss of 152th epoch is 0.02045099064707756\n"
          ]
        },
        {
          "output_type": "stream",
          "name": "stderr",
          "text": [
            "100%|██████████| 391/391 [00:26<00:00, 14.82it/s]\n"
          ]
        },
        {
          "output_type": "stream",
          "name": "stdout",
          "text": [
            "train loss of 153th epoch is 0.009561299346387386\n"
          ]
        },
        {
          "output_type": "stream",
          "name": "stderr",
          "text": [
            "100%|██████████| 391/391 [00:26<00:00, 14.83it/s]\n"
          ]
        },
        {
          "output_type": "stream",
          "name": "stdout",
          "text": [
            "train loss of 154th epoch is 0.0451299212872982\n"
          ]
        },
        {
          "output_type": "stream",
          "name": "stderr",
          "text": [
            "100%|██████████| 391/391 [00:25<00:00, 15.05it/s]\n"
          ]
        },
        {
          "output_type": "stream",
          "name": "stdout",
          "text": [
            "train loss of 155th epoch is 0.0173789169639349\n"
          ]
        },
        {
          "output_type": "stream",
          "name": "stderr",
          "text": [
            "100%|██████████| 391/391 [00:26<00:00, 15.01it/s]\n"
          ]
        },
        {
          "output_type": "stream",
          "name": "stdout",
          "text": [
            "train loss of 156th epoch is 0.0736633762717247\n"
          ]
        },
        {
          "output_type": "stream",
          "name": "stderr",
          "text": [
            "100%|██████████| 391/391 [00:25<00:00, 15.10it/s]\n"
          ]
        },
        {
          "output_type": "stream",
          "name": "stdout",
          "text": [
            "train loss of 157th epoch is 0.026433875784277916\n"
          ]
        },
        {
          "output_type": "stream",
          "name": "stderr",
          "text": [
            "100%|██████████| 391/391 [00:25<00:00, 15.05it/s]\n"
          ]
        },
        {
          "output_type": "stream",
          "name": "stdout",
          "text": [
            "train loss of 158th epoch is 0.04039289802312851\n"
          ]
        },
        {
          "output_type": "stream",
          "name": "stderr",
          "text": [
            "100%|██████████| 391/391 [00:25<00:00, 15.06it/s]\n"
          ]
        },
        {
          "output_type": "stream",
          "name": "stdout",
          "text": [
            "train loss of 159th epoch is 0.04451052471995354\n"
          ]
        },
        {
          "output_type": "stream",
          "name": "stderr",
          "text": [
            "100%|██████████| 391/391 [00:26<00:00, 15.02it/s]\n"
          ]
        },
        {
          "output_type": "stream",
          "name": "stdout",
          "text": [
            "train loss of 160th epoch is 0.02748122252523899\n"
          ]
        },
        {
          "output_type": "stream",
          "name": "stderr",
          "text": [
            "100%|██████████| 391/391 [00:26<00:00, 15.03it/s]\n"
          ]
        },
        {
          "output_type": "stream",
          "name": "stdout",
          "text": [
            "train loss of 161th epoch is 0.02905499003827572\n"
          ]
        },
        {
          "output_type": "stream",
          "name": "stderr",
          "text": [
            "100%|██████████| 391/391 [00:26<00:00, 15.02it/s]"
          ]
        },
        {
          "output_type": "stream",
          "name": "stdout",
          "text": [
            "train loss of 162th epoch is 0.08574984967708588\n",
            "Finished Training\n"
          ]
        },
        {
          "output_type": "stream",
          "name": "stderr",
          "text": [
            "\n"
          ]
        }
      ]
    },
    {
      "cell_type": "code",
      "source": [],
      "metadata": {
        "id": "cPwoFqHhXv7P"
      },
      "execution_count": null,
      "outputs": []
    },
    {
      "cell_type": "markdown",
      "source": [
        "# Test\n",
        "\n",
        "- model.pth   \n",
        "\n",
        "100 100 Loss: 0.343 | Acc: 91.560% (9156/10000)\n",
        "\n",
        "\n",
        "- 30.pth\n",
        "\n",
        "100 100 Loss: 0.468 | Acc: 84.730% (8473/10000)\n",
        "\n",
        "\n",
        "- 60.pth\n",
        "\n",
        "\n",
        "100 100 Loss: 0.438 | Acc: 86.170% (8617/10000)\n",
        "\n",
        "- 90.pth\n",
        "\n",
        "\n",
        "100 100 Loss: 0.279 | Acc: 91.710% (9171/10000)\n",
        "\n",
        "- 120.pth\n",
        "\n",
        "100 100 Loss: 0.353 | Acc: 91.210% (9121/10000)\n",
        "\n",
        "\n",
        "- 150.pth\n",
        "\n",
        "\n",
        "100 Loss: 0.342 | Acc: 91.450% (9145/10000)\n"
      ],
      "metadata": {
        "id": "cy3C-TeZl5_q"
      }
    },
    {
      "cell_type": "code",
      "source": [
        "def test():\n",
        "\n",
        "    ####### not touch\n",
        "    model_name = MyModel\n",
        "    # /content/models/230412_2145/0.pth\n",
        "    #/content/models/230412_2208/1.pth\n",
        "    #/content/models/230416_0927/90.pth\n",
        "    #/content/models/230417_0009/30.pth\n",
        "    checkpoint_path = './models/230417_0009/150.pth'  #수정 필요\n",
        "    mode = 'test' \n",
        "#     data_dir = \"./test_data\"\n",
        "#     meta_path = \"./answer.json\"\n",
        "    model = get_model(model_name,checkpoint_path)\n",
        "    #######\n",
        "    \n",
        "#     # Create training and validation datasets\n",
        "#     test_datasets = MyDataset(meta_path, data_dir, data_transforms['test'],is_train= False) #self,meta_path,root_dir,transform=None, is_train = True\n",
        "\n",
        "#     # Create training and validation dataloaders\n",
        "#     test_dataloader = torch.utils.data.DataLoader(test_datasets, batch_size=batch_size, shuffle=False, num_workers=4)\n",
        "\n",
        "    test_set = torchvision.datasets.CIFAR10(\n",
        "    root='./data', train=False, download=True, transform=data_transforms['test'])\n",
        "    \n",
        "    testloader = torch.utils.data.DataLoader(\n",
        "    test_set, batch_size=100, shuffle=False, num_workers=2)\n",
        "    \n",
        "    # Detect if we have a GPU available\n",
        "    device = torch.device(\"cuda\" if torch.cuda.is_available() else \"cpu\")\n",
        "    # device = torch.device(\"mps\") if torch.backends.mps.is_available() else \"cpu\"\n",
        "    \n",
        "    # Send the model to GPU\n",
        "    #multi-GPU\n",
        "    if torch.cuda.device_count() > 1:\n",
        "        model = nn.DataParallel(model)\n",
        "    model = model.to(device)\n",
        "\n",
        "    # Set model as evaluation mode\n",
        "    for param in model.parameters():\n",
        "        param.requires_grad = False\n",
        "    model.eval()\n",
        "    \n",
        "    # Inference\n",
        "    test_loss = 0\n",
        "    correct = 0\n",
        "    total = 0\n",
        "    criterion = nn.CrossEntropyLoss()\n",
        "    with torch.no_grad():\n",
        "        batch_idx = 0\n",
        "        for inputs, targets in tqdm(testloader):\n",
        "            inputs, targets = inputs.to(device), targets.to(device)\n",
        "            outputs = model(inputs)\n",
        "            loss = criterion(outputs, targets)\n",
        "            \n",
        "            test_loss += loss.item()\n",
        "            _, predicted = outputs.max(1)\n",
        "            total += targets.size(0)\n",
        "            correct += predicted.eq(targets).sum().item()\n",
        "            batch_idx = batch_idx + 1\n",
        "            print(batch_idx, len(testloader), 'Loss: %.3f | Acc: %.3f%% (%d/%d)'\n",
        "                         % (test_loss/(batch_idx+1), 100.*correct/total, correct, total))\n",
        "\n"
      ],
      "metadata": {
        "id": "0s8JSrwHl66B"
      },
      "execution_count": 23,
      "outputs": []
    },
    {
      "cell_type": "markdown",
      "source": [
        "# Main"
      ],
      "metadata": {
        "id": "TWFwS9Tul70J"
      }
    },
    {
      "cell_type": "code",
      "source": [
        "\n",
        "def main() :\n",
        "\n",
        "    random.seed(53)\n",
        "    test()\n",
        "\n",
        "   \n",
        "if __name__ == '__main__':\n",
        "    main()"
      ],
      "metadata": {
        "colab": {
          "base_uri": "https://localhost:8080/"
        },
        "id": "GNEl7fLZl9Qc",
        "outputId": "781c8a5a-d069-4bef-f6a4-d4e2dab67d29"
      },
      "execution_count": 24,
      "outputs": [
        {
          "output_type": "stream",
          "name": "stdout",
          "text": [
            "start loading model parameter\n",
            "model parameter loaded\n",
            "Files already downloaded and verified\n"
          ]
        },
        {
          "output_type": "stream",
          "name": "stderr",
          "text": [
            "  5%|▌         | 5/100 [00:00<00:05, 17.61it/s]"
          ]
        },
        {
          "output_type": "stream",
          "name": "stdout",
          "text": [
            "1 100 Loss: 0.141 | Acc: 96.000% (96/100)\n",
            "2 100 Loss: 0.198 | Acc: 93.500% (187/200)\n",
            "3 100 Loss: 0.236 | Acc: 92.667% (278/300)\n",
            "4 100 Loss: 0.239 | Acc: 92.750% (371/400)\n",
            "5 100 Loss: 0.231 | Acc: 93.600% (468/500)\n",
            "6 100 Loss: 0.218 | Acc: 94.167% (565/600)\n"
          ]
        },
        {
          "output_type": "stream",
          "name": "stderr",
          "text": [
            " 12%|█▏        | 12/100 [00:00<00:03, 26.75it/s]"
          ]
        },
        {
          "output_type": "stream",
          "name": "stdout",
          "text": [
            "7 100 Loss: 0.223 | Acc: 94.143% (659/700)\n",
            "8 100 Loss: 0.248 | Acc: 93.500% (748/800)\n",
            "9 100 Loss: 0.273 | Acc: 93.000% (837/900)\n",
            "10 100 Loss: 0.282 | Acc: 92.600% (926/1000)\n",
            "11 100 Loss: 0.280 | Acc: 92.455% (1017/1100)\n",
            "12 100 Loss: 0.295 | Acc: 92.000% (1104/1200)\n",
            "13 100 Loss: 0.294 | Acc: 91.769% (1193/1300)\n"
          ]
        },
        {
          "output_type": "stream",
          "name": "stderr",
          "text": [
            " 18%|█▊        | 18/100 [00:00<00:03, 26.43it/s]"
          ]
        },
        {
          "output_type": "stream",
          "name": "stdout",
          "text": [
            "14 100 Loss: 0.295 | Acc: 91.714% (1284/1400)\n",
            "15 100 Loss: 0.288 | Acc: 92.000% (1380/1500)\n",
            "16 100 Loss: 0.293 | Acc: 91.938% (1471/1600)\n",
            "17 100 Loss: 0.294 | Acc: 92.059% (1565/1700)\n",
            "18 100 Loss: 0.298 | Acc: 91.889% (1654/1800)\n",
            "19 100 Loss: 0.304 | Acc: 91.684% (1742/1900)\n"
          ]
        },
        {
          "output_type": "stream",
          "name": "stderr",
          "text": [
            " 26%|██▌       | 26/100 [00:01<00:02, 29.64it/s]"
          ]
        },
        {
          "output_type": "stream",
          "name": "stdout",
          "text": [
            "20 100 Loss: 0.313 | Acc: 91.500% (1830/2000)\n",
            "21 100 Loss: 0.320 | Acc: 91.381% (1919/2100)\n",
            "22 100 Loss: 0.316 | Acc: 91.500% (2013/2200)\n",
            "23 100 Loss: 0.332 | Acc: 91.130% (2096/2300)\n",
            "24 100 Loss: 0.332 | Acc: 91.083% (2186/2400)\n",
            "25 100 Loss: 0.338 | Acc: 91.040% (2276/2500)\n",
            "26 100 Loss: 0.354 | Acc: 91.000% (2366/2600)\n"
          ]
        },
        {
          "output_type": "stream",
          "name": "stderr",
          "text": [
            "\r 30%|███       | 30/100 [00:01<00:02, 30.76it/s]"
          ]
        },
        {
          "output_type": "stream",
          "name": "stdout",
          "text": [
            "27 100 Loss: 0.346 | Acc: 91.074% (2459/2700)\n",
            "28 100 Loss: 0.343 | Acc: 91.214% (2554/2800)\n",
            "29 100 Loss: 0.346 | Acc: 91.276% (2647/2900)\n",
            "30 100 Loss: 0.342 | Acc: 91.333% (2740/3000)\n",
            "31 100 Loss: 0.347 | Acc: 91.290% (2830/3100)\n",
            "32 100 Loss: 0.347 | Acc: 91.312% (2922/3200)\n"
          ]
        },
        {
          "output_type": "stream",
          "name": "stderr",
          "text": [
            " 38%|███▊      | 38/100 [00:01<00:02, 28.81it/s]"
          ]
        },
        {
          "output_type": "stream",
          "name": "stdout",
          "text": [
            "33 100 Loss: 0.349 | Acc: 91.182% (3009/3300)\n",
            "34 100 Loss: 0.346 | Acc: 91.147% (3099/3400)\n",
            "35 100 Loss: 0.346 | Acc: 91.143% (3190/3500)\n",
            "36 100 Loss: 0.347 | Acc: 91.194% (3283/3600)\n",
            "37 100 Loss: 0.349 | Acc: 91.243% (3376/3700)\n",
            "38 100 Loss: 0.353 | Acc: 91.158% (3464/3800)\n"
          ]
        },
        {
          "output_type": "stream",
          "name": "stderr",
          "text": [
            "\r 42%|████▏     | 42/100 [00:01<00:01, 30.31it/s]"
          ]
        },
        {
          "output_type": "stream",
          "name": "stdout",
          "text": [
            "39 100 Loss: 0.351 | Acc: 91.231% (3558/3900)\n",
            "40 100 Loss: 0.352 | Acc: 91.225% (3649/4000)\n",
            "41 100 Loss: 0.352 | Acc: 91.220% (3740/4100)\n",
            "42 100 Loss: 0.351 | Acc: 91.238% (3832/4200)\n",
            "43 100 Loss: 0.347 | Acc: 91.349% (3928/4300)\n",
            "44 100 Loss: 0.348 | Acc: 91.386% (4021/4400)\n",
            "45 100 Loss: 0.349 | Acc: 91.356% (4111/4500)\n"
          ]
        },
        {
          "output_type": "stream",
          "name": "stderr",
          "text": [
            " 50%|█████     | 50/100 [00:01<00:01, 30.26it/s]"
          ]
        },
        {
          "output_type": "stream",
          "name": "stdout",
          "text": [
            "46 100 Loss: 0.351 | Acc: 91.283% (4199/4600)\n",
            "47 100 Loss: 0.351 | Acc: 91.319% (4292/4700)\n",
            "48 100 Loss: 0.357 | Acc: 91.250% (4380/4800)\n",
            "49 100 Loss: 0.356 | Acc: 91.306% (4474/4900)\n",
            "50 100 Loss: 0.360 | Acc: 91.220% (4561/5000)\n",
            "51 100 Loss: 0.357 | Acc: 91.255% (4654/5100)\n"
          ]
        },
        {
          "output_type": "stream",
          "name": "stderr",
          "text": [
            " 57%|█████▋    | 57/100 [00:02<00:01, 29.28it/s]"
          ]
        },
        {
          "output_type": "stream",
          "name": "stdout",
          "text": [
            "52 100 Loss: 0.354 | Acc: 91.308% (4748/5200)\n",
            "53 100 Loss: 0.355 | Acc: 91.340% (4841/5300)\n",
            "54 100 Loss: 0.354 | Acc: 91.352% (4933/5400)\n",
            "55 100 Loss: 0.356 | Acc: 91.327% (5023/5500)\n",
            "56 100 Loss: 0.359 | Acc: 91.286% (5112/5600)\n",
            "57 100 Loss: 0.361 | Acc: 91.228% (5200/5700)\n",
            "58 100 "
          ]
        },
        {
          "output_type": "stream",
          "name": "stderr",
          "text": [
            " 65%|██████▌   | 65/100 [00:02<00:01, 31.76it/s]"
          ]
        },
        {
          "output_type": "stream",
          "name": "stdout",
          "text": [
            "Loss: 0.361 | Acc: 91.224% (5291/5800)\n",
            "59 100 Loss: 0.363 | Acc: 91.220% (5382/5900)\n",
            "60 100 Loss: 0.361 | Acc: 91.167% (5470/6000)\n",
            "61 100 Loss: 0.358 | Acc: 91.230% (5565/6100)\n",
            "62 100 Loss: 0.359 | Acc: 91.210% (5655/6200)\n",
            "63 100 Loss: 0.356 | Acc: 91.270% (5750/6300)\n",
            "64 100 Loss: 0.354 | Acc: 91.312% (5844/6400)\n",
            "65 100 Loss: 0.355 | Acc: 91.277% (5933/6500)\n"
          ]
        },
        {
          "output_type": "stream",
          "name": "stderr",
          "text": [
            "\r 69%|██████▉   | 69/100 [00:02<00:00, 31.20it/s]"
          ]
        },
        {
          "output_type": "stream",
          "name": "stdout",
          "text": [
            "66 100 Loss: 0.356 | Acc: 91.258% (6023/6600)\n",
            "67 100 Loss: 0.352 | Acc: 91.299% (6117/6700)\n",
            "68 100 Loss: 0.353 | Acc: 91.324% (6210/6800)\n",
            "69 100 Loss: 0.351 | Acc: 91.348% (6303/6900)\n",
            "70 100 Loss: 0.349 | Acc: 91.357% (6395/7000)\n",
            "71 100 Loss: 0.352 | Acc: 91.338% (6485/7100)\n",
            "72 "
          ]
        },
        {
          "output_type": "stream",
          "name": "stderr",
          "text": [
            " 77%|███████▋  | 77/100 [00:02<00:00, 31.82it/s]"
          ]
        },
        {
          "output_type": "stream",
          "name": "stdout",
          "text": [
            "100 Loss: 0.354 | Acc: 91.306% (6574/7200)\n",
            "73 100 Loss: 0.354 | Acc: 91.329% (6667/7300)\n",
            "74 100 Loss: 0.354 | Acc: 91.378% (6762/7400)\n",
            "75 100 Loss: 0.353 | Acc: 91.387% (6854/7500)\n",
            "76 100 Loss: 0.353 | Acc: 91.408% (6947/7600)\n",
            "77 100 Loss: 0.355 | Acc: 91.364% (7035/7700)\n",
            "78 100 Loss: 0.354 | Acc: 91.372% (7127/7800)\n"
          ]
        },
        {
          "output_type": "stream",
          "name": "stderr",
          "text": [
            " 85%|████████▌ | 85/100 [00:02<00:00, 31.64it/s]"
          ]
        },
        {
          "output_type": "stream",
          "name": "stdout",
          "text": [
            "79 100 Loss: 0.352 | Acc: 91.354% (7217/7900)\n",
            "80 100 Loss: 0.352 | Acc: 91.350% (7308/8000)\n",
            "81 100 Loss: 0.351 | Acc: 91.346% (7399/8100)\n",
            "82 100 Loss: 0.350 | Acc: 91.341% (7490/8200)\n",
            "83 100 Loss: 0.349 | Acc: 91.361% (7583/8300)\n",
            "84 100 Loss: 0.349 | Acc: 91.321% (7671/8400)\n",
            "85 100 Loss: 0.348 | Acc: 91.318% (7762/8500)\n"
          ]
        },
        {
          "output_type": "stream",
          "name": "stderr",
          "text": [
            "\r 89%|████████▉ | 89/100 [00:03<00:00, 31.91it/s]"
          ]
        },
        {
          "output_type": "stream",
          "name": "stdout",
          "text": [
            "86 100 Loss: 0.353 | Acc: 91.256% (7848/8600)\n",
            "87 100 Loss: 0.351 | Acc: 91.287% (7942/8700)\n",
            "88 100 Loss: 0.352 | Acc: 91.273% (8032/8800)\n",
            "89 100 Loss: 0.352 | Acc: 91.270% (8123/8900)\n",
            "90 100 Loss: 0.351 | Acc: 91.289% (8216/9000)\n",
            "91 100 Loss: 0.349 | Acc: 91.330% (8311/9100)\n",
            "92 100 Loss: 0.349 | Acc: 91.315% (8401/9200)\n"
          ]
        },
        {
          "output_type": "stream",
          "name": "stderr",
          "text": [
            " 97%|█████████▋| 97/100 [00:03<00:00, 31.17it/s]"
          ]
        },
        {
          "output_type": "stream",
          "name": "stdout",
          "text": [
            "93 100 Loss: 0.349 | Acc: 91.301% (8491/9300)\n",
            "94 100 Loss: 0.348 | Acc: 91.319% (8584/9400)\n",
            "95 100 Loss: 0.345 | Acc: 91.358% (8679/9500)\n",
            "96 100 Loss: 0.345 | Acc: 91.365% (8771/9600)\n",
            "97 100 Loss: 0.343 | Acc: 91.423% (8868/9700)\n",
            "98 100 Loss: 0.342 | Acc: 91.459% (8963/9800)\n",
            "99 100 Loss: 0.343 | Acc: 91.444% (9053/9900)\n",
            "100"
          ]
        },
        {
          "output_type": "stream",
          "name": "stderr",
          "text": [
            "\r100%|██████████| 100/100 [00:03<00:00, 28.33it/s]"
          ]
        },
        {
          "output_type": "stream",
          "name": "stdout",
          "text": [
            " 100 Loss: 0.342 | Acc: 91.450% (9145/10000)\n"
          ]
        },
        {
          "output_type": "stream",
          "name": "stderr",
          "text": [
            "\n"
          ]
        }
      ]
    },
    {
      "cell_type": "markdown",
      "source": [],
      "metadata": {
        "id": "HJVh4j4il-Nr"
      }
    },
    {
      "cell_type": "code",
      "source": [
        "def test():\n",
        "\n",
        "    ####### not touch\n",
        "    model_name = MyModel\n",
        "    # /content/models/230412_2145/0.pth\n",
        "    #/content/models/230412_2208/1.pth\n",
        "    #/content/models/230415_0435/160.pth\n",
        "    checkpoint_path = './models/230415_0435/150.pth'  #수정 필요\n",
        "    mode = 'test' \n",
        "#     data_dir = \"./test_data\"\n",
        "#     meta_path = \"./answer.json\"\n",
        "    model = get_model(model_name,checkpoint_path)\n",
        "    #######\n",
        "    \n",
        "#     # Create training and validation datasets\n",
        "#     test_datasets = MyDataset(meta_path, data_dir, data_transforms['test'],is_train= False) #self,meta_path,root_dir,transform=None, is_train = True\n",
        "\n",
        "#     # Create training and validation dataloaders\n",
        "#     test_dataloader = torch.utils.data.DataLoader(test_datasets, batch_size=batch_size, shuffle=False, num_workers=4)\n",
        "\n",
        "    test_set = torchvision.datasets.CIFAR10(\n",
        "    root='./data', train=False, download=True, transform=data_transforms['test'])\n",
        "    \n",
        "    testloader = torch.utils.data.DataLoader(\n",
        "    test_set, batch_size=100, shuffle=False, num_workers=2)\n",
        "    \n",
        "    # Detect if we have a GPU available\n",
        "    device = torch.device(\"cuda\" if torch.cuda.is_available() else \"cpu\")\n",
        "    # device = torch.device(\"mps\") if torch.backends.mps.is_available() else \"cpu\"\n",
        "    \n",
        "    # Send the model to GPU\n",
        "    #multi-GPU\n",
        "    if torch.cuda.device_count() > 1:\n",
        "        model = nn.DataParallel(model)\n",
        "    model = model.to(device)\n",
        "\n",
        "    # Set model as evaluation mode\n",
        "    for param in model.parameters():\n",
        "        param.requires_grad = False\n",
        "    model.eval()\n",
        "    \n",
        "    # Inference\n",
        "    test_loss = 0\n",
        "    correct = 0\n",
        "    total = 0\n",
        "    criterion = nn.CrossEntropyLoss()\n",
        "    with torch.no_grad():\n",
        "        batch_idx = 0\n",
        "        for inputs, targets in tqdm(testloader):\n",
        "            inputs, targets = inputs.to(device), targets.to(device)\n",
        "            outputs = model(inputs)\n",
        "            loss = criterion(outputs, targets)\n",
        "            \n",
        "            test_loss += loss.item()\n",
        "            _, predicted = outputs.max(1)\n",
        "            total += targets.size(0)\n",
        "            correct += predicted.eq(targets).sum().item()\n",
        "            batch_idx = batch_idx + 1\n",
        "            print(batch_idx, len(testloader), 'Loss: %.3f | Acc: %.3f%% (%d/%d)'\n",
        "                         % (test_loss/(batch_idx+1), 100.*correct/total, correct, total))\n",
        "\n"
      ],
      "metadata": {
        "id": "0KUIN8MBKiEC"
      },
      "execution_count": null,
      "outputs": []
    },
    {
      "cell_type": "code",
      "source": [
        "\n",
        "def main() :\n",
        "\n",
        "    random.seed(53)\n",
        "    test()\n",
        "\n",
        "   \n",
        "if __name__ == '__main__':\n",
        "    main()"
      ],
      "metadata": {
        "colab": {
          "base_uri": "https://localhost:8080/"
        },
        "id": "wJvJ7uB8c1GJ",
        "outputId": "c9052118-0441-442a-8a50-aa754167cf07"
      },
      "execution_count": null,
      "outputs": [
        {
          "output_type": "stream",
          "name": "stdout",
          "text": [
            "start loading model parameter\n",
            "model parameter loaded\n",
            "Files already downloaded and verified\n"
          ]
        },
        {
          "output_type": "stream",
          "name": "stderr",
          "text": [
            "  6%|▌         | 6/100 [00:00<00:03, 25.81it/s]"
          ]
        },
        {
          "output_type": "stream",
          "name": "stdout",
          "text": [
            "1 100 Loss: 0.493 | Acc: 75.000% (75/100)\n",
            "2 100 Loss: 0.714 | Acc: 71.500% (143/200)\n",
            "3 100 Loss: 0.808 | Acc: 71.333% (214/300)\n",
            "4 100 Loss: 0.836 | Acc: 72.250% (289/400)\n",
            "5 100 Loss: 0.862 | Acc: 71.600% (358/500)\n",
            "6 100 Loss: 0.835 | Acc: 71.667% (430/600)\n",
            "7 100 Loss: 0.871 | Acc: 71.143% (498/700)\n",
            "8 100 Loss: 0.907 | Acc: 71.000% (568/800)\n",
            "9 100 Loss: 0.948 | Acc: 70.333% (633/900)\n",
            "10 100 Loss: 0.974 | Acc: 70.400% (704/1000)\n"
          ]
        },
        {
          "output_type": "stream",
          "name": "stderr",
          "text": [
            " 17%|█▋        | 17/100 [00:00<00:01, 41.56it/s]"
          ]
        },
        {
          "output_type": "stream",
          "name": "stdout",
          "text": [
            "11 100 Loss: 0.965 | Acc: 70.909% (780/1100)\n",
            "12 100 Loss: 0.986 | Acc: 70.667% (848/1200)\n",
            "13 100 Loss: 0.981 | Acc: 70.846% (921/1300)\n",
            "14 100 Loss: 0.994 | Acc: 70.000% (980/1400)\n",
            "15 100 Loss: 1.018 | Acc: 69.533% (1043/1500)\n",
            "16 100 Loss: 1.034 | Acc: 69.000% (1104/1600)\n",
            "17 100 Loss: 1.038 | Acc: 69.353% (1179/1700)\n",
            "18 100 Loss: 1.056 | Acc: 69.000% (1242/1800)\n",
            "19 100 Loss: 1.061 | Acc: 68.684% (1305/1900)\n",
            "20 100 Loss: 1.076 | Acc: 68.550% (1371/2000)\n",
            "21 100 Loss: 1.081 | Acc: 68.143% (1431/2100)\n"
          ]
        },
        {
          "output_type": "stream",
          "name": "stderr",
          "text": [
            " 28%|██▊       | 28/100 [00:00<00:01, 45.39it/s]"
          ]
        },
        {
          "output_type": "stream",
          "name": "stdout",
          "text": [
            "22 100 Loss: 1.099 | Acc: 67.909% (1494/2200)\n",
            "23 100 Loss: 1.095 | Acc: 68.087% (1566/2300)\n",
            "24 100 Loss: 1.101 | Acc: 68.042% (1633/2400)\n",
            "25 100 Loss: 1.106 | Acc: 67.960% (1699/2500)\n",
            "26 100 Loss: 1.120 | Acc: 67.731% (1761/2600)\n",
            "27 100 Loss: 1.126 | Acc: 67.556% (1824/2700)\n",
            "28 100 Loss: 1.126 | Acc: 67.643% (1894/2800)\n",
            "29 100 Loss: 1.132 | Acc: 67.655% (1962/2900)\n",
            "30 100 Loss: 1.133 | Acc: 67.533% (2026/3000)\n",
            "31 100 Loss: 1.132 | Acc: 67.548% (2094/3100)\n",
            "32 100 Loss: 1.129 | Acc: 67.625% (2164/3200)\n"
          ]
        },
        {
          "output_type": "stream",
          "name": "stderr",
          "text": [
            " 40%|████      | 40/100 [00:00<00:01, 48.83it/s]"
          ]
        },
        {
          "output_type": "stream",
          "name": "stdout",
          "text": [
            "33 100 Loss: 1.130 | Acc: 67.697% (2234/3300)\n",
            "34 100 Loss: 1.135 | Acc: 67.529% (2296/3400)\n",
            "35 100 Loss: 1.136 | Acc: 67.600% (2366/3500)\n",
            "36 100 Loss: 1.136 | Acc: 67.583% (2433/3600)\n",
            "37 100 Loss: 1.134 | Acc: 67.622% (2502/3700)\n",
            "38 100 Loss: 1.139 | Acc: 67.447% (2563/3800)\n",
            "39 100 Loss: 1.131 | Acc: 67.513% (2633/3900)\n",
            "40 100 Loss: 1.125 | Acc: 67.625% (2705/4000)\n",
            "41 100 Loss: 1.122 | Acc: 67.683% (2775/4100)\n",
            "42 100 Loss: 1.124 | Acc: 67.619% (2840/4200)\n"
          ]
        },
        {
          "output_type": "stream",
          "name": "stderr",
          "text": [
            " 51%|█████     | 51/100 [00:01<00:00, 49.66it/s]"
          ]
        },
        {
          "output_type": "stream",
          "name": "stdout",
          "text": [
            "43 100 Loss: 1.131 | Acc: 67.674% (2910/4300)\n",
            "44 100 Loss: 1.126 | Acc: 67.864% (2986/4400)\n",
            "45 100 Loss: 1.123 | Acc: 67.956% (3058/4500)\n",
            "46 100 Loss: 1.124 | Acc: 67.913% (3124/4600)\n",
            "47 100 Loss: 1.118 | Acc: 67.979% (3195/4700)\n",
            "48 100 Loss: 1.119 | Acc: 67.896% (3259/4800)\n",
            "49 100 Loss: 1.116 | Acc: 68.020% (3333/4900)\n",
            "50 100 Loss: 1.112 | Acc: 68.100% (3405/5000)\n",
            "51 100 Loss: 1.114 | Acc: 68.039% (3470/5100)\n",
            "52 100 Loss: 1.116 | Acc: 68.038% (3538/5200)\n",
            "53 100 Loss: 1.115 | Acc: 67.981% (3603/5300)\n"
          ]
        },
        {
          "output_type": "stream",
          "name": "stderr",
          "text": [
            " 61%|██████    | 61/100 [00:01<00:00, 48.96it/s]"
          ]
        },
        {
          "output_type": "stream",
          "name": "stdout",
          "text": [
            "54 100 Loss: 1.110 | Acc: 68.019% (3673/5400)\n",
            "55 100 Loss: 1.106 | Acc: 68.145% (3748/5500)\n",
            "56 100 Loss: 1.111 | Acc: 68.036% (3810/5600)\n",
            "57 100 Loss: 1.110 | Acc: 68.053% (3879/5700)\n",
            "58 100 Loss: 1.105 | Acc: 68.121% (3951/5800)\n",
            "59 100 Loss: 1.105 | Acc: 68.068% (4016/5900)\n",
            "60 100 Loss: 1.109 | Acc: 67.833% (4070/6000)\n",
            "61 100 Loss: 1.108 | Acc: 67.885% (4141/6100)\n",
            "62 100 Loss: 1.108 | Acc: 67.855% (4207/6200)\n",
            "63 100 Loss: 1.106 | Acc: 67.889% (4277/6300)\n",
            "64 100 Loss: 1.105 | Acc: 67.953% (4349/6400)\n"
          ]
        },
        {
          "output_type": "stream",
          "name": "stderr",
          "text": [
            " 73%|███████▎  | 73/100 [00:01<00:00, 52.57it/s]"
          ]
        },
        {
          "output_type": "stream",
          "name": "stdout",
          "text": [
            "65 100 Loss: 1.105 | Acc: 67.954% (4417/6500)\n",
            "66 100 Loss: 1.105 | Acc: 67.955% (4485/6600)\n",
            "67 100 Loss: 1.104 | Acc: 67.925% (4551/6700)\n",
            "68 100 Loss: 1.102 | Acc: 68.000% (4624/6800)\n",
            "69 100 Loss: 1.101 | Acc: 68.029% (4694/6900)\n",
            "70 100 Loss: 1.101 | Acc: 68.000% (4760/7000)\n",
            "71 100 Loss: 1.104 | Acc: 67.944% (4824/7100)\n",
            "72 100 Loss: 1.108 | Acc: 67.944% (4892/7200)\n",
            "73 100 Loss: 1.105 | Acc: 67.945% (4960/7300)\n",
            "74 100 Loss: 1.102 | Acc: 67.986% (5031/7400)\n",
            "75 100 Loss: 1.105 | Acc: 67.933% (5095/7500)\n",
            "76 100 Loss: 1.105 | Acc: 67.908% (5161/7600)\n"
          ]
        },
        {
          "output_type": "stream",
          "name": "stderr",
          "text": [
            " 85%|████████▌ | 85/100 [00:01<00:00, 50.68it/s]"
          ]
        },
        {
          "output_type": "stream",
          "name": "stdout",
          "text": [
            "77 100 Loss: 1.106 | Acc: 67.870% (5226/7700)\n",
            "78 100 Loss: 1.108 | Acc: 67.910% (5297/7800)\n",
            "79 100 Loss: 1.108 | Acc: 67.975% (5370/7900)\n",
            "80 100 Loss: 1.110 | Acc: 67.963% (5437/8000)\n",
            "81 100 Loss: 1.108 | Acc: 67.963% (5505/8100)\n",
            "82 100 Loss: 1.105 | Acc: 67.976% (5574/8200)\n",
            "83 100 Loss: 1.102 | Acc: 68.060% (5649/8300)\n",
            "84 100 Loss: 1.104 | Acc: 68.024% (5714/8400)\n",
            "85 100 Loss: 1.107 | Acc: 67.988% (5779/8500)\n",
            "86 100 Loss: 1.109 | Acc: 67.942% (5843/8600)\n",
            "87"
          ]
        },
        {
          "output_type": "stream",
          "name": "stderr",
          "text": [
            " 97%|█████████▋| 97/100 [00:02<00:00, 51.78it/s]"
          ]
        },
        {
          "output_type": "stream",
          "name": "stdout",
          "text": [
            " 100 Loss: 1.108 | Acc: 67.989% (5915/8700)\n",
            "88 100 Loss: 1.106 | Acc: 68.057% (5989/8800)\n",
            "89 100 Loss: 1.107 | Acc: 67.989% (6051/8900)\n",
            "90 100 Loss: 1.106 | Acc: 67.956% (6116/9000)\n",
            "91 100 Loss: 1.105 | Acc: 67.901% (6179/9100)\n",
            "92 100 Loss: 1.104 | Acc: 67.870% (6244/9200)\n",
            "93 100 Loss: 1.107 | Acc: 67.806% (6306/9300)\n",
            "94 100 Loss: 1.107 | Acc: 67.777% (6371/9400)\n",
            "95 100 Loss: 1.107 | Acc: 67.811% (6442/9500)\n",
            "96 100 Loss: 1.105 | Acc: 67.844% (6513/9600)\n",
            "97 100 Loss: 1.103 | Acc: 67.876% (6584/9700)\n"
          ]
        },
        {
          "output_type": "stream",
          "name": "stderr",
          "text": [
            "\r100%|██████████| 100/100 [00:02<00:00, 45.97it/s]"
          ]
        },
        {
          "output_type": "stream",
          "name": "stdout",
          "text": [
            "98 100 Loss: 1.105 | Acc: 67.857% (6650/9800)\n",
            "99 100 Loss: 1.105 | Acc: 67.828% (6715/9900)\n",
            "100 100 Loss: 1.105 | Acc: 67.850% (6785/10000)\n"
          ]
        },
        {
          "output_type": "stream",
          "name": "stderr",
          "text": [
            "\n"
          ]
        }
      ]
    },
    {
      "cell_type": "code",
      "source": [],
      "metadata": {
        "id": "Q1VvPGZgdCmq"
      },
      "execution_count": null,
      "outputs": []
    }
  ]
}