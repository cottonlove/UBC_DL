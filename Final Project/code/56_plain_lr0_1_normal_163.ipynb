{
  "nbformat": 4,
  "nbformat_minor": 0,
  "metadata": {
    "colab": {
      "provenance": []
    },
    "kernelspec": {
      "name": "python3",
      "display_name": "Python 3"
    },
    "language_info": {
      "name": "python"
    },
    "accelerator": "GPU",
    "gpuClass": "standard"
  },
  "cells": [
    {
      "cell_type": "markdown",
      "source": [
        "# import Library"
      ],
      "metadata": {
        "id": "69DMTzb8Wr3P"
      }
    },
    {
      "cell_type": "code",
      "execution_count": null,
      "metadata": {
        "id": "vJvEX77zWo-B"
      },
      "outputs": [],
      "source": [
        "import torch\n",
        "from torch import nn\n",
        "import torch.nn.functional as F\n",
        "from torch.utils.data import Dataset\n",
        "import torch.optim as optim\n",
        "import torchvision\n",
        "import torchvision.transforms as transforms\n",
        "from torch.utils.tensorboard import SummaryWriter\n",
        "\n",
        "from PIL import Image\n",
        "from collections import OrderedDict #for multiGPU\n",
        "from tqdm import tqdm\n",
        "\n",
        "import os\n",
        "import random\n",
        "import time"
      ]
    },
    {
      "cell_type": "code",
      "source": [],
      "metadata": {
        "id": "vaokHpOA7kOG"
      },
      "execution_count": null,
      "outputs": []
    },
    {
      "cell_type": "markdown",
      "source": [
        "# GPU"
      ],
      "metadata": {
        "id": "C3NlDl46Wt-p"
      }
    },
    {
      "cell_type": "code",
      "source": [
        "# device = torch.device(\"mps\") if torch.backends.mps.is_available() else \"cpu\"\n",
        "#for colab\n",
        "device = 'cuda' if torch.cuda.is_available() else 'cpu'\n",
        "print(\"device is \", device)"
      ],
      "metadata": {
        "colab": {
          "base_uri": "https://localhost:8080/"
        },
        "id": "eif1a5U0WzDd",
        "outputId": "523954c1-e3ab-4b9a-c6ba-c7c0e264f58f"
      },
      "execution_count": null,
      "outputs": [
        {
          "output_type": "stream",
          "name": "stdout",
          "text": [
            "device is  cuda\n"
          ]
        }
      ]
    },
    {
      "cell_type": "markdown",
      "source": [
        "# Load Data"
      ],
      "metadata": {
        "id": "_dWtJclYW0gS"
      }
    },
    {
      "cell_type": "code",
      "source": [
        "print(\"loading dataset\")\n",
        "\n",
        "data_transforms = {\n",
        "    'train' : transforms.Compose([ #horizontal flip, random crop, normalization           \n",
        "            #transforms.ToPILImage(),\n",
        "            # transforms.Resize((256,256)),\n",
        "            transforms.RandomCrop(32, padding = 4), #augmentation, input for ResNet\n",
        "            transforms.RandomHorizontalFlip(), #augmentation\n",
        "            transforms.ToTensor(),\n",
        "            transforms.Normalize((0.485, 0.456, 0.406), (0.229, 0.224, 0.225)),\n",
        "            #transforms.Normalize((0.4914, 0.4822, 0.4465), (1, 1, 1)), #with the per-pixel mean subtracted\n",
        "\n",
        "        ]) , \n",
        "        'test': transforms.Compose([\n",
        "            transforms.ToTensor(), #single view of the original 32x32 image\n",
        "            transforms.Normalize((0.485, 0.456, 0.406), (0.229, 0.224, 0.225)),\n",
        "        ])\n",
        "    }\n",
        "#access data_transforms['train']\n",
        "\n",
        "#dataloader (batch)\n",
        "train_set = torchvision.datasets.CIFAR10(\n",
        "    root='./data', train=True, download=True, transform = data_transforms['train']\n",
        ")\n",
        "trainloader = torch.utils.data.DataLoader(\n",
        "    train_set, batch_size = 128, shuffle = True, num_workers=2\n",
        ")\n",
        "\n",
        "test_set = torchvision.datasets.CIFAR10(\n",
        "    root='./data', train=False, download=True, transform=data_transforms['test'])\n",
        "testloader = torch.utils.data.DataLoader(\n",
        "    test_set, batch_size=100, shuffle=False, num_workers=2)\n",
        "\n",
        "#classes\n",
        "classes = ('plane', 'car', 'bird', 'cat', 'deer','dog', 'frog', 'horse', 'ship', 'truck')\n"
      ],
      "metadata": {
        "colab": {
          "base_uri": "https://localhost:8080/"
        },
        "id": "MH1j-MmLW2VP",
        "outputId": "450efc43-254a-496a-c1ae-5a3b8fa76023"
      },
      "execution_count": null,
      "outputs": [
        {
          "output_type": "stream",
          "name": "stdout",
          "text": [
            "loading dataset\n",
            "Files already downloaded and verified\n",
            "Files already downloaded and verified\n"
          ]
        }
      ]
    },
    {
      "cell_type": "markdown",
      "source": [
        "# Model Architecture"
      ],
      "metadata": {
        "id": "5kIjVUOzW4TQ"
      }
    },
    {
      "cell_type": "code",
      "source": [
        "#classes for Plain56 Model\n",
        "class conv16 (nn.Module): #Blue\n",
        "  def __init__(self):\n",
        "    super().__init__()\n",
        "    self.Fx1 = nn.Sequential(\n",
        "        #torch.nn.Conv2d(in_channels, out_channels, kernel_size, stride=1, padding=0, dilation=1, groups=1, bias=True, padding_mode='zeros', device=None, dtype=None)\n",
        "        nn.Conv2d(16, 16, kernel_size = 3, stride = 1, padding = 1, bias = False),\n",
        "        nn.BatchNorm2d(16),\n",
        "        nn.ReLU(),\n",
        "        nn.Conv2d(16, 16, kernel_size = 3, stride = 1, padding = 1, bias = False),\n",
        "        nn.BatchNorm2d(16),\n",
        "        nn.ReLU()\n",
        "    )\n",
        "    self.Fx2 = nn.Sequential(\n",
        "        #torch.nn.Conv2d(in_channels, out_channels, kernel_size, stride=1, padding=0, dilation=1, groups=1, bias=True, padding_mode='zeros', device=None, dtype=None)\n",
        "        nn.Conv2d(16, 16, kernel_size = 3, stride = 1, padding = 1, bias = False),\n",
        "        nn.BatchNorm2d(16),\n",
        "        nn.ReLU(),\n",
        "        nn.Conv2d(16, 16, kernel_size = 3, stride = 1, padding = 1, bias = False),\n",
        "        nn.BatchNorm2d(16),\n",
        "        nn.ReLU()\n",
        "    )\n",
        "    self.Fx3 = nn.Sequential(\n",
        "        #torch.nn.Conv2d(in_channels, out_channels, kernel_size, stride=1, padding=0, dilation=1, groups=1, bias=True, padding_mode='zeros', device=None, dtype=None)\n",
        "        nn.Conv2d(16, 16, kernel_size = 3, stride = 1, padding = 1, bias = False),\n",
        "        nn.BatchNorm2d(16),\n",
        "        nn.ReLU(),\n",
        "        nn.Conv2d(16, 16, kernel_size = 3, stride = 1, padding = 1, bias = False),\n",
        "        nn.BatchNorm2d(16),\n",
        "        nn.ReLU()\n",
        "    )\n",
        "    self.relu = nn.ReLU()\n",
        "    \n",
        "  def forward(self,x):\n",
        "    for i in range(9):\n",
        "      x = self.Fx1(x)\n",
        "    x = self.relu(x)\n",
        "    return x\n",
        "\n",
        "#classes for Plain56 Model\n",
        "class conv32 (nn.Module): #Purple\n",
        "  def __init__(self):\n",
        "    super().__init__()\n",
        "    self.Fx1 = nn.Sequential(\n",
        "        #torch.nn.Conv2d(in_channels, out_channels, kernel_size, stride=1, padding=0, dilation=1, groups=1, bias=True, padding_mode='zeros', device=None, dtype=None)\n",
        "        nn.Conv2d(16, 32, kernel_size = 3, stride = 2, padding = 1, bias = False),\n",
        "        nn.BatchNorm2d(32),\n",
        "        nn.ReLU(),\n",
        "        nn.Conv2d(32, 32, kernel_size = 3, stride = 1, padding = 1, bias = False),\n",
        "        nn.BatchNorm2d(32),\n",
        "        nn.ReLU()\n",
        "    )\n",
        "\n",
        "    self.Fx2 = nn.Sequential(\n",
        "        #torch.nn.Conv2d(in_channels, out_channels, kernel_size, stride=1, padding=0, dilation=1, groups=1, bias=True, padding_mode='zeros', device=None, dtype=None)\n",
        "        nn.Conv2d(32, 32, kernel_size = 3, stride = 1, padding = 1, bias = False),\n",
        "        nn.BatchNorm2d(32),\n",
        "        nn.ReLU(),\n",
        "        nn.Conv2d(32, 32, kernel_size = 3, stride = 1, padding = 1, bias = False),\n",
        "        nn.BatchNorm2d(32),\n",
        "        nn.ReLU()\n",
        "    )\n",
        "    self.Fx3 = nn.Sequential(\n",
        "        #torch.nn.Conv2d(in_channels, out_channels, kernel_size, stride=1, padding=0, dilation=1, groups=1, bias=True, padding_mode='zeros', device=None, dtype=None)\n",
        "        nn.Conv2d(32, 32, kernel_size = 3, stride = 1, padding = 1, bias = False),\n",
        "        nn.BatchNorm2d(32),\n",
        "        nn.ReLU(),\n",
        "        nn.Conv2d(32, 32, kernel_size = 3, stride = 1, padding = 1, bias = False),\n",
        "        nn.BatchNorm2d(32),\n",
        "        nn.ReLU()\n",
        "    )\n",
        "    self.relu = nn.ReLU()\n",
        "    \n",
        "  def forward(self,x):\n",
        "    x = self.Fx1(x) \n",
        "    for i in range(8):\n",
        "      x = self.Fx2(x) \n",
        "    x = self.relu(x)\n",
        "    return x\n",
        "\n",
        "#classes for Plain56 Model\n",
        "class conv64 (nn.Module): #Green\n",
        "  def __init__(self):\n",
        "    super().__init__()\n",
        "    self.Fx1 = nn.Sequential(\n",
        "        #torch.nn.Conv2d(in_channels, out_channels, kernel_size, stride=1, padding=0, dilation=1, groups=1, bias=True, padding_mode='zeros', device=None, dtype=None)\n",
        "        nn.Conv2d(32, 64, kernel_size = 3, stride = 2, padding = 1, bias = False),\n",
        "        nn.BatchNorm2d(64),\n",
        "        nn.ReLU(),\n",
        "        nn.Conv2d(64, 64, kernel_size = 3, stride = 1, padding = 1, bias = False),\n",
        "        nn.BatchNorm2d(64),\n",
        "        nn.ReLU()\n",
        "    )\n",
        "\n",
        "  \n",
        "    self.Fx2 = nn.Sequential(\n",
        "        #torch.nn.Conv2d(in_channels, out_channels, kernel_size, stride=1, padding=0, dilation=1, groups=1, bias=True, padding_mode='zeros', device=None, dtype=None)\n",
        "        nn.Conv2d(64, 64, kernel_size = 3, stride = 1, padding = 1, bias = False),\n",
        "        nn.BatchNorm2d(64),\n",
        "        nn.ReLU(),\n",
        "        nn.Conv2d(64, 64, kernel_size = 3, stride = 1, padding = 1, bias = False),\n",
        "        nn.BatchNorm2d(64),\n",
        "        nn.ReLU()\n",
        "    )\n",
        "    self.Fx3 = nn.Sequential(\n",
        "        #torch.nn.Conv2d(in_channels, out_channels, kernel_size, stride=1, padding=0, dilation=1, groups=1, bias=True, padding_mode='zeros', device=None, dtype=None)\n",
        "        nn.Conv2d(64, 64, kernel_size = 3, stride = 1, padding = 1, bias = False),\n",
        "        nn.BatchNorm2d(64),\n",
        "        nn.ReLU(),\n",
        "        nn.Conv2d(64, 64, kernel_size = 3, stride = 1, padding = 1, bias = False),\n",
        "        nn.BatchNorm2d(64),\n",
        "        nn.ReLU()\n",
        "    )\n",
        "    self.relu = nn.ReLU()\n",
        "    \n",
        "  def forward(self,x):\n",
        "    x = self.Fx1(x) \n",
        "    for i in range(8):\n",
        "      x = self.Fx2(x) \n",
        "    x = self.relu(x)\n",
        "    return x\n"
      ],
      "metadata": {
        "id": "1a6WM1fVW6B7"
      },
      "execution_count": null,
      "outputs": []
    },
    {
      "cell_type": "code",
      "source": [
        "class MyModel(nn.Module): #Plain56 architecture implementation\n",
        "    def __init__(self, conv2 = conv16, conv3 = conv32,\n",
        "            conv4 = conv64, num_classes = 10, init_weights = True): #num_classes\n",
        "        super().__init__()\n",
        "        self.conv1 = nn.Sequential(\n",
        "            nn.Conv2d(3, 16, kernel_size = 3, stride = 1, padding=1, bias = False),\n",
        "            nn.BatchNorm2d(16),\n",
        "            nn.ReLU(),\n",
        "        )\n",
        "        self.conv2 = conv2()\n",
        "        self.conv3 = conv3()\n",
        "        self.conv4 = conv4()\n",
        "        self.avg_pool = nn.AdaptiveAvgPool2d((1,1))\n",
        "        self.fclayer = nn.Linear(64, num_classes)\n",
        "\n",
        "        if init_weights:\n",
        "            self.initialize_weights()\n",
        "    \n",
        "    # define weight initialization function\n",
        "    def initialize_weights(self):\n",
        "        for m in self.modules():\n",
        "            if isinstance(m, nn.Conv2d):\n",
        "                nn.init.kaiming_normal_(m.weight, mode='fan_out', nonlinearity='relu')\n",
        "                if m.bias is not None:\n",
        "                    nn.init.constant_(m.bias, 0)\n",
        "            elif isinstance(m, nn.BatchNorm2d):\n",
        "                nn.init.constant_(m.weight, 1)\n",
        "                nn.init.constant_(m.bias, 0)\n",
        "            elif isinstance(m, nn.Linear):\n",
        "                nn.init.normal_(m.weight, 0, 0.01)\n",
        "                nn.init.constant_(m.bias, 0) \n",
        "        \n",
        "    def forward(self, x):\n",
        "        x1 = self.conv1(x)\n",
        "        x2 = self.conv2(x1)\n",
        "        x3 = self.conv3(x2)\n",
        "        x4 = self.conv4(x3)\n",
        "        x = self.avg_pool(x4)\n",
        "        x = x.view(x.size(0), -1)\n",
        "        output = self.fclayer(x)\n",
        "        return output"
      ],
      "metadata": {
        "id": "kfd-MtXTW70X"
      },
      "execution_count": null,
      "outputs": []
    },
    {
      "cell_type": "code",
      "source": [
        "from torchsummary import summary\n",
        "plain56 = MyModel()\n",
        "summary(plain56, (3,32,32))"
      ],
      "metadata": {
        "colab": {
          "base_uri": "https://localhost:8080/"
        },
        "id": "s7rgAB3jW9Zl",
        "outputId": "ef9ff29e-8e2e-41d8-b90c-f51b8916e3b3"
      },
      "execution_count": null,
      "outputs": [
        {
          "output_type": "stream",
          "name": "stdout",
          "text": [
            "----------------------------------------------------------------\n",
            "        Layer (type)               Output Shape         Param #\n",
            "================================================================\n",
            "            Conv2d-1           [-1, 16, 32, 32]             432\n",
            "       BatchNorm2d-2           [-1, 16, 32, 32]              32\n",
            "              ReLU-3           [-1, 16, 32, 32]               0\n",
            "            Conv2d-4           [-1, 16, 32, 32]           2,304\n",
            "       BatchNorm2d-5           [-1, 16, 32, 32]              32\n",
            "              ReLU-6           [-1, 16, 32, 32]               0\n",
            "            Conv2d-7           [-1, 16, 32, 32]           2,304\n",
            "       BatchNorm2d-8           [-1, 16, 32, 32]              32\n",
            "              ReLU-9           [-1, 16, 32, 32]               0\n",
            "           Conv2d-10           [-1, 16, 32, 32]           2,304\n",
            "      BatchNorm2d-11           [-1, 16, 32, 32]              32\n",
            "             ReLU-12           [-1, 16, 32, 32]               0\n",
            "           Conv2d-13           [-1, 16, 32, 32]           2,304\n",
            "      BatchNorm2d-14           [-1, 16, 32, 32]              32\n",
            "             ReLU-15           [-1, 16, 32, 32]               0\n",
            "           Conv2d-16           [-1, 16, 32, 32]           2,304\n",
            "      BatchNorm2d-17           [-1, 16, 32, 32]              32\n",
            "             ReLU-18           [-1, 16, 32, 32]               0\n",
            "           Conv2d-19           [-1, 16, 32, 32]           2,304\n",
            "      BatchNorm2d-20           [-1, 16, 32, 32]              32\n",
            "             ReLU-21           [-1, 16, 32, 32]               0\n",
            "           Conv2d-22           [-1, 16, 32, 32]           2,304\n",
            "      BatchNorm2d-23           [-1, 16, 32, 32]              32\n",
            "             ReLU-24           [-1, 16, 32, 32]               0\n",
            "           Conv2d-25           [-1, 16, 32, 32]           2,304\n",
            "      BatchNorm2d-26           [-1, 16, 32, 32]              32\n",
            "             ReLU-27           [-1, 16, 32, 32]               0\n",
            "           Conv2d-28           [-1, 16, 32, 32]           2,304\n",
            "      BatchNorm2d-29           [-1, 16, 32, 32]              32\n",
            "             ReLU-30           [-1, 16, 32, 32]               0\n",
            "           Conv2d-31           [-1, 16, 32, 32]           2,304\n",
            "      BatchNorm2d-32           [-1, 16, 32, 32]              32\n",
            "             ReLU-33           [-1, 16, 32, 32]               0\n",
            "           Conv2d-34           [-1, 16, 32, 32]           2,304\n",
            "      BatchNorm2d-35           [-1, 16, 32, 32]              32\n",
            "             ReLU-36           [-1, 16, 32, 32]               0\n",
            "           Conv2d-37           [-1, 16, 32, 32]           2,304\n",
            "      BatchNorm2d-38           [-1, 16, 32, 32]              32\n",
            "             ReLU-39           [-1, 16, 32, 32]               0\n",
            "           Conv2d-40           [-1, 16, 32, 32]           2,304\n",
            "      BatchNorm2d-41           [-1, 16, 32, 32]              32\n",
            "             ReLU-42           [-1, 16, 32, 32]               0\n",
            "           Conv2d-43           [-1, 16, 32, 32]           2,304\n",
            "      BatchNorm2d-44           [-1, 16, 32, 32]              32\n",
            "             ReLU-45           [-1, 16, 32, 32]               0\n",
            "           Conv2d-46           [-1, 16, 32, 32]           2,304\n",
            "      BatchNorm2d-47           [-1, 16, 32, 32]              32\n",
            "             ReLU-48           [-1, 16, 32, 32]               0\n",
            "           Conv2d-49           [-1, 16, 32, 32]           2,304\n",
            "      BatchNorm2d-50           [-1, 16, 32, 32]              32\n",
            "             ReLU-51           [-1, 16, 32, 32]               0\n",
            "           Conv2d-52           [-1, 16, 32, 32]           2,304\n",
            "      BatchNorm2d-53           [-1, 16, 32, 32]              32\n",
            "             ReLU-54           [-1, 16, 32, 32]               0\n",
            "           Conv2d-55           [-1, 16, 32, 32]           2,304\n",
            "      BatchNorm2d-56           [-1, 16, 32, 32]              32\n",
            "             ReLU-57           [-1, 16, 32, 32]               0\n",
            "             ReLU-58           [-1, 16, 32, 32]               0\n",
            "           conv16-59           [-1, 16, 32, 32]               0\n",
            "           Conv2d-60           [-1, 32, 16, 16]           4,608\n",
            "      BatchNorm2d-61           [-1, 32, 16, 16]              64\n",
            "             ReLU-62           [-1, 32, 16, 16]               0\n",
            "           Conv2d-63           [-1, 32, 16, 16]           9,216\n",
            "      BatchNorm2d-64           [-1, 32, 16, 16]              64\n",
            "             ReLU-65           [-1, 32, 16, 16]               0\n",
            "           Conv2d-66           [-1, 32, 16, 16]           9,216\n",
            "      BatchNorm2d-67           [-1, 32, 16, 16]              64\n",
            "             ReLU-68           [-1, 32, 16, 16]               0\n",
            "           Conv2d-69           [-1, 32, 16, 16]           9,216\n",
            "      BatchNorm2d-70           [-1, 32, 16, 16]              64\n",
            "             ReLU-71           [-1, 32, 16, 16]               0\n",
            "           Conv2d-72           [-1, 32, 16, 16]           9,216\n",
            "      BatchNorm2d-73           [-1, 32, 16, 16]              64\n",
            "             ReLU-74           [-1, 32, 16, 16]               0\n",
            "           Conv2d-75           [-1, 32, 16, 16]           9,216\n",
            "      BatchNorm2d-76           [-1, 32, 16, 16]              64\n",
            "             ReLU-77           [-1, 32, 16, 16]               0\n",
            "           Conv2d-78           [-1, 32, 16, 16]           9,216\n",
            "      BatchNorm2d-79           [-1, 32, 16, 16]              64\n",
            "             ReLU-80           [-1, 32, 16, 16]               0\n",
            "           Conv2d-81           [-1, 32, 16, 16]           9,216\n",
            "      BatchNorm2d-82           [-1, 32, 16, 16]              64\n",
            "             ReLU-83           [-1, 32, 16, 16]               0\n",
            "           Conv2d-84           [-1, 32, 16, 16]           9,216\n",
            "      BatchNorm2d-85           [-1, 32, 16, 16]              64\n",
            "             ReLU-86           [-1, 32, 16, 16]               0\n",
            "           Conv2d-87           [-1, 32, 16, 16]           9,216\n",
            "      BatchNorm2d-88           [-1, 32, 16, 16]              64\n",
            "             ReLU-89           [-1, 32, 16, 16]               0\n",
            "           Conv2d-90           [-1, 32, 16, 16]           9,216\n",
            "      BatchNorm2d-91           [-1, 32, 16, 16]              64\n",
            "             ReLU-92           [-1, 32, 16, 16]               0\n",
            "           Conv2d-93           [-1, 32, 16, 16]           9,216\n",
            "      BatchNorm2d-94           [-1, 32, 16, 16]              64\n",
            "             ReLU-95           [-1, 32, 16, 16]               0\n",
            "           Conv2d-96           [-1, 32, 16, 16]           9,216\n",
            "      BatchNorm2d-97           [-1, 32, 16, 16]              64\n",
            "             ReLU-98           [-1, 32, 16, 16]               0\n",
            "           Conv2d-99           [-1, 32, 16, 16]           9,216\n",
            "     BatchNorm2d-100           [-1, 32, 16, 16]              64\n",
            "            ReLU-101           [-1, 32, 16, 16]               0\n",
            "          Conv2d-102           [-1, 32, 16, 16]           9,216\n",
            "     BatchNorm2d-103           [-1, 32, 16, 16]              64\n",
            "            ReLU-104           [-1, 32, 16, 16]               0\n",
            "          Conv2d-105           [-1, 32, 16, 16]           9,216\n",
            "     BatchNorm2d-106           [-1, 32, 16, 16]              64\n",
            "            ReLU-107           [-1, 32, 16, 16]               0\n",
            "          Conv2d-108           [-1, 32, 16, 16]           9,216\n",
            "     BatchNorm2d-109           [-1, 32, 16, 16]              64\n",
            "            ReLU-110           [-1, 32, 16, 16]               0\n",
            "          Conv2d-111           [-1, 32, 16, 16]           9,216\n",
            "     BatchNorm2d-112           [-1, 32, 16, 16]              64\n",
            "            ReLU-113           [-1, 32, 16, 16]               0\n",
            "            ReLU-114           [-1, 32, 16, 16]               0\n",
            "          conv32-115           [-1, 32, 16, 16]               0\n",
            "          Conv2d-116             [-1, 64, 8, 8]          18,432\n",
            "     BatchNorm2d-117             [-1, 64, 8, 8]             128\n",
            "            ReLU-118             [-1, 64, 8, 8]               0\n",
            "          Conv2d-119             [-1, 64, 8, 8]          36,864\n",
            "     BatchNorm2d-120             [-1, 64, 8, 8]             128\n",
            "            ReLU-121             [-1, 64, 8, 8]               0\n",
            "          Conv2d-122             [-1, 64, 8, 8]          36,864\n",
            "     BatchNorm2d-123             [-1, 64, 8, 8]             128\n",
            "            ReLU-124             [-1, 64, 8, 8]               0\n",
            "          Conv2d-125             [-1, 64, 8, 8]          36,864\n",
            "     BatchNorm2d-126             [-1, 64, 8, 8]             128\n",
            "            ReLU-127             [-1, 64, 8, 8]               0\n",
            "          Conv2d-128             [-1, 64, 8, 8]          36,864\n",
            "     BatchNorm2d-129             [-1, 64, 8, 8]             128\n",
            "            ReLU-130             [-1, 64, 8, 8]               0\n",
            "          Conv2d-131             [-1, 64, 8, 8]          36,864\n",
            "     BatchNorm2d-132             [-1, 64, 8, 8]             128\n",
            "            ReLU-133             [-1, 64, 8, 8]               0\n",
            "          Conv2d-134             [-1, 64, 8, 8]          36,864\n",
            "     BatchNorm2d-135             [-1, 64, 8, 8]             128\n",
            "            ReLU-136             [-1, 64, 8, 8]               0\n",
            "          Conv2d-137             [-1, 64, 8, 8]          36,864\n",
            "     BatchNorm2d-138             [-1, 64, 8, 8]             128\n",
            "            ReLU-139             [-1, 64, 8, 8]               0\n",
            "          Conv2d-140             [-1, 64, 8, 8]          36,864\n",
            "     BatchNorm2d-141             [-1, 64, 8, 8]             128\n",
            "            ReLU-142             [-1, 64, 8, 8]               0\n",
            "          Conv2d-143             [-1, 64, 8, 8]          36,864\n",
            "     BatchNorm2d-144             [-1, 64, 8, 8]             128\n",
            "            ReLU-145             [-1, 64, 8, 8]               0\n",
            "          Conv2d-146             [-1, 64, 8, 8]          36,864\n",
            "     BatchNorm2d-147             [-1, 64, 8, 8]             128\n",
            "            ReLU-148             [-1, 64, 8, 8]               0\n",
            "          Conv2d-149             [-1, 64, 8, 8]          36,864\n",
            "     BatchNorm2d-150             [-1, 64, 8, 8]             128\n",
            "            ReLU-151             [-1, 64, 8, 8]               0\n",
            "          Conv2d-152             [-1, 64, 8, 8]          36,864\n",
            "     BatchNorm2d-153             [-1, 64, 8, 8]             128\n",
            "            ReLU-154             [-1, 64, 8, 8]               0\n",
            "          Conv2d-155             [-1, 64, 8, 8]          36,864\n",
            "     BatchNorm2d-156             [-1, 64, 8, 8]             128\n",
            "            ReLU-157             [-1, 64, 8, 8]               0\n",
            "          Conv2d-158             [-1, 64, 8, 8]          36,864\n",
            "     BatchNorm2d-159             [-1, 64, 8, 8]             128\n",
            "            ReLU-160             [-1, 64, 8, 8]               0\n",
            "          Conv2d-161             [-1, 64, 8, 8]          36,864\n",
            "     BatchNorm2d-162             [-1, 64, 8, 8]             128\n",
            "            ReLU-163             [-1, 64, 8, 8]               0\n",
            "          Conv2d-164             [-1, 64, 8, 8]          36,864\n",
            "     BatchNorm2d-165             [-1, 64, 8, 8]             128\n",
            "            ReLU-166             [-1, 64, 8, 8]               0\n",
            "          Conv2d-167             [-1, 64, 8, 8]          36,864\n",
            "     BatchNorm2d-168             [-1, 64, 8, 8]             128\n",
            "            ReLU-169             [-1, 64, 8, 8]               0\n",
            "            ReLU-170             [-1, 64, 8, 8]               0\n",
            "          conv64-171             [-1, 64, 8, 8]               0\n",
            "AdaptiveAvgPool2d-172             [-1, 64, 1, 1]               0\n",
            "          Linear-173                   [-1, 10]             650\n",
            "================================================================\n",
            "Total params: 853,018\n",
            "Trainable params: 853,018\n",
            "Non-trainable params: 0\n",
            "----------------------------------------------------------------\n",
            "Input size (MB): 0.01\n",
            "Forward/backward pass size (MB): 12.63\n",
            "Params size (MB): 3.25\n",
            "Estimated Total Size (MB): 15.89\n",
            "----------------------------------------------------------------\n"
          ]
        }
      ]
    },
    {
      "cell_type": "markdown",
      "source": [
        "# Train"
      ],
      "metadata": {
        "id": "uCBYbi05XAVD"
      }
    },
    {
      "cell_type": "code",
      "source": [
        "# #get_model when loading model parameters trained w/ multi-gpu\n",
        "def get_model(model_name, checkpoint_path):\n",
        "    print(\"start loading model parameter\")\n",
        "    model = model_name()\n",
        "    state_dict = torch.load(checkpoint_path)\n",
        "\n",
        "    new_state_dict = OrderedDict()\n",
        "\n",
        "    for k, v in state_dict.items():\n",
        "        name = k.replace('module.', '')\n",
        "        new_state_dict[name] = v\n",
        "    model.load_state_dict(new_state_dict)\n",
        "    print(\"model parameter loaded\")\n",
        "    return model"
      ],
      "metadata": {
        "id": "eD20lBrfW-tQ"
      },
      "execution_count": null,
      "outputs": []
    },
    {
      "cell_type": "code",
      "source": [
        "\n",
        "def train(n_epochs, train_loader) :\n",
        " \n",
        "    epochs = n_epochs\n",
        "    train_dataloader = train_loader\n",
        "    #get current time -> folder name\n",
        "    train_date = time.strftime(\"%y%m%d_%H%M\", time.localtime(time.time()))\n",
        "    # print(train_date)\n",
        "\n",
        "    #log path for tensorboard\n",
        "    log_path = os.path.join(os.getcwd(),\"logs\",train_date)\n",
        "    print(\"log_path is {}\".format(log_path))\n",
        "\n",
        "    #model path to save '.pth'file\n",
        "    model_path = os.path.join(os.getcwd(),\"models\",train_date)\n",
        "    print(\"model_path is {}\".format(model_path))\n",
        "    if os.path.isdir(model_path) == False:\n",
        "            os.makedirs(model_path)\n",
        "\n",
        "    #writer for tensorboard\n",
        "    writer = SummaryWriter(log_path)\n",
        " \n",
        "    # whether available GPU\n",
        "    # device = torch.device(\"cuda:0\" if torch.cuda.is_available() else \"cpu\")\n",
        "    device = torch.device('cuda' if torch.cuda.is_available() else 'cpu')\n",
        "    #device = torch.device(\"mps\") if torch.backends.mps.is_available() else \"cpu\"\n",
        "    \n",
        "    #define model (처음부터 학습시)\n",
        "    print(\"처음부터 학습\")\n",
        "    model = MyModel()\n",
        "    if torch.cuda.device_count() > 1:\n",
        "        model = nn.DataParallel(model)\n",
        "    model.to(device)\n",
        "\n",
        "    ####### 이전 학습한거에 추가적으로 학습시\n",
        "    # print(\"이전에 하던거 부터 학습\")\n",
        "    # model_name = MyModel\n",
        "    # # /content/models/230412_2145/0.pth\n",
        "    # checkpoint_path = './12.pth'  #수정 필요\n",
        "    # model = get_model(model_name,checkpoint_path)\n",
        "    # model.to(device)\n",
        "\n",
        "    #######\n",
        "\n",
        "    #define loss funcion, optimizer, (scheduler)\n",
        "    criterion = nn.CrossEntropyLoss()\n",
        "    optimizer = optim.SGD(model.parameters(),lr=0.1, momentum=0.9,weight_decay=0.0001)\n",
        "    #optimizer = optim.SGD(model.parameters(),lr=0.025, momentum=0.9,weight_decay=0.0005)\n",
        "    #lr = 0.025, momentum = 0.9, weight_decay = 0.0005(original)\n",
        "    scheduler = torch.optim.lr_scheduler.MultiStepLR(optimizer, milestones = [81,122], gamma = 0.1)\n",
        "    # 0.1 -> 0.01 (32K iterations = 81 epochs) -> 0.001 (48K iterations = 122 epochs)\n",
        "\n",
        "    print(\"start training\")\n",
        "    #Train\n",
        "    for epoch in range(epochs):\n",
        "        \n",
        "        model.train(True)\n",
        "        len_trainbatch = len(train_dataloader)\n",
        "\n",
        "        i = 0\n",
        "        for inputs, targets in tqdm(train_dataloader):\n",
        "            i = i+1\n",
        "            inputs, targets = inputs.to(device), targets.to(device)\n",
        "            outputs = model(inputs)\n",
        "            loss = criterion(outputs, targets)\n",
        "            optimizer.zero_grad()\n",
        "            loss.backward()\n",
        "            optimizer.step()\n",
        "           \n",
        "\n",
        "            writer.add_scalar('train/loss', loss.item(), epoch*len_trainbatch+i) #iterations\n",
        "        \n",
        "        scheduler.step()    \n",
        "        print(\"train loss of {}th epoch is {}\".format(epoch,loss.item())) ## 수정 필요\n",
        " \n",
        "        # Save every N(30) epoch\n",
        "        save_epoch = 30\n",
        "        if save_epoch > 0 and epoch % save_epoch == save_epoch-1:\n",
        "            state_dict = model.state_dict()\n",
        "            torch.save(state_dict, os.path.join(model_path, str(epoch+1)+'.pth')) #epoch+1로 바꾸기\n",
        "        \n",
        "    print('Finished Training')\n",
        "\n",
        "    #save model after training\n",
        "    torch.save(model.state_dict(), './model.pth') \n",
        "\n",
        "   "
      ],
      "metadata": {
        "id": "DzaUHqTnXCzH"
      },
      "execution_count": null,
      "outputs": []
    },
    {
      "cell_type": "code",
      "source": [],
      "metadata": {
        "id": "bJ7yPcjhIXWd"
      },
      "execution_count": null,
      "outputs": []
    },
    {
      "cell_type": "code",
      "source": [],
      "metadata": {
        "id": "6UbaeFxeJTHp"
      },
      "execution_count": null,
      "outputs": []
    },
    {
      "cell_type": "markdown",
      "source": [
        "# Main"
      ],
      "metadata": {
        "id": "XfnJlZp1XF50"
      }
    },
    {
      "cell_type": "code",
      "source": [
        "\n",
        "def main() :\n",
        "\n",
        "    random.seed(53)\n",
        "    train(163, trainloader) #64k iterations = 163 epochs\n",
        "\n",
        "   \n",
        "\n",
        "if __name__ == '__main__':\n",
        "    main()"
      ],
      "metadata": {
        "colab": {
          "base_uri": "https://localhost:8080/"
        },
        "id": "V9EgniTuXGjf",
        "outputId": "e3dae328-48b9-4753-a576-c17a8c7ce14f"
      },
      "execution_count": null,
      "outputs": [
        {
          "output_type": "stream",
          "name": "stdout",
          "text": [
            "log_path is /content/logs/230416_0731\n",
            "model_path is /content/models/230416_0731\n",
            "처음부터 학습\n",
            "start training\n"
          ]
        },
        {
          "output_type": "stream",
          "name": "stderr",
          "text": [
            "100%|██████████| 391/391 [00:35<00:00, 10.93it/s]\n"
          ]
        },
        {
          "output_type": "stream",
          "name": "stdout",
          "text": [
            "train loss of 0th epoch is 1.9961376190185547\n"
          ]
        },
        {
          "output_type": "stream",
          "name": "stderr",
          "text": [
            "100%|██████████| 391/391 [00:36<00:00, 10.76it/s]\n"
          ]
        },
        {
          "output_type": "stream",
          "name": "stdout",
          "text": [
            "train loss of 1th epoch is 1.843961477279663\n"
          ]
        },
        {
          "output_type": "stream",
          "name": "stderr",
          "text": [
            "100%|██████████| 391/391 [00:36<00:00, 10.79it/s]\n"
          ]
        },
        {
          "output_type": "stream",
          "name": "stdout",
          "text": [
            "train loss of 2th epoch is 1.9819328784942627\n"
          ]
        },
        {
          "output_type": "stream",
          "name": "stderr",
          "text": [
            "100%|██████████| 391/391 [00:36<00:00, 10.73it/s]\n"
          ]
        },
        {
          "output_type": "stream",
          "name": "stdout",
          "text": [
            "train loss of 3th epoch is 1.7491543292999268\n"
          ]
        },
        {
          "output_type": "stream",
          "name": "stderr",
          "text": [
            "100%|██████████| 391/391 [00:36<00:00, 10.70it/s]\n"
          ]
        },
        {
          "output_type": "stream",
          "name": "stdout",
          "text": [
            "train loss of 4th epoch is 1.6532042026519775\n"
          ]
        },
        {
          "output_type": "stream",
          "name": "stderr",
          "text": [
            "100%|██████████| 391/391 [00:36<00:00, 10.61it/s]\n"
          ]
        },
        {
          "output_type": "stream",
          "name": "stdout",
          "text": [
            "train loss of 5th epoch is 1.818814992904663\n"
          ]
        },
        {
          "output_type": "stream",
          "name": "stderr",
          "text": [
            "100%|██████████| 391/391 [00:36<00:00, 10.83it/s]\n"
          ]
        },
        {
          "output_type": "stream",
          "name": "stdout",
          "text": [
            "train loss of 6th epoch is 1.8093725442886353\n"
          ]
        },
        {
          "output_type": "stream",
          "name": "stderr",
          "text": [
            "100%|██████████| 391/391 [00:36<00:00, 10.71it/s]\n"
          ]
        },
        {
          "output_type": "stream",
          "name": "stdout",
          "text": [
            "train loss of 7th epoch is 1.5641028881072998\n"
          ]
        },
        {
          "output_type": "stream",
          "name": "stderr",
          "text": [
            "100%|██████████| 391/391 [00:36<00:00, 10.65it/s]\n"
          ]
        },
        {
          "output_type": "stream",
          "name": "stdout",
          "text": [
            "train loss of 8th epoch is 1.5004416704177856\n"
          ]
        },
        {
          "output_type": "stream",
          "name": "stderr",
          "text": [
            "100%|██████████| 391/391 [00:36<00:00, 10.69it/s]\n"
          ]
        },
        {
          "output_type": "stream",
          "name": "stdout",
          "text": [
            "train loss of 9th epoch is 1.3354302644729614\n"
          ]
        },
        {
          "output_type": "stream",
          "name": "stderr",
          "text": [
            "100%|██████████| 391/391 [00:36<00:00, 10.69it/s]\n"
          ]
        },
        {
          "output_type": "stream",
          "name": "stdout",
          "text": [
            "train loss of 10th epoch is 1.259772539138794\n"
          ]
        },
        {
          "output_type": "stream",
          "name": "stderr",
          "text": [
            "100%|██████████| 391/391 [00:36<00:00, 10.74it/s]\n"
          ]
        },
        {
          "output_type": "stream",
          "name": "stdout",
          "text": [
            "train loss of 11th epoch is 1.3651459217071533\n"
          ]
        },
        {
          "output_type": "stream",
          "name": "stderr",
          "text": [
            "100%|██████████| 391/391 [00:35<00:00, 10.86it/s]\n"
          ]
        },
        {
          "output_type": "stream",
          "name": "stdout",
          "text": [
            "train loss of 12th epoch is 1.1895291805267334\n"
          ]
        },
        {
          "output_type": "stream",
          "name": "stderr",
          "text": [
            "100%|██████████| 391/391 [00:36<00:00, 10.73it/s]\n"
          ]
        },
        {
          "output_type": "stream",
          "name": "stdout",
          "text": [
            "train loss of 13th epoch is 1.2670279741287231\n"
          ]
        },
        {
          "output_type": "stream",
          "name": "stderr",
          "text": [
            "100%|██████████| 391/391 [00:36<00:00, 10.67it/s]\n"
          ]
        },
        {
          "output_type": "stream",
          "name": "stdout",
          "text": [
            "train loss of 14th epoch is 1.1362813711166382\n"
          ]
        },
        {
          "output_type": "stream",
          "name": "stderr",
          "text": [
            "100%|██████████| 391/391 [00:36<00:00, 10.62it/s]\n"
          ]
        },
        {
          "output_type": "stream",
          "name": "stdout",
          "text": [
            "train loss of 15th epoch is 1.2390010356903076\n"
          ]
        },
        {
          "output_type": "stream",
          "name": "stderr",
          "text": [
            "100%|██████████| 391/391 [00:36<00:00, 10.59it/s]\n"
          ]
        },
        {
          "output_type": "stream",
          "name": "stdout",
          "text": [
            "train loss of 16th epoch is 1.0869001150131226\n"
          ]
        },
        {
          "output_type": "stream",
          "name": "stderr",
          "text": [
            "100%|██████████| 391/391 [00:36<00:00, 10.71it/s]\n"
          ]
        },
        {
          "output_type": "stream",
          "name": "stdout",
          "text": [
            "train loss of 17th epoch is 1.193825125694275\n"
          ]
        },
        {
          "output_type": "stream",
          "name": "stderr",
          "text": [
            "100%|██████████| 391/391 [00:35<00:00, 10.95it/s]\n"
          ]
        },
        {
          "output_type": "stream",
          "name": "stdout",
          "text": [
            "train loss of 18th epoch is 0.9652296304702759\n"
          ]
        },
        {
          "output_type": "stream",
          "name": "stderr",
          "text": [
            "100%|██████████| 391/391 [00:36<00:00, 10.75it/s]\n"
          ]
        },
        {
          "output_type": "stream",
          "name": "stdout",
          "text": [
            "train loss of 19th epoch is 0.6590663194656372\n"
          ]
        },
        {
          "output_type": "stream",
          "name": "stderr",
          "text": [
            "100%|██████████| 391/391 [00:36<00:00, 10.79it/s]\n"
          ]
        },
        {
          "output_type": "stream",
          "name": "stdout",
          "text": [
            "train loss of 20th epoch is 0.8455149531364441\n"
          ]
        },
        {
          "output_type": "stream",
          "name": "stderr",
          "text": [
            "100%|██████████| 391/391 [00:37<00:00, 10.55it/s]\n"
          ]
        },
        {
          "output_type": "stream",
          "name": "stdout",
          "text": [
            "train loss of 21th epoch is 0.8616092801094055\n"
          ]
        },
        {
          "output_type": "stream",
          "name": "stderr",
          "text": [
            "100%|██████████| 391/391 [00:36<00:00, 10.75it/s]\n"
          ]
        },
        {
          "output_type": "stream",
          "name": "stdout",
          "text": [
            "train loss of 22th epoch is 0.9774044752120972\n"
          ]
        },
        {
          "output_type": "stream",
          "name": "stderr",
          "text": [
            "100%|██████████| 391/391 [00:36<00:00, 10.74it/s]\n"
          ]
        },
        {
          "output_type": "stream",
          "name": "stdout",
          "text": [
            "train loss of 23th epoch is 0.8661861419677734\n"
          ]
        },
        {
          "output_type": "stream",
          "name": "stderr",
          "text": [
            "100%|██████████| 391/391 [00:35<00:00, 10.92it/s]\n"
          ]
        },
        {
          "output_type": "stream",
          "name": "stdout",
          "text": [
            "train loss of 24th epoch is 1.015080213546753\n"
          ]
        },
        {
          "output_type": "stream",
          "name": "stderr",
          "text": [
            "100%|██████████| 391/391 [00:36<00:00, 10.76it/s]\n"
          ]
        },
        {
          "output_type": "stream",
          "name": "stdout",
          "text": [
            "train loss of 25th epoch is 0.8811232447624207\n"
          ]
        },
        {
          "output_type": "stream",
          "name": "stderr",
          "text": [
            "100%|██████████| 391/391 [00:36<00:00, 10.78it/s]\n"
          ]
        },
        {
          "output_type": "stream",
          "name": "stdout",
          "text": [
            "train loss of 26th epoch is 1.0883182287216187\n"
          ]
        },
        {
          "output_type": "stream",
          "name": "stderr",
          "text": [
            "100%|██████████| 391/391 [00:36<00:00, 10.78it/s]\n"
          ]
        },
        {
          "output_type": "stream",
          "name": "stdout",
          "text": [
            "train loss of 27th epoch is 0.9408077001571655\n"
          ]
        },
        {
          "output_type": "stream",
          "name": "stderr",
          "text": [
            "100%|██████████| 391/391 [00:36<00:00, 10.61it/s]\n"
          ]
        },
        {
          "output_type": "stream",
          "name": "stdout",
          "text": [
            "train loss of 28th epoch is 0.7941640019416809\n"
          ]
        },
        {
          "output_type": "stream",
          "name": "stderr",
          "text": [
            "100%|██████████| 391/391 [00:35<00:00, 10.88it/s]\n"
          ]
        },
        {
          "output_type": "stream",
          "name": "stdout",
          "text": [
            "train loss of 29th epoch is 0.7723551392555237\n"
          ]
        },
        {
          "output_type": "stream",
          "name": "stderr",
          "text": [
            "100%|██████████| 391/391 [00:36<00:00, 10.78it/s]\n"
          ]
        },
        {
          "output_type": "stream",
          "name": "stdout",
          "text": [
            "train loss of 30th epoch is 0.7810372710227966\n"
          ]
        },
        {
          "output_type": "stream",
          "name": "stderr",
          "text": [
            "100%|██████████| 391/391 [00:36<00:00, 10.75it/s]\n"
          ]
        },
        {
          "output_type": "stream",
          "name": "stdout",
          "text": [
            "train loss of 31th epoch is 0.4817934036254883\n"
          ]
        },
        {
          "output_type": "stream",
          "name": "stderr",
          "text": [
            "100%|██████████| 391/391 [00:36<00:00, 10.69it/s]\n"
          ]
        },
        {
          "output_type": "stream",
          "name": "stdout",
          "text": [
            "train loss of 32th epoch is 0.7454772591590881\n"
          ]
        },
        {
          "output_type": "stream",
          "name": "stderr",
          "text": [
            "100%|██████████| 391/391 [00:36<00:00, 10.69it/s]\n"
          ]
        },
        {
          "output_type": "stream",
          "name": "stdout",
          "text": [
            "train loss of 33th epoch is 0.5714646577835083\n"
          ]
        },
        {
          "output_type": "stream",
          "name": "stderr",
          "text": [
            "100%|██████████| 391/391 [00:36<00:00, 10.71it/s]\n"
          ]
        },
        {
          "output_type": "stream",
          "name": "stdout",
          "text": [
            "train loss of 34th epoch is 0.5988162159919739\n"
          ]
        },
        {
          "output_type": "stream",
          "name": "stderr",
          "text": [
            "100%|██████████| 391/391 [00:35<00:00, 10.87it/s]\n"
          ]
        },
        {
          "output_type": "stream",
          "name": "stdout",
          "text": [
            "train loss of 35th epoch is 0.6057907342910767\n"
          ]
        },
        {
          "output_type": "stream",
          "name": "stderr",
          "text": [
            "100%|██████████| 391/391 [00:36<00:00, 10.63it/s]\n"
          ]
        },
        {
          "output_type": "stream",
          "name": "stdout",
          "text": [
            "train loss of 36th epoch is 0.6814643740653992\n"
          ]
        },
        {
          "output_type": "stream",
          "name": "stderr",
          "text": [
            "100%|██████████| 391/391 [00:36<00:00, 10.72it/s]\n"
          ]
        },
        {
          "output_type": "stream",
          "name": "stdout",
          "text": [
            "train loss of 37th epoch is 0.3952803909778595\n"
          ]
        },
        {
          "output_type": "stream",
          "name": "stderr",
          "text": [
            "100%|██████████| 391/391 [00:36<00:00, 10.73it/s]\n"
          ]
        },
        {
          "output_type": "stream",
          "name": "stdout",
          "text": [
            "train loss of 38th epoch is 0.7218198776245117\n"
          ]
        },
        {
          "output_type": "stream",
          "name": "stderr",
          "text": [
            "100%|██████████| 391/391 [00:36<00:00, 10.71it/s]\n"
          ]
        },
        {
          "output_type": "stream",
          "name": "stdout",
          "text": [
            "train loss of 39th epoch is 0.5644255876541138\n"
          ]
        },
        {
          "output_type": "stream",
          "name": "stderr",
          "text": [
            "100%|██████████| 391/391 [00:35<00:00, 10.94it/s]\n"
          ]
        },
        {
          "output_type": "stream",
          "name": "stdout",
          "text": [
            "train loss of 40th epoch is 0.7090884447097778\n"
          ]
        },
        {
          "output_type": "stream",
          "name": "stderr",
          "text": [
            "100%|██████████| 391/391 [00:36<00:00, 10.68it/s]\n"
          ]
        },
        {
          "output_type": "stream",
          "name": "stdout",
          "text": [
            "train loss of 41th epoch is 0.5689178109169006\n"
          ]
        },
        {
          "output_type": "stream",
          "name": "stderr",
          "text": [
            "100%|██████████| 391/391 [00:36<00:00, 10.73it/s]\n"
          ]
        },
        {
          "output_type": "stream",
          "name": "stdout",
          "text": [
            "train loss of 42th epoch is 0.32024019956588745\n"
          ]
        },
        {
          "output_type": "stream",
          "name": "stderr",
          "text": [
            "100%|██████████| 391/391 [00:36<00:00, 10.68it/s]\n"
          ]
        },
        {
          "output_type": "stream",
          "name": "stdout",
          "text": [
            "train loss of 43th epoch is 0.7109473943710327\n"
          ]
        },
        {
          "output_type": "stream",
          "name": "stderr",
          "text": [
            "100%|██████████| 391/391 [00:36<00:00, 10.74it/s]\n"
          ]
        },
        {
          "output_type": "stream",
          "name": "stdout",
          "text": [
            "train loss of 44th epoch is 0.45371684432029724\n"
          ]
        },
        {
          "output_type": "stream",
          "name": "stderr",
          "text": [
            "100%|██████████| 391/391 [00:35<00:00, 10.90it/s]\n"
          ]
        },
        {
          "output_type": "stream",
          "name": "stdout",
          "text": [
            "train loss of 45th epoch is 0.6416808366775513\n"
          ]
        },
        {
          "output_type": "stream",
          "name": "stderr",
          "text": [
            "100%|██████████| 391/391 [00:35<00:00, 10.88it/s]\n"
          ]
        },
        {
          "output_type": "stream",
          "name": "stdout",
          "text": [
            "train loss of 46th epoch is 0.6605953574180603\n"
          ]
        },
        {
          "output_type": "stream",
          "name": "stderr",
          "text": [
            "100%|██████████| 391/391 [00:36<00:00, 10.71it/s]\n"
          ]
        },
        {
          "output_type": "stream",
          "name": "stdout",
          "text": [
            "train loss of 47th epoch is 0.7398563027381897\n"
          ]
        },
        {
          "output_type": "stream",
          "name": "stderr",
          "text": [
            "100%|██████████| 391/391 [00:36<00:00, 10.77it/s]\n"
          ]
        },
        {
          "output_type": "stream",
          "name": "stdout",
          "text": [
            "train loss of 48th epoch is 0.9827077984809875\n"
          ]
        },
        {
          "output_type": "stream",
          "name": "stderr",
          "text": [
            "100%|██████████| 391/391 [00:36<00:00, 10.77it/s]\n"
          ]
        },
        {
          "output_type": "stream",
          "name": "stdout",
          "text": [
            "train loss of 49th epoch is 0.5635699033737183\n"
          ]
        },
        {
          "output_type": "stream",
          "name": "stderr",
          "text": [
            "100%|██████████| 391/391 [00:36<00:00, 10.85it/s]\n"
          ]
        },
        {
          "output_type": "stream",
          "name": "stdout",
          "text": [
            "train loss of 50th epoch is 0.5202363133430481\n"
          ]
        },
        {
          "output_type": "stream",
          "name": "stderr",
          "text": [
            "100%|██████████| 391/391 [00:36<00:00, 10.80it/s]\n"
          ]
        },
        {
          "output_type": "stream",
          "name": "stdout",
          "text": [
            "train loss of 51th epoch is 0.6905378103256226\n"
          ]
        },
        {
          "output_type": "stream",
          "name": "stderr",
          "text": [
            "100%|██████████| 391/391 [00:36<00:00, 10.65it/s]\n"
          ]
        },
        {
          "output_type": "stream",
          "name": "stdout",
          "text": [
            "train loss of 52th epoch is 0.5521398782730103\n"
          ]
        },
        {
          "output_type": "stream",
          "name": "stderr",
          "text": [
            "100%|██████████| 391/391 [00:36<00:00, 10.65it/s]\n"
          ]
        },
        {
          "output_type": "stream",
          "name": "stdout",
          "text": [
            "train loss of 53th epoch is 0.553148627281189\n"
          ]
        },
        {
          "output_type": "stream",
          "name": "stderr",
          "text": [
            "100%|██████████| 391/391 [00:36<00:00, 10.59it/s]\n"
          ]
        },
        {
          "output_type": "stream",
          "name": "stdout",
          "text": [
            "train loss of 54th epoch is 0.649235725402832\n"
          ]
        },
        {
          "output_type": "stream",
          "name": "stderr",
          "text": [
            "100%|██████████| 391/391 [00:36<00:00, 10.64it/s]\n"
          ]
        },
        {
          "output_type": "stream",
          "name": "stdout",
          "text": [
            "train loss of 55th epoch is 0.501366138458252\n"
          ]
        },
        {
          "output_type": "stream",
          "name": "stderr",
          "text": [
            "100%|██████████| 391/391 [00:36<00:00, 10.78it/s]\n"
          ]
        },
        {
          "output_type": "stream",
          "name": "stdout",
          "text": [
            "train loss of 56th epoch is 0.61037677526474\n"
          ]
        },
        {
          "output_type": "stream",
          "name": "stderr",
          "text": [
            "100%|██████████| 391/391 [00:36<00:00, 10.76it/s]\n"
          ]
        },
        {
          "output_type": "stream",
          "name": "stdout",
          "text": [
            "train loss of 57th epoch is 0.5153990387916565\n"
          ]
        },
        {
          "output_type": "stream",
          "name": "stderr",
          "text": [
            "100%|██████████| 391/391 [00:36<00:00, 10.73it/s]\n"
          ]
        },
        {
          "output_type": "stream",
          "name": "stdout",
          "text": [
            "train loss of 58th epoch is 0.7144614458084106\n"
          ]
        },
        {
          "output_type": "stream",
          "name": "stderr",
          "text": [
            "100%|██████████| 391/391 [00:36<00:00, 10.76it/s]\n"
          ]
        },
        {
          "output_type": "stream",
          "name": "stdout",
          "text": [
            "train loss of 59th epoch is 0.5827151536941528\n"
          ]
        },
        {
          "output_type": "stream",
          "name": "stderr",
          "text": [
            "100%|██████████| 391/391 [00:36<00:00, 10.70it/s]\n"
          ]
        },
        {
          "output_type": "stream",
          "name": "stdout",
          "text": [
            "train loss of 60th epoch is 0.509663462638855\n"
          ]
        },
        {
          "output_type": "stream",
          "name": "stderr",
          "text": [
            "100%|██████████| 391/391 [00:36<00:00, 10.73it/s]\n"
          ]
        },
        {
          "output_type": "stream",
          "name": "stdout",
          "text": [
            "train loss of 61th epoch is 0.41453203558921814\n"
          ]
        },
        {
          "output_type": "stream",
          "name": "stderr",
          "text": [
            "100%|██████████| 391/391 [00:36<00:00, 10.84it/s]\n"
          ]
        },
        {
          "output_type": "stream",
          "name": "stdout",
          "text": [
            "train loss of 62th epoch is 0.6006630659103394\n"
          ]
        },
        {
          "output_type": "stream",
          "name": "stderr",
          "text": [
            "100%|██████████| 391/391 [00:36<00:00, 10.69it/s]\n"
          ]
        },
        {
          "output_type": "stream",
          "name": "stdout",
          "text": [
            "train loss of 63th epoch is 0.7839286923408508\n"
          ]
        },
        {
          "output_type": "stream",
          "name": "stderr",
          "text": [
            "100%|██████████| 391/391 [00:36<00:00, 10.79it/s]\n"
          ]
        },
        {
          "output_type": "stream",
          "name": "stdout",
          "text": [
            "train loss of 64th epoch is 0.5652790665626526\n"
          ]
        },
        {
          "output_type": "stream",
          "name": "stderr",
          "text": [
            "100%|██████████| 391/391 [00:36<00:00, 10.73it/s]\n"
          ]
        },
        {
          "output_type": "stream",
          "name": "stdout",
          "text": [
            "train loss of 65th epoch is 0.44736021757125854\n"
          ]
        },
        {
          "output_type": "stream",
          "name": "stderr",
          "text": [
            "100%|██████████| 391/391 [00:36<00:00, 10.77it/s]\n"
          ]
        },
        {
          "output_type": "stream",
          "name": "stdout",
          "text": [
            "train loss of 66th epoch is 0.45465487241744995\n"
          ]
        },
        {
          "output_type": "stream",
          "name": "stderr",
          "text": [
            "100%|██████████| 391/391 [00:35<00:00, 10.97it/s]\n"
          ]
        },
        {
          "output_type": "stream",
          "name": "stdout",
          "text": [
            "train loss of 67th epoch is 0.46582040190696716\n"
          ]
        },
        {
          "output_type": "stream",
          "name": "stderr",
          "text": [
            "100%|██████████| 391/391 [00:36<00:00, 10.71it/s]\n"
          ]
        },
        {
          "output_type": "stream",
          "name": "stdout",
          "text": [
            "train loss of 68th epoch is 0.610548734664917\n"
          ]
        },
        {
          "output_type": "stream",
          "name": "stderr",
          "text": [
            "100%|██████████| 391/391 [00:36<00:00, 10.79it/s]\n"
          ]
        },
        {
          "output_type": "stream",
          "name": "stdout",
          "text": [
            "train loss of 69th epoch is 0.49497881531715393\n"
          ]
        },
        {
          "output_type": "stream",
          "name": "stderr",
          "text": [
            "100%|██████████| 391/391 [00:36<00:00, 10.76it/s]\n"
          ]
        },
        {
          "output_type": "stream",
          "name": "stdout",
          "text": [
            "train loss of 70th epoch is 0.37888437509536743\n"
          ]
        },
        {
          "output_type": "stream",
          "name": "stderr",
          "text": [
            "100%|██████████| 391/391 [00:36<00:00, 10.74it/s]\n"
          ]
        },
        {
          "output_type": "stream",
          "name": "stdout",
          "text": [
            "train loss of 71th epoch is 0.3556841015815735\n"
          ]
        },
        {
          "output_type": "stream",
          "name": "stderr",
          "text": [
            "100%|██████████| 391/391 [00:36<00:00, 10.85it/s]\n"
          ]
        },
        {
          "output_type": "stream",
          "name": "stdout",
          "text": [
            "train loss of 72th epoch is 0.5292125940322876\n"
          ]
        },
        {
          "output_type": "stream",
          "name": "stderr",
          "text": [
            "100%|██████████| 391/391 [00:36<00:00, 10.78it/s]\n"
          ]
        },
        {
          "output_type": "stream",
          "name": "stdout",
          "text": [
            "train loss of 73th epoch is 0.6011166572570801\n"
          ]
        },
        {
          "output_type": "stream",
          "name": "stderr",
          "text": [
            "100%|██████████| 391/391 [00:36<00:00, 10.73it/s]\n"
          ]
        },
        {
          "output_type": "stream",
          "name": "stdout",
          "text": [
            "train loss of 74th epoch is 0.5875524282455444\n"
          ]
        },
        {
          "output_type": "stream",
          "name": "stderr",
          "text": [
            "100%|██████████| 391/391 [00:36<00:00, 10.70it/s]\n"
          ]
        },
        {
          "output_type": "stream",
          "name": "stdout",
          "text": [
            "train loss of 75th epoch is 0.5230394005775452\n"
          ]
        },
        {
          "output_type": "stream",
          "name": "stderr",
          "text": [
            "100%|██████████| 391/391 [00:36<00:00, 10.65it/s]\n"
          ]
        },
        {
          "output_type": "stream",
          "name": "stdout",
          "text": [
            "train loss of 76th epoch is 0.3992162346839905\n"
          ]
        },
        {
          "output_type": "stream",
          "name": "stderr",
          "text": [
            "100%|██████████| 391/391 [00:37<00:00, 10.32it/s]\n"
          ]
        },
        {
          "output_type": "stream",
          "name": "stdout",
          "text": [
            "train loss of 77th epoch is 0.6340151429176331\n"
          ]
        },
        {
          "output_type": "stream",
          "name": "stderr",
          "text": [
            "100%|██████████| 391/391 [00:36<00:00, 10.67it/s]\n"
          ]
        },
        {
          "output_type": "stream",
          "name": "stdout",
          "text": [
            "train loss of 78th epoch is 0.6215294599533081\n"
          ]
        },
        {
          "output_type": "stream",
          "name": "stderr",
          "text": [
            "100%|██████████| 391/391 [00:36<00:00, 10.65it/s]\n"
          ]
        },
        {
          "output_type": "stream",
          "name": "stdout",
          "text": [
            "train loss of 79th epoch is 0.5497553944587708\n"
          ]
        },
        {
          "output_type": "stream",
          "name": "stderr",
          "text": [
            "100%|██████████| 391/391 [00:36<00:00, 10.58it/s]\n"
          ]
        },
        {
          "output_type": "stream",
          "name": "stdout",
          "text": [
            "train loss of 80th epoch is 0.7018147706985474\n"
          ]
        },
        {
          "output_type": "stream",
          "name": "stderr",
          "text": [
            "100%|██████████| 391/391 [00:36<00:00, 10.69it/s]\n"
          ]
        },
        {
          "output_type": "stream",
          "name": "stdout",
          "text": [
            "train loss of 81th epoch is 0.3927317261695862\n"
          ]
        },
        {
          "output_type": "stream",
          "name": "stderr",
          "text": [
            "100%|██████████| 391/391 [00:36<00:00, 10.71it/s]\n"
          ]
        },
        {
          "output_type": "stream",
          "name": "stdout",
          "text": [
            "train loss of 82th epoch is 0.23498106002807617\n"
          ]
        },
        {
          "output_type": "stream",
          "name": "stderr",
          "text": [
            "100%|██████████| 391/391 [00:36<00:00, 10.66it/s]\n"
          ]
        },
        {
          "output_type": "stream",
          "name": "stdout",
          "text": [
            "train loss of 83th epoch is 0.5379570722579956\n"
          ]
        },
        {
          "output_type": "stream",
          "name": "stderr",
          "text": [
            "100%|██████████| 391/391 [00:36<00:00, 10.83it/s]\n"
          ]
        },
        {
          "output_type": "stream",
          "name": "stdout",
          "text": [
            "train loss of 84th epoch is 0.4081493318080902\n"
          ]
        },
        {
          "output_type": "stream",
          "name": "stderr",
          "text": [
            "100%|██████████| 391/391 [00:37<00:00, 10.53it/s]\n"
          ]
        },
        {
          "output_type": "stream",
          "name": "stdout",
          "text": [
            "train loss of 85th epoch is 0.3482973873615265\n"
          ]
        },
        {
          "output_type": "stream",
          "name": "stderr",
          "text": [
            "100%|██████████| 391/391 [00:36<00:00, 10.58it/s]\n"
          ]
        },
        {
          "output_type": "stream",
          "name": "stdout",
          "text": [
            "train loss of 86th epoch is 0.34105899930000305\n"
          ]
        },
        {
          "output_type": "stream",
          "name": "stderr",
          "text": [
            "100%|██████████| 391/391 [00:36<00:00, 10.59it/s]\n"
          ]
        },
        {
          "output_type": "stream",
          "name": "stdout",
          "text": [
            "train loss of 87th epoch is 0.24544349312782288\n"
          ]
        },
        {
          "output_type": "stream",
          "name": "stderr",
          "text": [
            "100%|██████████| 391/391 [00:37<00:00, 10.56it/s]\n"
          ]
        },
        {
          "output_type": "stream",
          "name": "stdout",
          "text": [
            "train loss of 88th epoch is 0.24123093485832214\n"
          ]
        },
        {
          "output_type": "stream",
          "name": "stderr",
          "text": [
            "100%|██████████| 391/391 [00:36<00:00, 10.66it/s]\n"
          ]
        },
        {
          "output_type": "stream",
          "name": "stdout",
          "text": [
            "train loss of 89th epoch is 0.21576125919818878\n"
          ]
        },
        {
          "output_type": "stream",
          "name": "stderr",
          "text": [
            "100%|██████████| 391/391 [00:36<00:00, 10.75it/s]\n"
          ]
        },
        {
          "output_type": "stream",
          "name": "stdout",
          "text": [
            "train loss of 90th epoch is 0.3149665594100952\n"
          ]
        },
        {
          "output_type": "stream",
          "name": "stderr",
          "text": [
            "100%|██████████| 391/391 [00:36<00:00, 10.64it/s]\n"
          ]
        },
        {
          "output_type": "stream",
          "name": "stdout",
          "text": [
            "train loss of 91th epoch is 0.1939888596534729\n"
          ]
        },
        {
          "output_type": "stream",
          "name": "stderr",
          "text": [
            "100%|██████████| 391/391 [00:36<00:00, 10.60it/s]\n"
          ]
        },
        {
          "output_type": "stream",
          "name": "stdout",
          "text": [
            "train loss of 92th epoch is 0.2820191979408264\n"
          ]
        },
        {
          "output_type": "stream",
          "name": "stderr",
          "text": [
            "100%|██████████| 391/391 [00:37<00:00, 10.51it/s]\n"
          ]
        },
        {
          "output_type": "stream",
          "name": "stdout",
          "text": [
            "train loss of 93th epoch is 0.18828170001506805\n"
          ]
        },
        {
          "output_type": "stream",
          "name": "stderr",
          "text": [
            "100%|██████████| 391/391 [00:37<00:00, 10.52it/s]\n"
          ]
        },
        {
          "output_type": "stream",
          "name": "stdout",
          "text": [
            "train loss of 94th epoch is 0.1751992553472519\n"
          ]
        },
        {
          "output_type": "stream",
          "name": "stderr",
          "text": [
            "100%|██████████| 391/391 [00:37<00:00, 10.54it/s]\n"
          ]
        },
        {
          "output_type": "stream",
          "name": "stdout",
          "text": [
            "train loss of 95th epoch is 0.3766384720802307\n"
          ]
        },
        {
          "output_type": "stream",
          "name": "stderr",
          "text": [
            "100%|██████████| 391/391 [00:36<00:00, 10.70it/s]\n"
          ]
        },
        {
          "output_type": "stream",
          "name": "stdout",
          "text": [
            "train loss of 96th epoch is 0.25557440519332886\n"
          ]
        },
        {
          "output_type": "stream",
          "name": "stderr",
          "text": [
            "100%|██████████| 391/391 [00:36<00:00, 10.58it/s]\n"
          ]
        },
        {
          "output_type": "stream",
          "name": "stdout",
          "text": [
            "train loss of 97th epoch is 0.2619408965110779\n"
          ]
        },
        {
          "output_type": "stream",
          "name": "stderr",
          "text": [
            "100%|██████████| 391/391 [00:37<00:00, 10.52it/s]\n"
          ]
        },
        {
          "output_type": "stream",
          "name": "stdout",
          "text": [
            "train loss of 98th epoch is 0.16974899172782898\n"
          ]
        },
        {
          "output_type": "stream",
          "name": "stderr",
          "text": [
            "100%|██████████| 391/391 [00:37<00:00, 10.53it/s]\n"
          ]
        },
        {
          "output_type": "stream",
          "name": "stdout",
          "text": [
            "train loss of 99th epoch is 0.2860525846481323\n"
          ]
        },
        {
          "output_type": "stream",
          "name": "stderr",
          "text": [
            "100%|██████████| 391/391 [00:36<00:00, 10.60it/s]\n"
          ]
        },
        {
          "output_type": "stream",
          "name": "stdout",
          "text": [
            "train loss of 100th epoch is 0.2972467839717865\n"
          ]
        },
        {
          "output_type": "stream",
          "name": "stderr",
          "text": [
            "100%|██████████| 391/391 [00:36<00:00, 10.67it/s]\n"
          ]
        },
        {
          "output_type": "stream",
          "name": "stdout",
          "text": [
            "train loss of 101th epoch is 0.2339884340763092\n"
          ]
        },
        {
          "output_type": "stream",
          "name": "stderr",
          "text": [
            "100%|██████████| 391/391 [00:36<00:00, 10.77it/s]\n"
          ]
        },
        {
          "output_type": "stream",
          "name": "stdout",
          "text": [
            "train loss of 102th epoch is 0.2600019872188568\n"
          ]
        },
        {
          "output_type": "stream",
          "name": "stderr",
          "text": [
            "100%|██████████| 391/391 [00:36<00:00, 10.57it/s]\n"
          ]
        },
        {
          "output_type": "stream",
          "name": "stdout",
          "text": [
            "train loss of 103th epoch is 0.2919906675815582\n"
          ]
        },
        {
          "output_type": "stream",
          "name": "stderr",
          "text": [
            "100%|██████████| 391/391 [00:36<00:00, 10.71it/s]\n"
          ]
        },
        {
          "output_type": "stream",
          "name": "stdout",
          "text": [
            "train loss of 104th epoch is 0.16669340431690216\n"
          ]
        },
        {
          "output_type": "stream",
          "name": "stderr",
          "text": [
            "100%|██████████| 391/391 [00:36<00:00, 10.65it/s]\n"
          ]
        },
        {
          "output_type": "stream",
          "name": "stdout",
          "text": [
            "train loss of 105th epoch is 0.5170029401779175\n"
          ]
        },
        {
          "output_type": "stream",
          "name": "stderr",
          "text": [
            "100%|██████████| 391/391 [00:36<00:00, 10.63it/s]\n"
          ]
        },
        {
          "output_type": "stream",
          "name": "stdout",
          "text": [
            "train loss of 106th epoch is 0.4695467948913574\n"
          ]
        },
        {
          "output_type": "stream",
          "name": "stderr",
          "text": [
            "100%|██████████| 391/391 [00:36<00:00, 10.66it/s]\n"
          ]
        },
        {
          "output_type": "stream",
          "name": "stdout",
          "text": [
            "train loss of 107th epoch is 0.390994131565094\n"
          ]
        },
        {
          "output_type": "stream",
          "name": "stderr",
          "text": [
            "100%|██████████| 391/391 [00:36<00:00, 10.75it/s]\n"
          ]
        },
        {
          "output_type": "stream",
          "name": "stdout",
          "text": [
            "train loss of 108th epoch is 0.14705723524093628\n"
          ]
        },
        {
          "output_type": "stream",
          "name": "stderr",
          "text": [
            "100%|██████████| 391/391 [00:36<00:00, 10.67it/s]\n"
          ]
        },
        {
          "output_type": "stream",
          "name": "stdout",
          "text": [
            "train loss of 109th epoch is 0.15806922316551208\n"
          ]
        },
        {
          "output_type": "stream",
          "name": "stderr",
          "text": [
            "100%|██████████| 391/391 [00:36<00:00, 10.75it/s]\n"
          ]
        },
        {
          "output_type": "stream",
          "name": "stdout",
          "text": [
            "train loss of 110th epoch is 0.33134299516677856\n"
          ]
        },
        {
          "output_type": "stream",
          "name": "stderr",
          "text": [
            "100%|██████████| 391/391 [00:36<00:00, 10.71it/s]\n"
          ]
        },
        {
          "output_type": "stream",
          "name": "stdout",
          "text": [
            "train loss of 111th epoch is 0.19655165076255798\n"
          ]
        },
        {
          "output_type": "stream",
          "name": "stderr",
          "text": [
            "100%|██████████| 391/391 [00:36<00:00, 10.80it/s]\n"
          ]
        },
        {
          "output_type": "stream",
          "name": "stdout",
          "text": [
            "train loss of 112th epoch is 0.24205832183361053\n"
          ]
        },
        {
          "output_type": "stream",
          "name": "stderr",
          "text": [
            "100%|██████████| 391/391 [00:36<00:00, 10.79it/s]\n"
          ]
        },
        {
          "output_type": "stream",
          "name": "stdout",
          "text": [
            "train loss of 113th epoch is 0.23321016132831573\n"
          ]
        },
        {
          "output_type": "stream",
          "name": "stderr",
          "text": [
            "100%|██████████| 391/391 [00:36<00:00, 10.68it/s]\n"
          ]
        },
        {
          "output_type": "stream",
          "name": "stdout",
          "text": [
            "train loss of 114th epoch is 0.31189483404159546\n"
          ]
        },
        {
          "output_type": "stream",
          "name": "stderr",
          "text": [
            "100%|██████████| 391/391 [00:36<00:00, 10.67it/s]\n"
          ]
        },
        {
          "output_type": "stream",
          "name": "stdout",
          "text": [
            "train loss of 115th epoch is 0.29959791898727417\n"
          ]
        },
        {
          "output_type": "stream",
          "name": "stderr",
          "text": [
            "100%|██████████| 391/391 [00:36<00:00, 10.68it/s]\n"
          ]
        },
        {
          "output_type": "stream",
          "name": "stdout",
          "text": [
            "train loss of 116th epoch is 0.10855354368686676\n"
          ]
        },
        {
          "output_type": "stream",
          "name": "stderr",
          "text": [
            "100%|██████████| 391/391 [00:36<00:00, 10.60it/s]\n"
          ]
        },
        {
          "output_type": "stream",
          "name": "stdout",
          "text": [
            "train loss of 117th epoch is 0.2905622720718384\n"
          ]
        },
        {
          "output_type": "stream",
          "name": "stderr",
          "text": [
            "100%|██████████| 391/391 [00:36<00:00, 10.75it/s]\n"
          ]
        },
        {
          "output_type": "stream",
          "name": "stdout",
          "text": [
            "train loss of 118th epoch is 0.3134501576423645\n"
          ]
        },
        {
          "output_type": "stream",
          "name": "stderr",
          "text": [
            "100%|██████████| 391/391 [00:36<00:00, 10.57it/s]\n"
          ]
        },
        {
          "output_type": "stream",
          "name": "stdout",
          "text": [
            "train loss of 119th epoch is 0.15256232023239136\n"
          ]
        },
        {
          "output_type": "stream",
          "name": "stderr",
          "text": [
            "100%|██████████| 391/391 [00:36<00:00, 10.59it/s]\n"
          ]
        },
        {
          "output_type": "stream",
          "name": "stdout",
          "text": [
            "train loss of 120th epoch is 0.2591347098350525\n"
          ]
        },
        {
          "output_type": "stream",
          "name": "stderr",
          "text": [
            "100%|██████████| 391/391 [00:36<00:00, 10.62it/s]\n"
          ]
        },
        {
          "output_type": "stream",
          "name": "stdout",
          "text": [
            "train loss of 121th epoch is 0.2999860644340515\n"
          ]
        },
        {
          "output_type": "stream",
          "name": "stderr",
          "text": [
            "100%|██████████| 391/391 [00:36<00:00, 10.62it/s]\n"
          ]
        },
        {
          "output_type": "stream",
          "name": "stdout",
          "text": [
            "train loss of 122th epoch is 0.16877858340740204\n"
          ]
        },
        {
          "output_type": "stream",
          "name": "stderr",
          "text": [
            "100%|██████████| 391/391 [00:36<00:00, 10.59it/s]\n"
          ]
        },
        {
          "output_type": "stream",
          "name": "stdout",
          "text": [
            "train loss of 123th epoch is 0.27332979440689087\n"
          ]
        },
        {
          "output_type": "stream",
          "name": "stderr",
          "text": [
            "100%|██████████| 391/391 [00:36<00:00, 10.63it/s]\n"
          ]
        },
        {
          "output_type": "stream",
          "name": "stdout",
          "text": [
            "train loss of 124th epoch is 0.3236779570579529\n"
          ]
        },
        {
          "output_type": "stream",
          "name": "stderr",
          "text": [
            "100%|██████████| 391/391 [00:36<00:00, 10.84it/s]\n"
          ]
        },
        {
          "output_type": "stream",
          "name": "stdout",
          "text": [
            "train loss of 125th epoch is 0.3200492858886719\n"
          ]
        },
        {
          "output_type": "stream",
          "name": "stderr",
          "text": [
            "100%|██████████| 391/391 [00:37<00:00, 10.53it/s]\n"
          ]
        },
        {
          "output_type": "stream",
          "name": "stdout",
          "text": [
            "train loss of 126th epoch is 0.15906263887882233\n"
          ]
        },
        {
          "output_type": "stream",
          "name": "stderr",
          "text": [
            "100%|██████████| 391/391 [00:36<00:00, 10.64it/s]\n"
          ]
        },
        {
          "output_type": "stream",
          "name": "stdout",
          "text": [
            "train loss of 127th epoch is 0.31194567680358887\n"
          ]
        },
        {
          "output_type": "stream",
          "name": "stderr",
          "text": [
            "100%|██████████| 391/391 [00:36<00:00, 10.60it/s]\n"
          ]
        },
        {
          "output_type": "stream",
          "name": "stdout",
          "text": [
            "train loss of 128th epoch is 0.4144640564918518\n"
          ]
        },
        {
          "output_type": "stream",
          "name": "stderr",
          "text": [
            "100%|██████████| 391/391 [00:37<00:00, 10.55it/s]\n"
          ]
        },
        {
          "output_type": "stream",
          "name": "stdout",
          "text": [
            "train loss of 129th epoch is 0.4819868505001068\n"
          ]
        },
        {
          "output_type": "stream",
          "name": "stderr",
          "text": [
            "100%|██████████| 391/391 [00:36<00:00, 10.67it/s]\n"
          ]
        },
        {
          "output_type": "stream",
          "name": "stdout",
          "text": [
            "train loss of 130th epoch is 0.2018166333436966\n"
          ]
        },
        {
          "output_type": "stream",
          "name": "stderr",
          "text": [
            "100%|██████████| 391/391 [00:36<00:00, 10.78it/s]\n"
          ]
        },
        {
          "output_type": "stream",
          "name": "stdout",
          "text": [
            "train loss of 131th epoch is 0.18057827651500702\n"
          ]
        },
        {
          "output_type": "stream",
          "name": "stderr",
          "text": [
            "100%|██████████| 391/391 [00:36<00:00, 10.61it/s]\n"
          ]
        },
        {
          "output_type": "stream",
          "name": "stdout",
          "text": [
            "train loss of 132th epoch is 0.32093626260757446\n"
          ]
        },
        {
          "output_type": "stream",
          "name": "stderr",
          "text": [
            "100%|██████████| 391/391 [00:36<00:00, 10.61it/s]\n"
          ]
        },
        {
          "output_type": "stream",
          "name": "stdout",
          "text": [
            "train loss of 133th epoch is 0.22217555344104767\n"
          ]
        },
        {
          "output_type": "stream",
          "name": "stderr",
          "text": [
            "100%|██████████| 391/391 [00:36<00:00, 10.61it/s]\n"
          ]
        },
        {
          "output_type": "stream",
          "name": "stdout",
          "text": [
            "train loss of 134th epoch is 0.19908280670642853\n"
          ]
        },
        {
          "output_type": "stream",
          "name": "stderr",
          "text": [
            "100%|██████████| 391/391 [00:36<00:00, 10.64it/s]\n"
          ]
        },
        {
          "output_type": "stream",
          "name": "stdout",
          "text": [
            "train loss of 135th epoch is 0.2814059853553772\n"
          ]
        },
        {
          "output_type": "stream",
          "name": "stderr",
          "text": [
            "100%|██████████| 391/391 [00:36<00:00, 10.78it/s]\n"
          ]
        },
        {
          "output_type": "stream",
          "name": "stdout",
          "text": [
            "train loss of 136th epoch is 0.2348887026309967\n"
          ]
        },
        {
          "output_type": "stream",
          "name": "stderr",
          "text": [
            "100%|██████████| 391/391 [00:36<00:00, 10.65it/s]\n"
          ]
        },
        {
          "output_type": "stream",
          "name": "stdout",
          "text": [
            "train loss of 137th epoch is 0.22723856568336487\n"
          ]
        },
        {
          "output_type": "stream",
          "name": "stderr",
          "text": [
            "100%|██████████| 391/391 [00:36<00:00, 10.57it/s]\n"
          ]
        },
        {
          "output_type": "stream",
          "name": "stdout",
          "text": [
            "train loss of 138th epoch is 0.2274671345949173\n"
          ]
        },
        {
          "output_type": "stream",
          "name": "stderr",
          "text": [
            "100%|██████████| 391/391 [00:37<00:00, 10.56it/s]\n"
          ]
        },
        {
          "output_type": "stream",
          "name": "stdout",
          "text": [
            "train loss of 139th epoch is 0.2886826992034912\n"
          ]
        },
        {
          "output_type": "stream",
          "name": "stderr",
          "text": [
            "100%|██████████| 391/391 [00:36<00:00, 10.58it/s]\n"
          ]
        },
        {
          "output_type": "stream",
          "name": "stdout",
          "text": [
            "train loss of 140th epoch is 0.2529231011867523\n"
          ]
        },
        {
          "output_type": "stream",
          "name": "stderr",
          "text": [
            "100%|██████████| 391/391 [00:36<00:00, 10.61it/s]\n"
          ]
        },
        {
          "output_type": "stream",
          "name": "stdout",
          "text": [
            "train loss of 141th epoch is 0.15185678005218506\n"
          ]
        },
        {
          "output_type": "stream",
          "name": "stderr",
          "text": [
            "100%|██████████| 391/391 [00:36<00:00, 10.84it/s]\n"
          ]
        },
        {
          "output_type": "stream",
          "name": "stdout",
          "text": [
            "train loss of 142th epoch is 0.21841230988502502\n"
          ]
        },
        {
          "output_type": "stream",
          "name": "stderr",
          "text": [
            "100%|██████████| 391/391 [00:37<00:00, 10.56it/s]\n"
          ]
        },
        {
          "output_type": "stream",
          "name": "stdout",
          "text": [
            "train loss of 143th epoch is 0.28697124123573303\n"
          ]
        },
        {
          "output_type": "stream",
          "name": "stderr",
          "text": [
            "100%|██████████| 391/391 [00:36<00:00, 10.59it/s]\n"
          ]
        },
        {
          "output_type": "stream",
          "name": "stdout",
          "text": [
            "train loss of 144th epoch is 0.21589291095733643\n"
          ]
        },
        {
          "output_type": "stream",
          "name": "stderr",
          "text": [
            "100%|██████████| 391/391 [00:36<00:00, 10.60it/s]\n"
          ]
        },
        {
          "output_type": "stream",
          "name": "stdout",
          "text": [
            "train loss of 145th epoch is 0.2333705872297287\n"
          ]
        },
        {
          "output_type": "stream",
          "name": "stderr",
          "text": [
            "100%|██████████| 391/391 [00:36<00:00, 10.59it/s]\n"
          ]
        },
        {
          "output_type": "stream",
          "name": "stdout",
          "text": [
            "train loss of 146th epoch is 0.36121299862861633\n"
          ]
        },
        {
          "output_type": "stream",
          "name": "stderr",
          "text": [
            "100%|██████████| 391/391 [00:36<00:00, 10.69it/s]\n"
          ]
        },
        {
          "output_type": "stream",
          "name": "stdout",
          "text": [
            "train loss of 147th epoch is 0.2679549753665924\n"
          ]
        },
        {
          "output_type": "stream",
          "name": "stderr",
          "text": [
            "100%|██████████| 391/391 [00:36<00:00, 10.76it/s]\n"
          ]
        },
        {
          "output_type": "stream",
          "name": "stdout",
          "text": [
            "train loss of 148th epoch is 0.20728692412376404\n"
          ]
        },
        {
          "output_type": "stream",
          "name": "stderr",
          "text": [
            "100%|██████████| 391/391 [00:37<00:00, 10.54it/s]\n"
          ]
        },
        {
          "output_type": "stream",
          "name": "stdout",
          "text": [
            "train loss of 149th epoch is 0.16163495182991028\n"
          ]
        },
        {
          "output_type": "stream",
          "name": "stderr",
          "text": [
            "100%|██████████| 391/391 [00:36<00:00, 10.61it/s]\n"
          ]
        },
        {
          "output_type": "stream",
          "name": "stdout",
          "text": [
            "train loss of 150th epoch is 0.17952652275562286\n"
          ]
        },
        {
          "output_type": "stream",
          "name": "stderr",
          "text": [
            "100%|██████████| 391/391 [00:36<00:00, 10.58it/s]\n"
          ]
        },
        {
          "output_type": "stream",
          "name": "stdout",
          "text": [
            "train loss of 151th epoch is 0.30312055349349976\n"
          ]
        },
        {
          "output_type": "stream",
          "name": "stderr",
          "text": [
            "100%|██████████| 391/391 [00:37<00:00, 10.55it/s]\n"
          ]
        },
        {
          "output_type": "stream",
          "name": "stdout",
          "text": [
            "train loss of 152th epoch is 0.1377721130847931\n"
          ]
        },
        {
          "output_type": "stream",
          "name": "stderr",
          "text": [
            "100%|██████████| 391/391 [00:36<00:00, 10.69it/s]\n"
          ]
        },
        {
          "output_type": "stream",
          "name": "stdout",
          "text": [
            "train loss of 153th epoch is 0.32390445470809937\n"
          ]
        },
        {
          "output_type": "stream",
          "name": "stderr",
          "text": [
            "100%|██████████| 391/391 [00:36<00:00, 10.65it/s]\n"
          ]
        },
        {
          "output_type": "stream",
          "name": "stdout",
          "text": [
            "train loss of 154th epoch is 0.12650541961193085\n"
          ]
        },
        {
          "output_type": "stream",
          "name": "stderr",
          "text": [
            "100%|██████████| 391/391 [00:37<00:00, 10.53it/s]\n"
          ]
        },
        {
          "output_type": "stream",
          "name": "stdout",
          "text": [
            "train loss of 155th epoch is 0.22135944664478302\n"
          ]
        },
        {
          "output_type": "stream",
          "name": "stderr",
          "text": [
            "100%|██████████| 391/391 [00:36<00:00, 10.60it/s]\n"
          ]
        },
        {
          "output_type": "stream",
          "name": "stdout",
          "text": [
            "train loss of 156th epoch is 0.2373921126127243\n"
          ]
        },
        {
          "output_type": "stream",
          "name": "stderr",
          "text": [
            "100%|██████████| 391/391 [00:36<00:00, 10.62it/s]\n"
          ]
        },
        {
          "output_type": "stream",
          "name": "stdout",
          "text": [
            "train loss of 157th epoch is 0.27520179748535156\n"
          ]
        },
        {
          "output_type": "stream",
          "name": "stderr",
          "text": [
            "100%|██████████| 391/391 [00:36<00:00, 10.58it/s]\n"
          ]
        },
        {
          "output_type": "stream",
          "name": "stdout",
          "text": [
            "train loss of 158th epoch is 0.1565733551979065\n"
          ]
        },
        {
          "output_type": "stream",
          "name": "stderr",
          "text": [
            "100%|██████████| 391/391 [00:36<00:00, 10.66it/s]\n"
          ]
        },
        {
          "output_type": "stream",
          "name": "stdout",
          "text": [
            "train loss of 159th epoch is 0.18831732869148254\n"
          ]
        },
        {
          "output_type": "stream",
          "name": "stderr",
          "text": [
            "100%|██████████| 391/391 [00:36<00:00, 10.80it/s]\n"
          ]
        },
        {
          "output_type": "stream",
          "name": "stdout",
          "text": [
            "train loss of 160th epoch is 0.2628485858440399\n"
          ]
        },
        {
          "output_type": "stream",
          "name": "stderr",
          "text": [
            "100%|██████████| 391/391 [00:37<00:00, 10.45it/s]\n"
          ]
        },
        {
          "output_type": "stream",
          "name": "stdout",
          "text": [
            "train loss of 161th epoch is 0.2172444760799408\n"
          ]
        },
        {
          "output_type": "stream",
          "name": "stderr",
          "text": [
            "100%|██████████| 391/391 [00:37<00:00, 10.50it/s]"
          ]
        },
        {
          "output_type": "stream",
          "name": "stdout",
          "text": [
            "train loss of 162th epoch is 0.19308187067508698\n",
            "Finished Training\n"
          ]
        },
        {
          "output_type": "stream",
          "name": "stderr",
          "text": [
            "\n"
          ]
        }
      ]
    },
    {
      "cell_type": "code",
      "source": [],
      "metadata": {
        "id": "eB7SwoDhQKij"
      },
      "execution_count": null,
      "outputs": []
    },
    {
      "cell_type": "code",
      "source": [],
      "metadata": {
        "id": "lHpNL-PFPOx2"
      },
      "execution_count": null,
      "outputs": []
    },
    {
      "cell_type": "code",
      "source": [],
      "metadata": {
        "id": "WP-uRSI40sxg"
      },
      "execution_count": null,
      "outputs": []
    },
    {
      "cell_type": "code",
      "source": [],
      "metadata": {
        "id": "05MdTdC_Bf5m"
      },
      "execution_count": null,
      "outputs": []
    },
    {
      "cell_type": "code",
      "source": [],
      "metadata": {
        "id": "IBn91fMeCbuY"
      },
      "execution_count": null,
      "outputs": []
    },
    {
      "cell_type": "markdown",
      "source": [
        "# Test"
      ],
      "metadata": {
        "id": "1tbiPqDsXLBz"
      }
    },
    {
      "cell_type": "code",
      "source": [
        "def test():\n",
        "\n",
        "    ####### not touch\n",
        "    model_name = MyModel\n",
        "    # /content/models/230412_2145/0.pth\n",
        "    #/content/models/230412_2208/1.pth\n",
        "    #/content/models/230416_0731/90.pth\n",
        "    checkpoint_path = './models/230416_0731/120.pth'  #수정 필요\n",
        "    mode = 'test' \n",
        "#     data_dir = \"./test_data\"\n",
        "#     meta_path = \"./answer.json\"\n",
        "    model = get_model(model_name,checkpoint_path)\n",
        "    #######\n",
        "    \n",
        "#     # Create training and validation datasets\n",
        "#     test_datasets = MyDataset(meta_path, data_dir, data_transforms['test'],is_train= False) #self,meta_path,root_dir,transform=None, is_train = True\n",
        "\n",
        "#     # Create training and validation dataloaders\n",
        "#     test_dataloader = torch.utils.data.DataLoader(test_datasets, batch_size=batch_size, shuffle=False, num_workers=4)\n",
        "\n",
        "    test_set = torchvision.datasets.CIFAR10(\n",
        "    root='./data', train=False, download=True, transform=data_transforms['test'])\n",
        "    \n",
        "    testloader = torch.utils.data.DataLoader(\n",
        "    test_set, batch_size=100, shuffle=False, num_workers=2)\n",
        "    \n",
        "    # Detect if we have a GPU available\n",
        "    device = torch.device(\"cuda\" if torch.cuda.is_available() else \"cpu\")\n",
        "    # device = torch.device(\"mps\") if torch.backends.mps.is_available() else \"cpu\"\n",
        "    \n",
        "    # Send the model to GPU\n",
        "    #multi-GPU\n",
        "    if torch.cuda.device_count() > 1:\n",
        "        model = nn.DataParallel(model)\n",
        "    model = model.to(device)\n",
        "\n",
        "    # Set model as evaluation mode\n",
        "    for param in model.parameters():\n",
        "        param.requires_grad = False\n",
        "    model.eval()\n",
        "    \n",
        "    # Inference\n",
        "    test_loss = 0\n",
        "    correct = 0\n",
        "    total = 0\n",
        "    criterion = nn.CrossEntropyLoss()\n",
        "    with torch.no_grad():\n",
        "        batch_idx = 0\n",
        "        for inputs, targets in tqdm(testloader):\n",
        "            inputs, targets = inputs.to(device), targets.to(device)\n",
        "            outputs = model(inputs)\n",
        "            loss = criterion(outputs, targets)\n",
        "            \n",
        "            test_loss += loss.item()\n",
        "            _, predicted = outputs.max(1)\n",
        "            total += targets.size(0)\n",
        "            correct += predicted.eq(targets).sum().item()\n",
        "            batch_idx = batch_idx + 1\n",
        "            print(batch_idx, len(testloader), 'Loss: %.3f | Acc: %.3f%% (%d/%d)'\n",
        "                         % (test_loss/(batch_idx+1), 100.*correct/total, correct, total))\n",
        "\n"
      ],
      "metadata": {
        "id": "I3c-yNepXKyU"
      },
      "execution_count": null,
      "outputs": []
    },
    {
      "cell_type": "code",
      "source": [
        "\n",
        "def main() :\n",
        "\n",
        "    random.seed(53)\n",
        "    test()\n",
        "\n",
        "   \n",
        "if __name__ == '__main__':\n",
        "    main()"
      ],
      "metadata": {
        "id": "naVOFMbcws6y",
        "colab": {
          "base_uri": "https://localhost:8080/"
        },
        "outputId": "827b2f97-58fe-4540-a19e-1cb3e19add33"
      },
      "execution_count": null,
      "outputs": [
        {
          "output_type": "stream",
          "name": "stdout",
          "text": [
            "start loading model parameter\n",
            "model parameter loaded\n",
            "Files already downloaded and verified\n"
          ]
        },
        {
          "output_type": "stream",
          "name": "stderr",
          "text": [
            "  4%|▍         | 4/100 [00:00<00:07, 12.36it/s]"
          ]
        },
        {
          "output_type": "stream",
          "name": "stdout",
          "text": [
            "1 100 Loss: 1.700 | Acc: 10.000% (10/100)\n",
            "2 100 Loss: 2.285 | Acc: 9.500% (19/200)\n",
            "3 100 Loss: 2.523 | Acc: 9.667% (29/300)\n",
            "4 100 Loss: 2.679 | Acc: 9.500% (38/400)\n",
            "5 100 Loss: 2.777 | Acc: 9.800% (49/500)\n"
          ]
        },
        {
          "output_type": "stream",
          "name": "stderr",
          "text": [
            " 10%|█         | 10/100 [00:00<00:04, 20.96it/s]"
          ]
        },
        {
          "output_type": "stream",
          "name": "stdout",
          "text": [
            "6 100 Loss: 2.840 | Acc: 9.333% (56/600)\n",
            "7 100 Loss: 2.883 | Acc: 10.000% (70/700)\n",
            "8 100 Loss: 2.940 | Acc: 9.750% (78/800)\n",
            "9 100 Loss: 2.962 | Acc: 10.333% (93/900)\n",
            "10 100 Loss: 2.994 | Acc: 10.300% (103/1000)\n",
            "11 100 Loss: 3.014 | Acc: 10.455% (115/1100)\n"
          ]
        },
        {
          "output_type": "stream",
          "name": "stderr",
          "text": [
            " 17%|█▋        | 17/100 [00:00<00:03, 26.69it/s]"
          ]
        },
        {
          "output_type": "stream",
          "name": "stdout",
          "text": [
            "12 100 Loss: 3.037 | Acc: 10.583% (127/1200)\n",
            "13 100 Loss: 3.074 | Acc: 10.462% (136/1300)\n",
            "14 100 Loss: 3.090 | Acc: 10.286% (144/1400)\n",
            "15 100 Loss: 3.125 | Acc: 10.067% (151/1500)\n",
            "16 100 Loss: 3.137 | Acc: 10.062% (161/1600)\n",
            "17 100 Loss: 3.149 | Acc: 10.000% (170/1700)\n",
            "18 100 Loss: 3.156 | Acc: 9.944% (179/1800)\n"
          ]
        },
        {
          "output_type": "stream",
          "name": "stderr",
          "text": [
            " 23%|██▎       | 23/100 [00:01<00:03, 24.87it/s]"
          ]
        },
        {
          "output_type": "stream",
          "name": "stdout",
          "text": [
            "19 100 Loss: 3.169 | Acc: 9.895% (188/1900)\n",
            "20 100 Loss: 3.170 | Acc: 9.950% (199/2000)\n",
            "21 100 Loss: 3.176 | Acc: 9.952% (209/2100)\n",
            "22 100 Loss: 3.178 | Acc: 9.864% (217/2200)\n",
            "23 100 Loss: 3.181 | Acc: 9.957% (229/2300)\n"
          ]
        },
        {
          "output_type": "stream",
          "name": "stderr",
          "text": [
            " 29%|██▉       | 29/100 [00:01<00:02, 24.64it/s]"
          ]
        },
        {
          "output_type": "stream",
          "name": "stdout",
          "text": [
            "24 100 Loss: 3.194 | Acc: 9.750% (234/2400)\n",
            "25 100 Loss: 3.202 | Acc: 9.680% (242/2500)\n",
            "26 100 Loss: 3.208 | Acc: 9.615% (250/2600)\n",
            "27 100 Loss: 3.216 | Acc: 9.667% (261/2700)\n",
            "28 100 Loss: 3.217 | Acc: 9.714% (272/2800)\n",
            "29 100 Loss: 3.215 | Acc: 9.828% (285/2900)\n"
          ]
        },
        {
          "output_type": "stream",
          "name": "stderr",
          "text": [
            "\r 32%|███▏      | 32/100 [00:01<00:02, 25.60it/s]"
          ]
        },
        {
          "output_type": "stream",
          "name": "stdout",
          "text": [
            "30 100 Loss: 3.215 | Acc: 9.833% (295/3000)\n",
            "31 100 Loss: 3.220 | Acc: 9.871% (306/3100)\n",
            "32 100 Loss: 3.226 | Acc: 9.844% (315/3200)\n",
            "33 100 Loss: 3.228 | Acc: 9.909% (327/3300)\n",
            "34 100 Loss: 3.234 | Acc: 9.882% (336/3400)\n",
            "35 100 Loss: 3.236 | Acc: 9.800% (343/3500)\n"
          ]
        },
        {
          "output_type": "stream",
          "name": "stderr",
          "text": [
            " 39%|███▉      | 39/100 [00:01<00:02, 26.19it/s]"
          ]
        },
        {
          "output_type": "stream",
          "name": "stdout",
          "text": [
            "36 100 Loss: 3.240 | Acc: 9.778% (352/3600)\n",
            "37 100 Loss: 3.240 | Acc: 9.865% (365/3700)\n",
            "38 100 Loss: 3.243 | Acc: 9.842% (374/3800)\n",
            "39 100 Loss: 3.252 | Acc: 9.769% (381/3900)\n",
            "40 100 Loss: 3.254 | Acc: 9.725% (389/4000)\n",
            "41 100 Loss: 3.258 | Acc: 9.707% (398/4100)\n"
          ]
        },
        {
          "output_type": "stream",
          "name": "stderr",
          "text": [
            " 46%|████▌     | 46/100 [00:01<00:02, 25.99it/s]"
          ]
        },
        {
          "output_type": "stream",
          "name": "stdout",
          "text": [
            "42 100 Loss: 3.260 | Acc: 9.738% (409/4200)\n",
            "43 100 Loss: 3.265 | Acc: 9.628% (414/4300)\n",
            "44 100 Loss: 3.266 | Acc: 9.614% (423/4400)\n",
            "45 100 Loss: 3.264 | Acc: 9.733% (438/4500)\n",
            "46 100 Loss: 3.261 | Acc: 9.826% (452/4600)\n",
            "47 100 Loss: 3.262 | Acc: 9.851% (463/4700)\n"
          ]
        },
        {
          "output_type": "stream",
          "name": "stderr",
          "text": [
            " 53%|█████▎    | 53/100 [00:02<00:01, 27.17it/s]"
          ]
        },
        {
          "output_type": "stream",
          "name": "stdout",
          "text": [
            "48 100 Loss: 3.260 | Acc: 9.833% (472/4800)\n",
            "49 100 Loss: 3.263 | Acc: 9.878% (484/4900)\n",
            "50 100 Loss: 3.260 | Acc: 9.960% (498/5000)\n",
            "51 100 Loss: 3.264 | Acc: 9.922% (506/5100)\n",
            "52 100 Loss: 3.262 | Acc: 9.923% (516/5200)\n",
            "53 100 Loss: 3.259 | Acc: 9.943% (527/5300)\n"
          ]
        },
        {
          "output_type": "stream",
          "name": "stderr",
          "text": [
            " 59%|█████▉    | 59/100 [00:02<00:01, 25.60it/s]"
          ]
        },
        {
          "output_type": "stream",
          "name": "stdout",
          "text": [
            "54 100 Loss: 3.261 | Acc: 9.963% (538/5400)\n",
            "55 100 Loss: 3.261 | Acc: 9.964% (548/5500)\n",
            "56 100 Loss: 3.257 | Acc: 10.071% (564/5600)\n",
            "57 100 Loss: 3.258 | Acc: 10.070% (574/5700)\n",
            "58 100 Loss: 3.258 | Acc: 10.052% (583/5800)\n",
            "59 100 Loss: 3.258 | Acc: 10.068% (594/5900)\n"
          ]
        },
        {
          "output_type": "stream",
          "name": "stderr",
          "text": [
            " 65%|██████▌   | 65/100 [00:02<00:01, 26.89it/s]"
          ]
        },
        {
          "output_type": "stream",
          "name": "stdout",
          "text": [
            "60 100 Loss: 3.260 | Acc: 10.033% (602/6000)\n",
            "61 100 Loss: 3.261 | Acc: 10.033% (612/6100)\n",
            "62 100 Loss: 3.261 | Acc: 10.065% (624/6200)\n",
            "63 100 Loss: 3.261 | Acc: 10.079% (635/6300)\n",
            "64 100 Loss: 3.261 | Acc: 10.078% (645/6400)\n",
            "65 100 Loss: 3.267 | Acc: 10.046% (653/6500)\n"
          ]
        },
        {
          "output_type": "stream",
          "name": "stderr",
          "text": [
            " 72%|███████▏  | 72/100 [00:02<00:00, 28.52it/s]"
          ]
        },
        {
          "output_type": "stream",
          "name": "stdout",
          "text": [
            "66 100 Loss: 3.269 | Acc: 10.015% (661/6600)\n",
            "67 100 Loss: 3.270 | Acc: 9.955% (667/6700)\n",
            "68 100 Loss: 3.271 | Acc: 10.015% (681/6800)\n",
            "69 100 Loss: 3.271 | Acc: 10.014% (691/6900)\n",
            "70 100 Loss: 3.273 | Acc: 10.000% (700/7000)\n",
            "71 100 Loss: 3.273 | Acc: 10.014% (711/7100)\n",
            "72 100 Loss: 3.275 | Acc: 9.958% (717/7200)\n"
          ]
        },
        {
          "output_type": "stream",
          "name": "stderr",
          "text": [
            " 78%|███████▊  | 78/100 [00:03<00:00, 28.50it/s]"
          ]
        },
        {
          "output_type": "stream",
          "name": "stdout",
          "text": [
            "73 100 Loss: 3.275 | Acc: 10.014% (731/7300)\n",
            "74 100 Loss: 3.274 | Acc: 10.068% (745/7400)\n",
            "75 100 Loss: 3.273 | Acc: 10.080% (756/7500)\n",
            "76 100 Loss: 3.275 | Acc: 10.066% (765/7600)\n",
            "77 100 Loss: 3.278 | Acc: 9.987% (769/7700)\n",
            "78 100 Loss: 3.275 | Acc: 10.026% (782/7800)\n"
          ]
        },
        {
          "output_type": "stream",
          "name": "stderr",
          "text": [
            " 84%|████████▍ | 84/100 [00:03<00:00, 26.63it/s]"
          ]
        },
        {
          "output_type": "stream",
          "name": "stdout",
          "text": [
            "79 100 Loss: 3.274 | Acc: 10.038% (793/7900)\n",
            "80 100 Loss: 3.276 | Acc: 10.050% (804/8000)\n",
            "81 100 Loss: 3.278 | Acc: 10.037% (813/8100)\n",
            "82 100 Loss: 3.279 | Acc: 10.073% (826/8200)\n",
            "83 100 Loss: 3.276 | Acc: 10.193% (846/8300)\n",
            "84 100 Loss: 3.276 | Acc: 10.226% (859/8400)\n"
          ]
        },
        {
          "output_type": "stream",
          "name": "stderr",
          "text": [
            " 90%|█████████ | 90/100 [00:03<00:00, 25.85it/s]"
          ]
        },
        {
          "output_type": "stream",
          "name": "stdout",
          "text": [
            "85 100 Loss: 3.276 | Acc: 10.224% (869/8500)\n",
            "86 100 Loss: 3.279 | Acc: 10.221% (879/8600)\n",
            "87 100 Loss: 3.279 | Acc: 10.264% (893/8700)\n",
            "88 100 Loss: 3.279 | Acc: 10.250% (902/8800)\n",
            "89 100 Loss: 3.280 | Acc: 10.225% (910/8900)\n",
            "90 100 Loss: 3.280 | Acc: 10.178% (916/9000)\n"
          ]
        },
        {
          "output_type": "stream",
          "name": "stderr",
          "text": [
            " 96%|█████████▌| 96/100 [00:03<00:00, 26.82it/s]"
          ]
        },
        {
          "output_type": "stream",
          "name": "stdout",
          "text": [
            "91 100 Loss: 3.282 | Acc: 10.143% (923/9100)\n",
            "92 100 Loss: 3.281 | Acc: 10.152% (934/9200)\n",
            "93 100 Loss: 3.282 | Acc: 10.172% (946/9300)\n",
            "94 100 Loss: 3.283 | Acc: 10.160% (955/9400)\n",
            "95 100 Loss: 3.284 | Acc: 10.168% (966/9500)\n",
            "96 100 Loss: 3.284 | Acc: 10.125% (972/9600)\n"
          ]
        },
        {
          "output_type": "stream",
          "name": "stderr",
          "text": [
            "100%|██████████| 100/100 [00:04<00:00, 25.00it/s]\n"
          ]
        },
        {
          "output_type": "stream",
          "name": "stdout",
          "text": [
            "97 100 Loss: 3.287 | Acc: 10.093% (979/9700)\n",
            "98 100 Loss: 3.287 | Acc: 10.071% (987/9800)\n",
            "99 100 Loss: 3.289 | Acc: 10.010% (991/9900)\n",
            "100 100 Loss: 3.289 | Acc: 10.030% (1003/10000)\n"
          ]
        }
      ]
    },
    {
      "cell_type": "code",
      "source": [],
      "metadata": {
        "id": "iMLkS_ODxUpW"
      },
      "execution_count": null,
      "outputs": []
    },
    {
      "cell_type": "code",
      "source": [],
      "metadata": {
        "id": "7VvpjPuSXB_K"
      },
      "execution_count": null,
      "outputs": []
    },
    {
      "cell_type": "code",
      "source": [],
      "metadata": {
        "id": "Lr5wy6A9WGOG"
      },
      "execution_count": null,
      "outputs": []
    }
  ]
}